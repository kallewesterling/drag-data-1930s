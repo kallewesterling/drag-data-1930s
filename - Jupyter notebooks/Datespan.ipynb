{
 "cells": [
  {
   "cell_type": "code",
   "execution_count": 6,
   "metadata": {},
   "outputs": [],
   "source": [
    "def get_check(year, month, tolerance=2):\n",
    "    all_dates = []\n",
    "\n",
    "    years = [x for x in range(1929, 1941)]\n",
    "    months = ['Jan', 'Feb', 'Mar', 'Apr', 'May', 'Jun', 'Jul', 'Aug', 'Sep', 'Oct', 'Nov', 'Dec']\n",
    "\n",
    "    for _year in years:\n",
    "        for _month in months:\n",
    "            all_dates.append((_year, _month))\n",
    "            \n",
    "    ix = all_dates.index((year, month))\n",
    "    \n",
    "    dates = [all_dates[ix + x] for x in range(-tolerance, tolerance+1)]\n",
    "    \n",
    "    check_years = []\n",
    "    check_months = []\n",
    "    for year, month in dates:\n",
    "        check_years.append(year)\n",
    "        check_months.append(month)\n",
    "    \n",
    "    return zip(check_years, check_months)"
   ]
  },
  {
   "cell_type": "code",
   "execution_count": 12,
   "metadata": {},
   "outputs": [
    {
     "name": "stdout",
     "output_type": "stream",
     "text": [
      "0\n",
      "1930 Jan\n",
      "\n",
      "1\n",
      "1929 Dec\n",
      "1930 Jan\n",
      "1930 Feb\n",
      "\n",
      "2\n",
      "1929 Nov\n",
      "1929 Dec\n",
      "1930 Jan\n",
      "1930 Feb\n",
      "1930 Mar\n",
      "\n",
      "3\n",
      "1929 Oct\n",
      "1929 Nov\n",
      "1929 Dec\n",
      "1930 Jan\n",
      "1930 Feb\n",
      "1930 Mar\n",
      "1930 Apr\n",
      "\n",
      "4\n",
      "1929 Sep\n",
      "1929 Oct\n",
      "1929 Nov\n",
      "1929 Dec\n",
      "1930 Jan\n",
      "1930 Feb\n",
      "1930 Mar\n",
      "1930 Apr\n",
      "1930 May\n",
      "\n",
      "5\n",
      "1929 Aug\n",
      "1929 Sep\n",
      "1929 Oct\n",
      "1929 Nov\n",
      "1929 Dec\n",
      "1930 Jan\n",
      "1930 Feb\n",
      "1930 Mar\n",
      "1930 Apr\n",
      "1930 May\n",
      "1930 Jun\n",
      "\n"
     ]
    }
   ],
   "source": [
    "for tolerance in [0, 1, 2, 3, 4, 5]:\n",
    "    print(tolerance)\n",
    "    for year, month in get_check(1930, 'Jan', tolerance=tolerance):\n",
    "        print(year, month)\n",
    "    print()"
   ]
  },
  {
   "cell_type": "code",
   "execution_count": null,
   "metadata": {},
   "outputs": [],
   "source": []
  },
  {
   "cell_type": "code",
   "execution_count": null,
   "metadata": {},
   "outputs": [],
   "source": []
  }
 ],
 "metadata": {
  "hide_input": false,
  "kernelspec": {
   "display_name": "Python 3",
   "language": "python",
   "name": "python3"
  },
  "language_info": {
   "codemirror_mode": {
    "name": "ipython",
    "version": 3
   },
   "file_extension": ".py",
   "mimetype": "text/x-python",
   "name": "python",
   "nbconvert_exporter": "python",
   "pygments_lexer": "ipython3",
   "version": "3.8.5"
  },
  "toc": {
   "base_numbering": 1,
   "nav_menu": {},
   "number_sections": true,
   "sideBar": true,
   "skip_h1_title": false,
   "title_cell": "Table of Contents",
   "title_sidebar": "Contents",
   "toc_cell": false,
   "toc_position": {},
   "toc_section_display": true,
   "toc_window_display": false
  }
 },
 "nbformat": 4,
 "nbformat_minor": 4
}
