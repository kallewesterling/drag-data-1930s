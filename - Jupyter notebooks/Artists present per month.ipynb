{
 "cells": [
  {
   "cell_type": "code",
   "execution_count": 153,
   "metadata": {},
   "outputs": [],
   "source": [
    "import datetime, maya, pytz, re\n",
    "import pandas as pd\n",
    "from tqdm.notebook import tqdm\n",
    "import json\n",
    "\n",
    "\n",
    "from matplotlib import pyplot as plt\n",
    "import seaborn as sns\n",
    "sns.set(font='Palatino',\n",
    "        rc={\n",
    " 'axes.axisbelow': False,\n",
    " 'axes.edgecolor': 'lightgrey',\n",
    " 'axes.facecolor': 'None',\n",
    " 'axes.grid': False,\n",
    " 'axes.labelcolor': 'dimgrey',\n",
    " 'axes.spines.right': False,\n",
    " 'axes.spines.top': False,\n",
    " 'figure.facecolor': 'white',\n",
    " 'lines.solid_capstyle': 'round',\n",
    " 'patch.edgecolor': 'w',\n",
    " 'patch.force_edgecolor': True,\n",
    " 'text.color': 'dimgrey',\n",
    " 'xtick.bottom': False,\n",
    " 'xtick.color': 'dimgrey',\n",
    " 'xtick.direction': 'out',\n",
    " 'xtick.top': False,\n",
    " 'ytick.color': 'dimgrey',\n",
    " 'ytick.direction': 'out',\n",
    " 'ytick.left': False,\n",
    " 'ytick.right': False})\n",
    "sns.set_context(\"notebook\", rc={\"font.size\":16,\n",
    "                                \"axes.titlesize\":20,\n",
    "                                \"axes.labelsize\":18})\n",
    "\n",
    "\n",
    "import matplotlib.font_manager as fm\n",
    "props = fm.FontProperties(fname='/System/Library/Fonts/Palatino.ttc')"
   ]
  },
  {
   "cell_type": "markdown",
   "metadata": {},
   "source": [
    "# Artists present per month\n",
    "\n",
    "The objective here for me is to see the persistence of artists over the course of months in the dataset, with a `start_date` and `end_date` set and a `tolerance`"
   ]
  },
  {
   "cell_type": "code",
   "execution_count": 154,
   "metadata": {},
   "outputs": [],
   "source": [
    "start_date = datetime.datetime(year=1930, month=1, day=1)\n",
    "end_date = datetime.datetime(year=1940, month=1, day=1)\n",
    "tolerance = datetime.timedelta(weeks=12)\n",
    "\n",
    "\n",
    "# Fix timezones\n",
    "timezone = pytz.timezone(\"UTC\")\n",
    "start_date = timezone.localize(start_date)\n",
    "end_date = timezone.localize(end_date)\n"
   ]
  },
  {
   "cell_type": "code",
   "execution_count": null,
   "metadata": {},
   "outputs": [],
   "source": []
  },
  {
   "cell_type": "code",
   "execution_count": 155,
   "metadata": {},
   "outputs": [],
   "source": [
    "'''\n",
    "def get_clean_df(df):\n",
    "    df = df.fillna('')\n",
    "    print(df[df['Category'] != '' and df['Performer'] != ''])\n",
    "    \n",
    "get_clean_df(df)\n",
    "\n",
    "'''\n",
    "pass"
   ]
  },
  {
   "cell_type": "code",
   "execution_count": null,
   "metadata": {},
   "outputs": [],
   "source": []
  },
  {
   "cell_type": "code",
   "execution_count": 156,
   "metadata": {},
   "outputs": [],
   "source": [
    "def get_clean_df(only_performer_and_venue=True):\n",
    "    def get_performer(row):\n",
    "        if row['Normalized performer'] != '':\n",
    "            return row['Normalized performer']\n",
    "        if row['Performer'] != '':\n",
    "            return row['Performer']\n",
    "        if row['Performer first-name'] != '' and row['Performer last-name'] != '':\n",
    "            return row['Performer first-name'] + ' ' + row['Performer last-name']\n",
    "        return ''\n",
    "\n",
    "    def get_revue(row):\n",
    "        if row['Normalized Revue Name'] != '':\n",
    "            return row['Normalized Revue Name']\n",
    "        if row['Revue name'] != '':\n",
    "            return row['Revue name']\n",
    "        return ''\n",
    "\n",
    "    def get_venue(row, get_unique_venue=True):\n",
    "        if get_unique_venue:\n",
    "            if row['Unique venue'] != '':\n",
    "                return row['Unique venue']\n",
    "\n",
    "        if row['Normalized Venue'] != '':\n",
    "            return row['Normalized Venue']\n",
    "        if row['Venue'] != '':\n",
    "            return row['Venue']\n",
    "        return ''\n",
    "\n",
    "    def get_city(row):\n",
    "        if row['Normalized City'] != '':\n",
    "            return row['Normalized City']\n",
    "        if row['City'] != '':\n",
    "            return row['City']\n",
    "        return ''\n",
    "\n",
    "    def get_source(row):\n",
    "        if row['Source clean'] != '':\n",
    "            return row['Source clean']\n",
    "        if row['Source'] != '':\n",
    "            return row['Source']\n",
    "        return ''\n",
    "\n",
    "    import maya\n",
    "    from maya import pendulum\n",
    "\n",
    "    def test_date(row, accept_only_full_dates=True):\n",
    "        if accept_only_full_dates and not re.search(r'\\d{4}\\-\\d{2}\\-\\d{2}', row[\"Date\"]):\n",
    "            return ''\n",
    "        try:\n",
    "            m = maya.parse(row[\"Date\"]).datetime()\n",
    "            return m\n",
    "        except pendulum.exceptions.ParserError:\n",
    "            return ''\n",
    "        except ValueError:\n",
    "            return ''\n",
    "\n",
    "    drop_columns = ['Legal name', 'Alleged age',\n",
    "    'Assumed birth year',\n",
    "    'EIMA', 'Search (newspapers.com)',\n",
    "    'Search (fulton)', 'Imported from former archive', 'Edge Comment',\n",
    "    'Exclude from visualization', 'Comment on node: performer',\n",
    "    'Comment on node: venue', 'Comment on node: city',\n",
    "    'Comment on edge: revue', 'Blackface', 'Sepia', 'Fan dancer/Sally Rand',\n",
    "    'Exotic/erotic/oriental dancer/Gypsy', 'Has image', 'Address',\n",
    "    'Vaudeville Circuit/Circus', 'Unsure whether drag artist']\n",
    "\n",
    "\n",
    "    df = pd.read_csv('https://docs.google.com/spreadsheets/d/e/2PACX-1vT0E0Y7txIa2pfBuusA1cd8X5OVhQ_D0qZC8D40KhTU3xB7McsPR2kuB7GH6ncmNT3nfjEYGbscOPp0/pub?gid=0&single=true&output=csv')\n",
    "\n",
    "    df = df.replace('—', '')\n",
    "    df = df.fillna('')\n",
    "\n",
    "\n",
    "    # Set the dates\n",
    "    df['Date'] = df.apply(lambda row: test_date(row), axis=1)\n",
    "\n",
    "    # No required date\n",
    "    no_date = df[(df['Date'] == '')].index\n",
    "    df = df.drop(no_date)\n",
    "\n",
    "    # Excluded\n",
    "    excluded = df[df['Exclude from visualization'] == True].index\n",
    "    df = df.drop(excluded)\n",
    "\n",
    "    # Excluded\n",
    "    unsure_drag = df[df['Unsure whether drag artist'] == True].index\n",
    "    df = df.drop(unsure_drag)\n",
    "\n",
    "    # Drop unnecessary columns\n",
    "    df = df.drop(['Category', 'Normalized City', 'City'], axis='columns')\n",
    "\n",
    "    # Fix performers\n",
    "    df['Performer'] = df.apply(lambda row: get_performer(row), axis=1)\n",
    "    df = df.drop(['Normalized performer', 'Performer first-name', 'Performer last-name'], axis='columns')\n",
    "\n",
    "    # Fix venue\n",
    "    df['Venue'] = df.apply(lambda row: get_venue(row), axis=1)\n",
    "    df = df.drop(['Normalized Venue', 'Unique venue'], axis='columns')\n",
    "\n",
    "    # Fix city *since we're using \"Unique venue\", we don't need city\n",
    "    # df['City'] = df.apply(lambda row: get_city(row), axis=1)\n",
    "    # df = df.drop(['Normalized City'], axis='columns')\n",
    "\n",
    "    # Fix revue\n",
    "    df['Revue'] = df.apply(lambda row: get_revue(row), axis=1)\n",
    "    df = df.drop(['Revue name', 'Normalized Revue Name'], axis='columns')\n",
    "\n",
    "    # Fix source\n",
    "    df['Source'] = df.apply(lambda row: get_source(row), axis=1)\n",
    "    df = df.drop(['Source clean'], axis='columns')\n",
    "\n",
    "    # drop rows with none of the required data\n",
    "    no_data = df[(df['Performer'] == '') & (df['Venue'] == '')].index \n",
    "    df = df.drop(no_data)\n",
    "\n",
    "    if only_performer_and_venue:\n",
    "        # drop rows with none of the required data\n",
    "        no_data = df[(df['Venue'] == '') | (df['Performer'] == '')].index \n",
    "        df = df.drop(no_data)\n",
    "\n",
    "    # Drop rest of columns\n",
    "    df = df.drop(drop_columns, axis='columns')\n",
    "    \n",
    "    return df"
   ]
  },
  {
   "cell_type": "code",
   "execution_count": 157,
   "metadata": {},
   "outputs": [],
   "source": [
    "df = get_clean_df()\n",
    "\n",
    "\n",
    "# FILTER\n",
    "\n",
    "def find_unnamed(row):\n",
    "    if 'unnamed' in row.Performer.lower():\n",
    "        return True\n",
    "    return False\n",
    "\n",
    "# Filtering by date\n",
    "filtered_df = df[(df[\"Date\"] >= start_date) & (df[\"Date\"] <= end_date)].copy()\n",
    "\n",
    "# Filter out unnamed performers\n",
    "filtered_df['Unnamed'] = filtered_df.apply(lambda row: find_unnamed(row), axis=1)\n",
    "unnamed = filtered_df[filtered_df['Unnamed'] == True].index\n",
    "filtered_df = filtered_df.drop(unnamed)\n",
    "\n",
    "# Remove duplicates of subset of Date - Performer - Venue\n",
    "duplicated = filtered_df[filtered_df.duplicated(subset=['Date', 'Performer', 'Venue'], keep='first')].index\n",
    "filtered_df.drop(duplicated)\n",
    "\n",
    "# Reset index\n",
    "filtered_df = filtered_df.reset_index()\n",
    "filtered_df = filtered_df.drop(['index'], axis='columns')\n",
    "\n",
    "# Sort by performer\n",
    "filtered_df = filtered_df.sort_values('Performer')"
   ]
  },
  {
   "cell_type": "code",
   "execution_count": null,
   "metadata": {},
   "outputs": [],
   "source": []
  },
  {
   "cell_type": "code",
   "execution_count": 158,
   "metadata": {},
   "outputs": [],
   "source": [
    "def get_check(month, tolerance=2):\n",
    "    check_years = []\n",
    "    check_months = []\n",
    "    \n",
    "    if tolerance == 0:\n",
    "        check_years = [year]\n",
    "        check_months = [month]\n",
    "\n",
    "    else:\n",
    "        if month == 'Jan':\n",
    "            if tolerance == 1:\n",
    "                check_years = [year-1, year]\n",
    "                check_months = ['Dec', 'Feb']\n",
    "            elif tolerance == 2:\n",
    "                check_years = [year-1, year-1, year, year]\n",
    "                check_months = ['Nov', 'Dec', 'Feb', 'Mar']\n",
    "            elif tolerance == 3:\n",
    "                check_years = [year-1, year-1, year-1, year, year, year]\n",
    "                check_months = ['Oct', 'Nov', 'Dec', 'Feb', 'Mar', 'Apr']\n",
    "        elif month == 'Feb':\n",
    "            if tolerance == 1:\n",
    "                check_years = [year, year]\n",
    "                check_months = ['Jan', 'Mar']\n",
    "            elif tolerance == 2:\n",
    "                check_years = [year-1, year, year, year]\n",
    "                check_months = ['Dec', 'Jan', 'Mar', 'Apr']\n",
    "            elif tolerance == 3:\n",
    "                check_years = [year-1, year-1, year, year, year, year]\n",
    "                check_months = ['Nov', 'Dec', 'Jan', 'Mar', 'Apr', 'May']\n",
    "        elif month == 'Mar':\n",
    "            if tolerance == 1:\n",
    "                check_years = [year, year]\n",
    "                check_months = ['Feb', 'Apr']\n",
    "            elif tolerance == 2:\n",
    "                check_years = [year, year, year, year]\n",
    "                check_months = ['Jan', 'Feb', 'Apr', 'May']\n",
    "            elif tolerance == 3:\n",
    "                check_years = [year-1, year, year, year, year, year]\n",
    "                check_months = ['Dec', 'Jan', 'Feb', 'Apr', 'May', 'Jun']\n",
    "        elif month == 'Apr':\n",
    "            if tolerance == 1:\n",
    "                check_years = [year, year]\n",
    "                check_months = ['Mar', 'May']\n",
    "            elif tolerance == 2:\n",
    "                check_years = [year, year, year, year]\n",
    "                check_months = ['Feb', 'Mar', 'May', 'Jun']\n",
    "            elif tolerance == 3:\n",
    "                check_years = [year, year, year, year, year, year]\n",
    "                check_months = ['Jan', 'Feb', 'Mar', 'May', 'Jun', 'Jul']\n",
    "        elif month == 'May':\n",
    "            if tolerance == 1:\n",
    "                check_years = [year, year]\n",
    "                check_months = ['Apr', 'Jun']\n",
    "            elif tolerance == 2:\n",
    "                check_years = [year, year, year, year]\n",
    "                check_months = ['Mar', 'Apr', 'Jun', 'Jul']\n",
    "            elif tolerance == 3:\n",
    "                check_years = [year, year, year, year, year, year]\n",
    "                check_months = ['Feb', 'Mar', 'Apr', 'Jun', 'Jul', 'Aug']\n",
    "        elif month == 'Jun':\n",
    "            if tolerance == 1:\n",
    "                check_years = [year, year]\n",
    "                check_months = ['May', 'Jul']\n",
    "            elif tolerance == 2:\n",
    "                check_years = [year, year, year, year]\n",
    "                check_months = ['Apr', 'May', 'Jul', 'Aug']\n",
    "            elif tolerance == 3:\n",
    "                check_years = [year, year, year, year, year, year]\n",
    "                check_months = ['Mar', 'Apr', 'May', 'Jul', 'Aug', 'Sep']\n",
    "        elif month == 'Jul':\n",
    "            if tolerance == 1:\n",
    "                check_years = [year, year]\n",
    "                check_months = ['Jun', 'Aug']\n",
    "            elif tolerance == 2:\n",
    "                check_years = [year, year, year, year]\n",
    "                check_months = ['May', 'Jun', 'Aug', 'Sep']\n",
    "            elif tolerance == 3:\n",
    "                check_years = [year, year, year, year, year, year]\n",
    "                check_months = ['Apr', 'May', 'Jun', 'Aug', 'Sep', 'Oct']\n",
    "        elif month == 'Aug':\n",
    "            if tolerance == 1:\n",
    "                check_years = [year, year]\n",
    "                check_months = ['Jul', 'Sep']\n",
    "            elif tolerance == 2:\n",
    "                check_years = [year, year, year, year]\n",
    "                check_months = ['Jun', 'Jul', 'Sep', 'Oct']\n",
    "            elif tolerance == 3:\n",
    "                check_years = [year, year, year, year, year, year]\n",
    "                check_months = ['May', 'Jun', 'Jul', 'Sep', 'Oct', 'Nov']\n",
    "        elif month == 'Sep':\n",
    "            if tolerance == 1:\n",
    "                check_years = [year, year]\n",
    "                check_months = ['Aug', 'Oct']\n",
    "            elif tolerance == 2:\n",
    "                check_years = [year, year, year, year]\n",
    "                check_months = ['Jul', 'Aug', 'Oct', 'Nov']\n",
    "            elif tolerance == 3:\n",
    "                check_years = [year, year, year, year, year, year]\n",
    "                check_months = ['Jun', 'Jul', 'Aug', 'Oct', 'Nov', 'Dec']\n",
    "        elif month == 'Oct':\n",
    "            if tolerance == 1:\n",
    "                check_years = [year, year]\n",
    "                check_months = ['Sep', 'Nov']\n",
    "            elif tolerance == 2:\n",
    "                check_years = [year, year, year, year]\n",
    "                check_months = ['Aug', 'Sep', 'Nov', 'Dec']\n",
    "            elif tolerance == 3:\n",
    "                check_years = [year, year, year, year, year, year+1]\n",
    "                check_months = ['Jul', 'Aug', 'Sep', 'Nov', 'Dec', 'Jan']\n",
    "        elif month == 'Nov':\n",
    "            if tolerance == 1:\n",
    "                check_years = [year, year]\n",
    "                check_months = ['Oct', 'Dec']\n",
    "            elif tolerance == 2:\n",
    "                check_years = [year, year, year, year+1]\n",
    "                check_months = ['Sep', 'Oct', 'Dec', 'Jan']\n",
    "            elif tolerance == 3:\n",
    "                check_years = [year, year, year, year, year+1, year+1]\n",
    "                check_months = ['Aug', 'Sep', 'Oct', 'Dec', 'Jan', 'Feb']\n",
    "        elif month == 'Dec':\n",
    "            if tolerance == 1:\n",
    "                check_years = [year, year+1]\n",
    "                check_months = ['Nov', 'Jan']\n",
    "            elif tolerance == 2:\n",
    "                check_years = [year, year, year+1, year+1]\n",
    "                check_months = ['Oct', 'Nov', 'Jan', 'Feb']\n",
    "            elif tolerance == 3:\n",
    "                check_years = [year, year, year, year+1, year+1, year+1]\n",
    "                check_months = ['Sep', 'Oct', 'Nov', 'Jan', 'Feb', 'Mar']\n",
    "        else:\n",
    "            raise RuntimeError('Unexpected month')\n",
    "    \n",
    "    return check_years, check_months\n",
    "\n",
    "\n",
    "def save_as_json(df, path):\n",
    "    rows = []\n",
    "    for ix,row in df.iterrows():\n",
    "        rows.append({\n",
    "            'date': ix.strftime('%Y-%m-%d'),\n",
    "            'month': row.month,\n",
    "            'num_artists': row.num_artists,\n",
    "            'year': row.year\n",
    "        })\n",
    "        \n",
    "    with open(path, 'w+') as fp:\n",
    "        json.dump(fp=fp, obj=rows)\n",
    "        \n",
    "    return True"
   ]
  },
  {
   "cell_type": "code",
   "execution_count": 161,
   "metadata": {},
   "outputs": [
    {
     "data": {
      "application/vnd.jupyter.widget-view+json": {
       "model_id": "",
       "version_major": 2,
       "version_minor": 0
      },
      "text/plain": [
       "HBox(children=(HTML(value=''), FloatProgress(value=0.0, max=10.0), HTML(value='')))"
      ]
     },
     "metadata": {},
     "output_type": "display_data"
    },
    {
     "data": {
      "application/vnd.jupyter.widget-view+json": {
       "model_id": "",
       "version_major": 2,
       "version_minor": 0
      },
      "text/plain": [
       "HBox(children=(HTML(value=''), FloatProgress(value=0.0, max=12.0), HTML(value='')))"
      ]
     },
     "metadata": {},
     "output_type": "display_data"
    },
    {
     "data": {
      "application/vnd.jupyter.widget-view+json": {
       "model_id": "",
       "version_major": 2,
       "version_minor": 0
      },
      "text/plain": [
       "HBox(children=(HTML(value=''), FloatProgress(value=0.0, max=12.0), HTML(value='')))"
      ]
     },
     "metadata": {},
     "output_type": "display_data"
    },
    {
     "data": {
      "application/vnd.jupyter.widget-view+json": {
       "model_id": "",
       "version_major": 2,
       "version_minor": 0
      },
      "text/plain": [
       "HBox(children=(HTML(value=''), FloatProgress(value=0.0, max=12.0), HTML(value='')))"
      ]
     },
     "metadata": {},
     "output_type": "display_data"
    },
    {
     "data": {
      "application/vnd.jupyter.widget-view+json": {
       "model_id": "",
       "version_major": 2,
       "version_minor": 0
      },
      "text/plain": [
       "HBox(children=(HTML(value=''), FloatProgress(value=0.0, max=12.0), HTML(value='')))"
      ]
     },
     "metadata": {},
     "output_type": "display_data"
    },
    {
     "data": {
      "application/vnd.jupyter.widget-view+json": {
       "model_id": "",
       "version_major": 2,
       "version_minor": 0
      },
      "text/plain": [
       "HBox(children=(HTML(value=''), FloatProgress(value=0.0, max=12.0), HTML(value='')))"
      ]
     },
     "metadata": {},
     "output_type": "display_data"
    },
    {
     "data": {
      "application/vnd.jupyter.widget-view+json": {
       "model_id": "",
       "version_major": 2,
       "version_minor": 0
      },
      "text/plain": [
       "HBox(children=(HTML(value=''), FloatProgress(value=0.0, max=12.0), HTML(value='')))"
      ]
     },
     "metadata": {},
     "output_type": "display_data"
    },
    {
     "data": {
      "application/vnd.jupyter.widget-view+json": {
       "model_id": "",
       "version_major": 2,
       "version_minor": 0
      },
      "text/plain": [
       "HBox(children=(HTML(value=''), FloatProgress(value=0.0, max=12.0), HTML(value='')))"
      ]
     },
     "metadata": {},
     "output_type": "display_data"
    },
    {
     "data": {
      "application/vnd.jupyter.widget-view+json": {
       "model_id": "",
       "version_major": 2,
       "version_minor": 0
      },
      "text/plain": [
       "HBox(children=(HTML(value=''), FloatProgress(value=0.0, max=12.0), HTML(value='')))"
      ]
     },
     "metadata": {},
     "output_type": "display_data"
    },
    {
     "data": {
      "application/vnd.jupyter.widget-view+json": {
       "model_id": "",
       "version_major": 2,
       "version_minor": 0
      },
      "text/plain": [
       "HBox(children=(HTML(value=''), FloatProgress(value=0.0, max=12.0), HTML(value='')))"
      ]
     },
     "metadata": {},
     "output_type": "display_data"
    },
    {
     "data": {
      "application/vnd.jupyter.widget-view+json": {
       "model_id": "",
       "version_major": 2,
       "version_minor": 0
      },
      "text/plain": [
       "HBox(children=(HTML(value=''), FloatProgress(value=0.0, max=12.0), HTML(value='')))"
      ]
     },
     "metadata": {},
     "output_type": "display_data"
    },
    {
     "data": {
      "application/vnd.jupyter.widget-view+json": {
       "model_id": "",
       "version_major": 2,
       "version_minor": 0
      },
      "text/plain": [
       "HBox(children=(HTML(value=''), FloatProgress(value=0.0, max=12.0), HTML(value='')))"
      ]
     },
     "metadata": {},
     "output_type": "display_data"
    },
    {
     "data": {
      "application/vnd.jupyter.widget-view+json": {
       "model_id": "",
       "version_major": 2,
       "version_minor": 0
      },
      "text/plain": [
       "HBox(children=(HTML(value=''), FloatProgress(value=0.0, max=12.0), HTML(value='')))"
      ]
     },
     "metadata": {},
     "output_type": "display_data"
    },
    {
     "data": {
      "application/vnd.jupyter.widget-view+json": {
       "model_id": "",
       "version_major": 2,
       "version_minor": 0
      },
      "text/plain": [
       "HBox(children=(HTML(value=''), FloatProgress(value=0.0, max=12.0), HTML(value='')))"
      ]
     },
     "metadata": {},
     "output_type": "display_data"
    },
    {
     "data": {
      "application/vnd.jupyter.widget-view+json": {
       "model_id": "",
       "version_major": 2,
       "version_minor": 0
      },
      "text/plain": [
       "HBox(children=(HTML(value=''), FloatProgress(value=0.0, max=12.0), HTML(value='')))"
      ]
     },
     "metadata": {},
     "output_type": "display_data"
    },
    {
     "data": {
      "application/vnd.jupyter.widget-view+json": {
       "model_id": "",
       "version_major": 2,
       "version_minor": 0
      },
      "text/plain": [
       "HBox(children=(HTML(value=''), FloatProgress(value=0.0, max=12.0), HTML(value='')))"
      ]
     },
     "metadata": {},
     "output_type": "display_data"
    },
    {
     "data": {
      "application/vnd.jupyter.widget-view+json": {
       "model_id": "",
       "version_major": 2,
       "version_minor": 0
      },
      "text/plain": [
       "HBox(children=(HTML(value=''), FloatProgress(value=0.0, max=12.0), HTML(value='')))"
      ]
     },
     "metadata": {},
     "output_type": "display_data"
    },
    {
     "data": {
      "application/vnd.jupyter.widget-view+json": {
       "model_id": "",
       "version_major": 2,
       "version_minor": 0
      },
      "text/plain": [
       "HBox(children=(HTML(value=''), FloatProgress(value=0.0, max=12.0), HTML(value='')))"
      ]
     },
     "metadata": {},
     "output_type": "display_data"
    },
    {
     "data": {
      "application/vnd.jupyter.widget-view+json": {
       "model_id": "",
       "version_major": 2,
       "version_minor": 0
      },
      "text/plain": [
       "HBox(children=(HTML(value=''), FloatProgress(value=0.0, max=12.0), HTML(value='')))"
      ]
     },
     "metadata": {},
     "output_type": "display_data"
    },
    {
     "data": {
      "application/vnd.jupyter.widget-view+json": {
       "model_id": "",
       "version_major": 2,
       "version_minor": 0
      },
      "text/plain": [
       "HBox(children=(HTML(value=''), FloatProgress(value=0.0, max=12.0), HTML(value='')))"
      ]
     },
     "metadata": {},
     "output_type": "display_data"
    },
    {
     "data": {
      "application/vnd.jupyter.widget-view+json": {
       "model_id": "",
       "version_major": 2,
       "version_minor": 0
      },
      "text/plain": [
       "HBox(children=(HTML(value=''), FloatProgress(value=0.0, max=12.0), HTML(value='')))"
      ]
     },
     "metadata": {},
     "output_type": "display_data"
    },
    {
     "data": {
      "application/vnd.jupyter.widget-view+json": {
       "model_id": "",
       "version_major": 2,
       "version_minor": 0
      },
      "text/plain": [
       "HBox(children=(HTML(value=''), FloatProgress(value=0.0, max=12.0), HTML(value='')))"
      ]
     },
     "metadata": {},
     "output_type": "display_data"
    },
    {
     "data": {
      "application/vnd.jupyter.widget-view+json": {
       "model_id": "",
       "version_major": 2,
       "version_minor": 0
      },
      "text/plain": [
       "HBox(children=(HTML(value=''), FloatProgress(value=0.0, max=12.0), HTML(value='')))"
      ]
     },
     "metadata": {},
     "output_type": "display_data"
    },
    {
     "data": {
      "application/vnd.jupyter.widget-view+json": {
       "model_id": "",
       "version_major": 2,
       "version_minor": 0
      },
      "text/plain": [
       "HBox(children=(HTML(value=''), FloatProgress(value=0.0, max=12.0), HTML(value='')))"
      ]
     },
     "metadata": {},
     "output_type": "display_data"
    },
    {
     "data": {
      "application/vnd.jupyter.widget-view+json": {
       "model_id": "",
       "version_major": 2,
       "version_minor": 0
      },
      "text/plain": [
       "HBox(children=(HTML(value=''), FloatProgress(value=0.0, max=12.0), HTML(value='')))"
      ]
     },
     "metadata": {},
     "output_type": "display_data"
    },
    {
     "data": {
      "application/vnd.jupyter.widget-view+json": {
       "model_id": "",
       "version_major": 2,
       "version_minor": 0
      },
      "text/plain": [
       "HBox(children=(HTML(value=''), FloatProgress(value=0.0, max=12.0), HTML(value='')))"
      ]
     },
     "metadata": {},
     "output_type": "display_data"
    },
    {
     "data": {
      "application/vnd.jupyter.widget-view+json": {
       "model_id": "",
       "version_major": 2,
       "version_minor": 0
      },
      "text/plain": [
       "HBox(children=(HTML(value=''), FloatProgress(value=0.0, max=12.0), HTML(value='')))"
      ]
     },
     "metadata": {},
     "output_type": "display_data"
    },
    {
     "data": {
      "application/vnd.jupyter.widget-view+json": {
       "model_id": "",
       "version_major": 2,
       "version_minor": 0
      },
      "text/plain": [
       "HBox(children=(HTML(value=''), FloatProgress(value=0.0, max=12.0), HTML(value='')))"
      ]
     },
     "metadata": {},
     "output_type": "display_data"
    },
    {
     "data": {
      "application/vnd.jupyter.widget-view+json": {
       "model_id": "",
       "version_major": 2,
       "version_minor": 0
      },
      "text/plain": [
       "HBox(children=(HTML(value=''), FloatProgress(value=0.0, max=12.0), HTML(value='')))"
      ]
     },
     "metadata": {},
     "output_type": "display_data"
    },
    {
     "data": {
      "application/vnd.jupyter.widget-view+json": {
       "model_id": "",
       "version_major": 2,
       "version_minor": 0
      },
      "text/plain": [
       "HBox(children=(HTML(value=''), FloatProgress(value=0.0, max=12.0), HTML(value='')))"
      ]
     },
     "metadata": {},
     "output_type": "display_data"
    },
    {
     "data": {
      "application/vnd.jupyter.widget-view+json": {
       "model_id": "",
       "version_major": 2,
       "version_minor": 0
      },
      "text/plain": [
       "HBox(children=(HTML(value=''), FloatProgress(value=0.0, max=12.0), HTML(value='')))"
      ]
     },
     "metadata": {},
     "output_type": "display_data"
    },
    {
     "data": {
      "application/vnd.jupyter.widget-view+json": {
       "model_id": "",
       "version_major": 2,
       "version_minor": 0
      },
      "text/plain": [
       "HBox(children=(HTML(value=''), FloatProgress(value=0.0, max=12.0), HTML(value='')))"
      ]
     },
     "metadata": {},
     "output_type": "display_data"
    },
    {
     "data": {
      "application/vnd.jupyter.widget-view+json": {
       "model_id": "",
       "version_major": 2,
       "version_minor": 0
      },
      "text/plain": [
       "HBox(children=(HTML(value=''), FloatProgress(value=0.0, max=12.0), HTML(value='')))"
      ]
     },
     "metadata": {},
     "output_type": "display_data"
    },
    {
     "data": {
      "application/vnd.jupyter.widget-view+json": {
       "model_id": "",
       "version_major": 2,
       "version_minor": 0
      },
      "text/plain": [
       "HBox(children=(HTML(value=''), FloatProgress(value=0.0, max=12.0), HTML(value='')))"
      ]
     },
     "metadata": {},
     "output_type": "display_data"
    },
    {
     "data": {
      "application/vnd.jupyter.widget-view+json": {
       "model_id": "",
       "version_major": 2,
       "version_minor": 0
      },
      "text/plain": [
       "HBox(children=(HTML(value=''), FloatProgress(value=0.0, max=12.0), HTML(value='')))"
      ]
     },
     "metadata": {},
     "output_type": "display_data"
    },
    {
     "data": {
      "application/vnd.jupyter.widget-view+json": {
       "model_id": "",
       "version_major": 2,
       "version_minor": 0
      },
      "text/plain": [
       "HBox(children=(HTML(value=''), FloatProgress(value=0.0, max=12.0), HTML(value='')))"
      ]
     },
     "metadata": {},
     "output_type": "display_data"
    },
    {
     "data": {
      "application/vnd.jupyter.widget-view+json": {
       "model_id": "",
       "version_major": 2,
       "version_minor": 0
      },
      "text/plain": [
       "HBox(children=(HTML(value=''), FloatProgress(value=0.0, max=12.0), HTML(value='')))"
      ]
     },
     "metadata": {},
     "output_type": "display_data"
    },
    {
     "data": {
      "application/vnd.jupyter.widget-view+json": {
       "model_id": "",
       "version_major": 2,
       "version_minor": 0
      },
      "text/plain": [
       "HBox(children=(HTML(value=''), FloatProgress(value=0.0, max=12.0), HTML(value='')))"
      ]
     },
     "metadata": {},
     "output_type": "display_data"
    },
    {
     "data": {
      "application/vnd.jupyter.widget-view+json": {
       "model_id": "",
       "version_major": 2,
       "version_minor": 0
      },
      "text/plain": [
       "HBox(children=(HTML(value=''), FloatProgress(value=0.0, max=12.0), HTML(value='')))"
      ]
     },
     "metadata": {},
     "output_type": "display_data"
    },
    {
     "data": {
      "application/vnd.jupyter.widget-view+json": {
       "model_id": "",
       "version_major": 2,
       "version_minor": 0
      },
      "text/plain": [
       "HBox(children=(HTML(value=''), FloatProgress(value=0.0, max=12.0), HTML(value='')))"
      ]
     },
     "metadata": {},
     "output_type": "display_data"
    },
    {
     "data": {
      "application/vnd.jupyter.widget-view+json": {
       "model_id": "",
       "version_major": 2,
       "version_minor": 0
      },
      "text/plain": [
       "HBox(children=(HTML(value=''), FloatProgress(value=0.0, max=12.0), HTML(value='')))"
      ]
     },
     "metadata": {},
     "output_type": "display_data"
    },
    {
     "data": {
      "application/vnd.jupyter.widget-view+json": {
       "model_id": "",
       "version_major": 2,
       "version_minor": 0
      },
      "text/plain": [
       "HBox(children=(HTML(value=''), FloatProgress(value=0.0, max=12.0), HTML(value='')))"
      ]
     },
     "metadata": {},
     "output_type": "display_data"
    },
    {
     "data": {
      "application/vnd.jupyter.widget-view+json": {
       "model_id": "",
       "version_major": 2,
       "version_minor": 0
      },
      "text/plain": [
       "HBox(children=(HTML(value=''), FloatProgress(value=0.0, max=12.0), HTML(value='')))"
      ]
     },
     "metadata": {},
     "output_type": "display_data"
    },
    {
     "data": {
      "application/vnd.jupyter.widget-view+json": {
       "model_id": "",
       "version_major": 2,
       "version_minor": 0
      },
      "text/plain": [
       "HBox(children=(HTML(value=''), FloatProgress(value=0.0, max=12.0), HTML(value='')))"
      ]
     },
     "metadata": {},
     "output_type": "display_data"
    },
    {
     "data": {
      "application/vnd.jupyter.widget-view+json": {
       "model_id": "",
       "version_major": 2,
       "version_minor": 0
      },
      "text/plain": [
       "HBox(children=(HTML(value=''), FloatProgress(value=0.0, max=12.0), HTML(value='')))"
      ]
     },
     "metadata": {},
     "output_type": "display_data"
    },
    {
     "data": {
      "application/vnd.jupyter.widget-view+json": {
       "model_id": "",
       "version_major": 2,
       "version_minor": 0
      },
      "text/plain": [
       "HBox(children=(HTML(value=''), FloatProgress(value=0.0, max=12.0), HTML(value='')))"
      ]
     },
     "metadata": {},
     "output_type": "display_data"
    },
    {
     "data": {
      "application/vnd.jupyter.widget-view+json": {
       "model_id": "",
       "version_major": 2,
       "version_minor": 0
      },
      "text/plain": [
       "HBox(children=(HTML(value=''), FloatProgress(value=0.0, max=12.0), HTML(value='')))"
      ]
     },
     "metadata": {},
     "output_type": "display_data"
    },
    {
     "data": {
      "application/vnd.jupyter.widget-view+json": {
       "model_id": "",
       "version_major": 2,
       "version_minor": 0
      },
      "text/plain": [
       "HBox(children=(HTML(value=''), FloatProgress(value=0.0, max=12.0), HTML(value='')))"
      ]
     },
     "metadata": {},
     "output_type": "display_data"
    },
    {
     "data": {
      "application/vnd.jupyter.widget-view+json": {
       "model_id": "",
       "version_major": 2,
       "version_minor": 0
      },
      "text/plain": [
       "HBox(children=(HTML(value=''), FloatProgress(value=0.0, max=12.0), HTML(value='')))"
      ]
     },
     "metadata": {},
     "output_type": "display_data"
    },
    {
     "data": {
      "application/vnd.jupyter.widget-view+json": {
       "model_id": "",
       "version_major": 2,
       "version_minor": 0
      },
      "text/plain": [
       "HBox(children=(HTML(value=''), FloatProgress(value=0.0, max=12.0), HTML(value='')))"
      ]
     },
     "metadata": {},
     "output_type": "display_data"
    },
    {
     "data": {
      "image/png": "[encoded data removed]",
      "text/plain": [
       "<Figure size 1080x360 with 1 Axes>"
      ]
     },
     "metadata": {},
     "output_type": "display_data"
    },
    {
     "data": {
      "image/png": "[encoded data removed]",
      "text/plain": [
       "<Figure size 1080x360 with 1 Axes>"
      ]
     },
     "metadata": {},
     "output_type": "display_data"
    },
    {
     "data": {
      "image/png": "[encoded data removed]",
      "text/plain": [
       "<Figure size 1080x360 with 1 Axes>"
      ]
     },
     "metadata": {},
     "output_type": "display_data"
    },
    {
     "data": {
      "image/png": "[encoded data removed]",
      "text/plain": [
       "<Figure size 1080x360 with 1 Axes>"
      ]
     },
     "metadata": {},
     "output_type": "display_data"
    }
   ],
   "source": [
    "from collections import OrderedDict\n",
    "\n",
    "calendar = OrderedDict()\n",
    "months = ['', 'Jan', 'Feb', 'Mar', 'Apr', 'May', 'Jun', 'Jul', 'Aug', 'Sep', 'Oct', 'Nov', 'Dec']\n",
    "\n",
    "for performer, data in filtered_df.groupby('Performer'):\n",
    "    for date in data.Date:\n",
    "        year = date.year\n",
    "        # month = f'{date.month:02d}'\n",
    "        month = months[date.month]\n",
    "        \n",
    "        if not year in calendar:\n",
    "            calendar[year] = {'Jan': [], 'Feb': [], 'Mar': [], 'Apr': [], 'May': [], 'Jun': [], 'Jul': [], 'Aug': [], 'Sep': [], 'Oct': [], 'Nov': [], 'Dec': []}\n",
    "        if not month in calendar[year]:\n",
    "            calendar[year][month] = []\n",
    "        if not performer in calendar[year][month]:\n",
    "            calendar[year][month].append(performer)\n",
    "        \n",
    "    # print([f'{x.year}-{x.month}' for x in data.Date])\n",
    "    \n",
    "    \n",
    "tolerances = [0,1,2,3]\n",
    "calendars = {}\n",
    "\n",
    "def get_label(tolerance):\n",
    "    if tolerance == 0:\n",
    "        pass\n",
    "    return \"Concurrent number of artists in the U.S. every month\"\n",
    "\n",
    "def get_explanation(tolerance):\n",
    "    if tolerance == 0:\n",
    "        return \"The curve in this graph shows the number of performers in the dataset who appeared in any given nightclub or theatre at any given month between 1930 and 1940.\"\n",
    "    if tolerance == 1:\n",
    "        return \"The curve in this graph shows the number of performers in the dataset who appeared in any given nightclub or theatre at any given month between 1930 and 1940,\\ngiven that an appearance means that they might have appeared there the month prior or after the appearance in the dataset.\"\n",
    "    if tolerance == 2:\n",
    "        return \"The curve in this graph shows the number of performers in the dataset who appeared in any given nightclub or theatre at any given month between 1930 and 1940,\\ngiven that an appearance means that they might have appeared there the two months prior or after the appearance in the dataset.\"\n",
    "    if tolerance == 3:\n",
    "        return \"The curve in this graph shows the number of performers in the dataset who appeared in any given nightclub or theatre at any given month between 1930 and 1940,\\ngiven that an appearance means that they might have appeared there the three months prior or after the appearance in the dataset.\"\n",
    "    return \"\"\n",
    "\n",
    "\n",
    "\n",
    "for tolerance in tolerances:\n",
    "    filled_calendar = calendar.copy()\n",
    "\n",
    "    for year, months in calendar.items():\n",
    "        for month in months:\n",
    "            check_years, check_months = get_check(month, tolerance=tolerance)\n",
    "\n",
    "            for artist in calendar[year][month]:\n",
    "                for y, m in zip(check_years, check_months):\n",
    "                    if not y in filled_calendar:\n",
    "                        filled_calendar[y] = {'Jan': [], 'Feb': [], 'Mar': [], 'Apr': [], 'May': [], 'Jun': [], 'Jul': [], 'Aug': [], 'Sep': [], 'Oct': [], 'Nov': [], 'Dec': []}\n",
    "                    if not artist in filled_calendar[y][m]:\n",
    "                        filled_calendar[y][m].append(artist)\n",
    "                        \n",
    "    calendars[tolerance] = OrderedDict()\n",
    "\n",
    "    for key in sorted(filled_calendar.keys()):\n",
    "        calendars[tolerance][key] = filled_calendar[key]\n",
    "        \n",
    "    df_summary = pd.DataFrame()\n",
    "\n",
    "    for year, months in tqdm(calendars[tolerance].items(), leave=False):\n",
    "        for month in tqdm(months, leave=False):\n",
    "            artists = list(set(calendars[tolerance][year][month]))\n",
    "            d = {'month': month, 'year': year, 'num_artists': len(artists)}\n",
    "            s = pd.Series(d, name=pd.to_datetime(f'{year}-{month}'))\n",
    "            df_summary = df_summary.append(s)\n",
    "\n",
    "    df_summary['num_artists'] = df_summary['num_artists'].astype(int)\n",
    "    df_summary['year'] = df_summary['year'].astype(int)\n",
    "\n",
    "    save_as_json(df_summary, f'../../drag-data-browser/docs/data/continuous-performances-tolerance-{tolerance}.json')\n",
    "    \n",
    "    figure, ax1 = plt.subplots(figsize=(15,5))\n",
    "    plt.suptitle('Continuous performers in dataset', y=1.05, fontsize=18)\n",
    "    plt.title('', fontsize=10)\n",
    "    plt.text(x=0.13, y=0.9, s=get_explanation(tolerance), fontsize=12, transform=figure.transFigure)\n",
    "    # ax1.title.set_text(f'Tolerance: ±{tolerance} months')\n",
    "    ax1.plot(df_summary.index,df_summary['num_artists'],linewidth=0.5,zorder=1, label = get_label(tolerance))\n",
    "    ax1.legend()\n",
    "    # plt.savefig('destination_path.eps', format='eps')\n"
   ]
  },
  {
   "cell_type": "code",
   "execution_count": null,
   "metadata": {},
   "outputs": [],
   "source": []
  },
  {
   "cell_type": "code",
   "execution_count": null,
   "metadata": {},
   "outputs": [],
   "source": []
  },
  {
   "cell_type": "code",
   "execution_count": null,
   "metadata": {},
   "outputs": [],
   "source": []
  },
  {
   "cell_type": "code",
   "execution_count": null,
   "metadata": {},
   "outputs": [],
   "source": []
  },
  {
   "cell_type": "code",
   "execution_count": null,
   "metadata": {},
   "outputs": [],
   "source": []
  },
  {
   "cell_type": "code",
   "execution_count": null,
   "metadata": {},
   "outputs": [],
   "source": []
  },
  {
   "cell_type": "code",
   "execution_count": null,
   "metadata": {},
   "outputs": [],
   "source": []
  }
 ],
 "metadata": {
  "hide_input": false,
  "kernelspec": {
   "display_name": "Python 3",
   "language": "python",
   "name": "python3"
  },
  "language_info": {
   "codemirror_mode": {
    "name": "ipython",
    "version": 3
   },
   "file_extension": ".py",
   "mimetype": "text/x-python",
   "name": "python",
   "nbconvert_exporter": "python",
   "pygments_lexer": "ipython3",
   "version": "3.8.5"
  },
  "toc": {
   "base_numbering": 1,
   "nav_menu": {},
   "number_sections": true,
   "sideBar": true,
   "skip_h1_title": false,
   "title_cell": "Table of Contents",
   "title_sidebar": "Contents",
   "toc_cell": false,
   "toc_position": {},
   "toc_section_display": true,
   "toc_window_display": false
  }
 },
 "nbformat": 4,
 "nbformat_minor": 4
}
