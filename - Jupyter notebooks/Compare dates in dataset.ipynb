{
 "cells": [
  {
   "cell_type": "code",
   "execution_count": 1,
   "metadata": {},
   "outputs": [],
   "source": [
    "# Compare dates in the datasets\n",
    "\n",
    "from assistance.utils import log\n",
    "from assistance.data import get_clean_network_data\n",
    "from assistance.constants import urls\n",
    "import datetime"
   ]
  },
  {
   "cell_type": "code",
   "execution_count": 2,
   "metadata": {},
   "outputs": [
    {
     "name": "stdout",
     "output_type": "stream",
     "text": [
      "1932-10-26 exists in v1 but not in live\n",
      "1935-01-06 exists in v1 but not in live\n",
      "1935-03-03 exists in v1 but not in live\n",
      "1935-03-31 exists in v1 but not in live\n",
      "1935-05-26 exists in v1 but not in live\n",
      "1935-06-16 exists in v1 but not in live\n",
      "1935-07-14 exists in v1 but not in live\n",
      "1935-09-19 exists in v1 but not in live\n",
      "1935-09-28 exists in v1 but not in live\n",
      "1935-09-29 exists in v1 but not in live\n",
      "1935-10-05 exists in v1 but not in live\n",
      "1935-10-10 exists in v1 but not in live\n",
      "1935-10-13 exists in v1 but not in live\n",
      "1935-10-20 exists in v1 but not in live\n",
      "1935-11-03 exists in v1 but not in live\n",
      "1935-11-12 exists in v1 but not in live\n",
      "1935-11-15 exists in v1 but not in live\n",
      "1937-10-28 exists in v1 but not in live\n",
      "1938-01-03 exists in v1 but not in live\n",
      "1938-01-27 exists in v1 but not in live\n",
      "1938-02-02 exists in v1 but not in live\n",
      "1938-02-07 exists in v1 but not in live\n",
      "1938-02-14 exists in v1 but not in live\n",
      "1938-04-15 exists in v1 but not in live\n",
      "1938-10-11 exists in v1 but not in live\n",
      "1940-03-13 exists in v1 but not in live\n"
     ]
    }
   ],
   "source": [
    "v1_df = get_clean_network_data(url=urls[0]['url'], verbose=False)\n",
    "live_df = get_clean_network_data(url=urls[1]['url'], verbose=False)\n",
    "\n",
    "diff_dates = set([x for x in v1_df.sort_values('Date').Date]).difference(set([x for x in live_df.sort_values('Date').Date]))\n",
    "diff_dates = list(diff_dates)\n",
    "diff_dates.sort()\n",
    "\n",
    "for date in diff_dates:\n",
    "    if len(v1_df[v1_df.Date == date]) > len(live_df[live_df.Date == date]):\n",
    "        print(date, 'exists in v1 but not in live')\n",
    "    if len(v1_df[v1_df.Date == date]) < len(live_df[live_df.Date == date]):\n",
    "        print(date, 'exists in live but not in v1')"
   ]
  },
  {
   "cell_type": "code",
   "execution_count": null,
   "metadata": {},
   "outputs": [],
   "source": []
  }
 ],
 "metadata": {
  "hide_input": false,
  "kernelspec": {
   "display_name": "Python 3",
   "language": "python",
   "name": "python3"
  },
  "language_info": {
   "codemirror_mode": {
    "name": "ipython",
    "version": 3
   },
   "file_extension": ".py",
   "mimetype": "text/x-python",
   "name": "python",
   "nbconvert_exporter": "python",
   "pygments_lexer": "ipython3",
   "version": "3.8.5"
  },
  "toc": {
   "base_numbering": 1,
   "nav_menu": {},
   "number_sections": true,
   "sideBar": true,
   "skip_h1_title": false,
   "title_cell": "Table of Contents",
   "title_sidebar": "Contents",
   "toc_cell": false,
   "toc_position": {},
   "toc_section_display": true,
   "toc_window_display": false
  }
 },
 "nbformat": 4,
 "nbformat_minor": 4
}
