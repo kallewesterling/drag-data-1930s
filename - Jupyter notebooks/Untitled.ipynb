{
 "cells": [
  {
   "cell_type": "code",
   "execution_count": 30,
   "metadata": {},
   "outputs": [],
   "source": [
    "import pandas as pd\n",
    "from django.utils.text import slugify"
   ]
  },
  {
   "cell_type": "code",
   "execution_count": 34,
   "metadata": {},
   "outputs": [],
   "source": [
    "prohibited_starting_characters = '_.-'"
   ]
  },
  {
   "cell_type": "code",
   "execution_count": 7,
   "metadata": {},
   "outputs": [],
   "source": [
    "df = pd.read_csv('https://docs.google.com/spreadsheets/d/e/2PACX-1vT0E0Y7txIa2pfBuusA1cd8X5OVhQ_D0qZC8D40KhTU3xB7McsPR2kuB7GH6ncmNT3nfjEYGbscOPp0/pub?gid=0&single=true&output=csv')"
   ]
  },
  {
   "cell_type": "code",
   "execution_count": 55,
   "metadata": {},
   "outputs": [],
   "source": [
    "def clean(string):\n",
    "    for character in prohibited_starting_characters:\n",
    "        while string.startswith(character):\n",
    "            string = string[1:]\n",
    "        \n",
    "    if string == '-' or string == '–' or string == '—':\n",
    "        string = ''\n",
    "        \n",
    "    if string == '?':\n",
    "        string = ''\n",
    "    \n",
    "    #### Done, now return\n",
    "    if string == '':\n",
    "        return None\n",
    "    \n",
    "    return string\n",
    "    \n",
    "\n",
    "for index, row in [x for x in df.iterrows()][:10]:\n",
    "    city = row['Normalized City']\n",
    "    if not city:\n",
    "        city = row['City']\n",
    "\n",
    "    venue = row['Venue']\n",
    "\n",
    "    performer = row['Normalized performer']\n",
    "    if not performer:\n",
    "        performer = row['Performer']\n",
    "        \n",
    "    performer = clean(performer)\n",
    "    city = clean(city)\n",
    "    venue = clean(venue)\n",
    "    \n",
    "    nodes = [\n",
    "        {'category': 'performer', 'display': performer, 'id': slugify(performer)},\n",
    "        {'category': 'venue', 'display': venue, 'id': slugify(venue)},\n",
    "        {'category': 'city', 'display': city, 'id': slugify(city)},\n",
    "    ]\n",
    "    \n",
    "    nodes = [x for x in nodes if x['id'] != 'none']"
   ]
  },
  {
   "cell_type": "code",
   "execution_count": 75,
   "metadata": {},
   "outputs": [
    {
     "data": {
      "text/plain": [
       "2"
      ]
     },
     "execution_count": 75,
     "metadata": {},
     "output_type": "execute_result"
    }
   ],
   "source": [
    "len(nodes)"
   ]
  },
  {
   "cell_type": "code",
   "execution_count": null,
   "metadata": {},
   "outputs": [],
   "source": []
  },
  {
   "cell_type": "code",
   "execution_count": null,
   "metadata": {},
   "outputs": [],
   "source": []
  }
 ],
 "metadata": {
  "kernelspec": {
   "display_name": "Python 3",
   "language": "python",
   "name": "python3"
  },
  "language_info": {
   "codemirror_mode": {
    "name": "ipython",
    "version": 3
   },
   "file_extension": ".py",
   "mimetype": "text/x-python",
   "name": "python",
   "nbconvert_exporter": "python",
   "pygments_lexer": "ipython3",
   "version": "3.8.5"
  }
 },
 "nbformat": 4,
 "nbformat_minor": 4
}
