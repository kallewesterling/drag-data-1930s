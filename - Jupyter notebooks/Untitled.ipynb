{
 "cells": [
  {
   "cell_type": "code",
   "execution_count": null,
   "metadata": {},
   "outputs": [],
   "source": []
  },
  {
   "cell_type": "code",
   "execution_count": null,
   "metadata": {},
   "outputs": [],
   "source": []
  },
  {
   "cell_type": "code",
   "execution_count": null,
   "metadata": {},
   "outputs": [],
   "source": []
  },
  {
   "cell_type": "code",
   "execution_count": 8,
   "metadata": {},
   "outputs": [],
   "source": []
  },
  {
   "cell_type": "code",
   "execution_count": 46,
   "metadata": {},
   "outputs": [],
   "source": [
    "all_dates = []\n",
    "\n",
    "years = [x for x in range(1929, 1941)]\n",
    "months = ['Jan', 'Feb', 'Mar', 'Apr', 'May', 'Jun', 'Jul', 'Aug', 'Sep', 'Oct', 'Nov', 'Dec']\n",
    "\n",
    "for year in years:\n",
    "    for month in months:\n",
    "        all_dates.append((year, month))"
   ]
  },
  {
   "cell_type": "code",
   "execution_count": null,
   "metadata": {},
   "outputs": [],
   "source": []
  },
  {
   "cell_type": "code",
   "execution_count": 51,
   "metadata": {},
   "outputs": [],
   "source": [
    "month = 'Dec'\n",
    "year = 1939\n",
    "diffs = [0, 1, 2, 3, 4, 5] # used to be tolerance\n",
    "\n",
    "######\n",
    "\n",
    "for diff in diffs:\n",
    "    ix = all_dates.index((year, month))\n",
    "    dates = [all_dates[ix + x] for x in range(-diff, diff+1)]"
   ]
  },
  {
   "cell_type": "code",
   "execution_count": 52,
   "metadata": {},
   "outputs": [
    {
     "name": "stdout",
     "output_type": "stream",
     "text": [
      "[1939, 1939, 1939, 1939, 1939, 1939, 1940, 1940, 1940, 1940, 1940]\n",
      "['Jul', 'Aug', 'Sep', 'Oct', 'Nov', 'Dec', 'Jan', 'Feb', 'Mar', 'Apr', 'May']\n"
     ]
    }
   ],
   "source": [
    "check_years = []\n",
    "check_months = []\n",
    "for year, month in dates:\n",
    "    check_years.append(year)\n",
    "    check_months.append(month)\n",
    "    \n",
    "print(check_years)\n",
    "print(check_months)"
   ]
  },
  {
   "cell_type": "code",
   "execution_count": null,
   "metadata": {},
   "outputs": [],
   "source": []
  },
  {
   "cell_type": "code",
   "execution_count": 63,
   "metadata": {},
   "outputs": [],
   "source": [
    "def get_check(year, month, tolerance=2):\n",
    "    all_dates = []\n",
    "\n",
    "    years = [x for x in range(1929, 1941)]\n",
    "    months = ['Jan', 'Feb', 'Mar', 'Apr', 'May', 'Jun', 'Jul', 'Aug', 'Sep', 'Oct', 'Nov', 'Dec']\n",
    "\n",
    "    for _year in years:\n",
    "        for _month in months:\n",
    "            all_dates.append((_year, _month))\n",
    "            \n",
    "    ix = all_dates.index((year, month))\n",
    "    \n",
    "    dates = [all_dates[ix + x] for x in range(-tolerance, tolerance+1)]\n",
    "    \n",
    "    check_years = []\n",
    "    check_months = []\n",
    "    for year, month in dates:\n",
    "        check_years.append(year)\n",
    "        check_months.append(month)\n",
    "    \n",
    "    return check_years, check_months"
   ]
  },
  {
   "cell_type": "code",
   "execution_count": 71,
   "metadata": {},
   "outputs": [
    {
     "data": {
      "text/plain": [
       "([1929, 1929, 1929, 1929, 1929, 1930, 1930, 1930, 1930, 1930, 1930],\n",
       " ['Aug', 'Sep', 'Oct', 'Nov', 'Dec', 'Jan', 'Feb', 'Mar', 'Apr', 'May', 'Jun'])"
      ]
     },
     "execution_count": 71,
     "metadata": {},
     "output_type": "execute_result"
    }
   ],
   "source": [
    "get_check(1930, 'Jan', tolerance=5)"
   ]
  },
  {
   "cell_type": "code",
   "execution_count": null,
   "metadata": {},
   "outputs": [],
   "source": []
  },
  {
   "cell_type": "code",
   "execution_count": null,
   "metadata": {},
   "outputs": [],
   "source": []
  }
 ],
 "metadata": {
  "hide_input": false,
  "kernelspec": {
   "display_name": "Python 3",
   "language": "python",
   "name": "python3"
  },
  "language_info": {
   "codemirror_mode": {
    "name": "ipython",
    "version": 3
   },
   "file_extension": ".py",
   "mimetype": "text/x-python",
   "name": "python",
   "nbconvert_exporter": "python",
   "pygments_lexer": "ipython3",
   "version": "3.8.5"
  },
  "toc": {
   "base_numbering": 1,
   "nav_menu": {},
   "number_sections": true,
   "sideBar": true,
   "skip_h1_title": false,
   "title_cell": "Table of Contents",
   "title_sidebar": "Contents",
   "toc_cell": false,
   "toc_position": {},
   "toc_section_display": true,
   "toc_window_display": false
  }
 },
 "nbformat": 4,
 "nbformat_minor": 4
}
