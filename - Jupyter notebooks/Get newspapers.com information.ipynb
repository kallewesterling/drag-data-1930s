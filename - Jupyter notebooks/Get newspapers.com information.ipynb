{
 "cells": [
  {
   "cell_type": "code",
   "execution_count": 7,
   "metadata": {},
   "outputs": [],
   "source": [
    "from selenium import webdriver\n",
    "from selenium.webdriver.common.keys import Keys\n",
    "from time import sleep\n",
    "from datetime import datetime\n",
    "from selenium.webdriver.support.ui import Select\n",
    "from pathlib import Path\n",
    "import json\n",
    "\n",
    "def img(newspaper, date, page, datafile='data.json'):\n",
    "    current_data = json.loads(Path(datafile).read_text())\n",
    "    year = str(date.year)\n",
    "    month = str(date.month)\n",
    "    day = str(date.day)\n",
    "    page = str(page)\n",
    "    try:\n",
    "        return current_data[newspaper][year][month][day][page]\n",
    "    except:\n",
    "        return False\n",
    "    \n",
    "def login(b):\n",
    "    b.get('https://www.newspapers.com/signin/')\n",
    "    sleep(2)\n",
    "    b.find_element_by_id('username').send_keys('') #add username\n",
    "    sleep(1)\n",
    "    b.find_element_by_id('password').send_keys('') #add password\n",
    "    b.find_element_by_id('password').send_keys(Keys.ENTER)\n",
    "    sleep(4)"
   ]
  },
  {
   "cell_type": "code",
   "execution_count": 2,
   "metadata": {},
   "outputs": [],
   "source": [
    "try:\n",
    "    b\n",
    "except:\n",
    "    b = webdriver.Firefox()\n",
    "    login(b)"
   ]
  },
  {
   "cell_type": "code",
   "execution_count": null,
   "metadata": {},
   "outputs": [],
   "source": []
  },
  {
   "cell_type": "code",
   "execution_count": null,
   "metadata": {},
   "outputs": [],
   "source": []
  },
  {
   "cell_type": "code",
   "execution_count": null,
   "metadata": {},
   "outputs": [],
   "source": []
  },
  {
   "cell_type": "code",
   "execution_count": null,
   "metadata": {},
   "outputs": [],
   "source": []
  },
  {
   "cell_type": "code",
   "execution_count": 3,
   "metadata": {},
   "outputs": [],
   "source": [
    "datafile = 'data.json'"
   ]
  },
  {
   "cell_type": "code",
   "execution_count": 20,
   "metadata": {},
   "outputs": [],
   "source": [
    "# Search parameter\n",
    "searches = [\n",
    "    {\n",
    "        'newspaper': 'Albion News',\n",
    "        'date': datetime(1932, 2, 4),\n",
    "        'page': 4\n",
    "    },\n",
    "    {\n",
    "        'newspaper': 'Albion News',\n",
    "        'date': datetime(1932, 2, 4),\n",
    "        'page': 3\n",
    "    }\n",
    "]"
   ]
  },
  {
   "cell_type": "code",
   "execution_count": null,
   "metadata": {},
   "outputs": [],
   "source": []
  },
  {
   "cell_type": "code",
   "execution_count": 26,
   "metadata": {},
   "outputs": [
    {
     "name": "stdout",
     "output_type": "stream",
     "text": [
      "found `Albion News, 1932-02-04, 4`:  671554386\n",
      "--> SEARCHING correct newspaper\n",
      "   --> FINDING ALL results\n",
      "2 results found\n",
      "   --> DISAMBIGUATING results\n",
      "   --> QUERYING url (https://www.newspapers.com/paper/albion-news/23933/)\n",
      "   --> SELECTING correct year\n",
      "   --> SELECTING correct month\n",
      "   --> FINDING relevant day in calendar\n",
      "   --> SELECTING correct page\n",
      "   --> GETTING correct img_id\n",
      "   --> WRITING img_id to datafile (data.json)\n"
     ]
    }
   ],
   "source": [
    "for search in searches:\n",
    "    newspaper, date, page = search['newspaper'], search['date'], search['page']\n",
    "\n",
    "    if not img(newspaper, date, page):\n",
    "        print('--> SEARCHING correct newspaper')\n",
    "        b.get('https://www.newspapers.com/papers/#')\n",
    "        b.find_element_by_id('filter-text').send_keys(newspaper, Keys.ENTER)\n",
    "        sleep(2)\n",
    "\n",
    "        print('   --> FINDING ALL results')\n",
    "        print(len(b.find_elements_by_class_name('record-content')), 'results found')\n",
    "        actual_results = []\n",
    "        for result in b.find_elements_by_class_name('record-content'):\n",
    "            if result.find_element_by_tag_name('h2').text.lower() == newspaper.lower():\n",
    "                actual_results.append(result)\n",
    "\n",
    "        print('   --> DISAMBIGUATING results')\n",
    "        if len(actual_results) > 1:\n",
    "            print('ambivalent results found. help!')\n",
    "            actual_results = []\n",
    "        else:\n",
    "            actual_results = actual_results[0]\n",
    "            link = actual_results.find_element_by_tag_name('a').get_attribute('href')\n",
    "\n",
    "        sleep(2)\n",
    "        print(f'   --> QUERYING url ({link})')\n",
    "        b.get(link)\n",
    "        sleep(4)\n",
    "\n",
    "        print('   --> SELECTING correct year')\n",
    "        b.find_element_by_id('datepicker_year_combobox').send_keys(date.year, Keys.ENTER)\n",
    "        sleep(2)\n",
    "\n",
    "        print('   --> SELECTING correct month')\n",
    "        month_selector = Select(b.find_element_by_id('select_month'))\n",
    "        month_selector.select_by_visible_text(date.strftime('%B'))\n",
    "        sleep(2)\n",
    "\n",
    "        print('   --> FINDING relevant day in calendar')\n",
    "        relevant_day = [x for x in b.find_elements_by_class_name('hasmatches') if x.get_attribute('href').split('#')[1] == date.strftime(\"%Y-%m-%d\")]\n",
    "        if len(relevant_day) > 1:\n",
    "            print('found more than one relevant day... weird!')\n",
    "            relevant_day = []\n",
    "        elif len(relevant_day) == 1:\n",
    "            relevant_day = relevant_day[0]\n",
    "            url = relevant_day.get_attribute('href')\n",
    "        else:\n",
    "            print('found no relevant days :(')\n",
    "\n",
    "        relevant_day.click()\n",
    "        sleep(6)\n",
    "\n",
    "        print('   --> SELECTING correct page')\n",
    "        b.find_element_by_id('filmstrip_pagenum_target_input').clear()\n",
    "        sleep(1)\n",
    "        b.find_element_by_id('filmstrip_pagenum_target_input').send_keys(page)\n",
    "        sleep(1)\n",
    "        b.find_element_by_id('filmstrip_pagenum_target_input').send_keys(Keys.ENTER)\n",
    "\n",
    "        print('   --> GETTING correct img_id')\n",
    "        img_id = [x for x in b.current_url.split('/') if x and not x in ['https:', 'www.newspapers.com', 'image']][0]\n",
    "\n",
    "        print(f'   --> WRITING img_id to datafile ({datafile})')\n",
    "        if not Path(datafile).exists():\n",
    "            Path(datafile).write_text(json.dumps({}))\n",
    "\n",
    "        current_data = json.loads(Path(datafile).read_text())\n",
    "\n",
    "        if not newspaper in current_data:\n",
    "            current_data[newspaper] = {}\n",
    "\n",
    "        if not str(date.year) in current_data[newspaper]:\n",
    "            current_data[newspaper][str(date.year)] = {}\n",
    "\n",
    "        if not str(date.month) in current_data[newspaper][str(date.year)]:\n",
    "            current_data[newspaper][str(date.year)][str(date.month)] = {}\n",
    "\n",
    "        if not str(date.day) in current_data[newspaper][str(date.year)][str(date.month)]:\n",
    "            current_data[newspaper][str(date.year)][str(date.month)][str(date.day)] = {}\n",
    "\n",
    "        if not str(page) in current_data[newspaper][str(date.year)][str(date.month)][str(date.day)]:\n",
    "            current_data[newspaper][str(date.year)][str(date.month)][str(date.day)][str(page)] = img_id\n",
    "\n",
    "        Path(datafile).write_text(json.dumps(current_data))\n",
    "    else:\n",
    "        print(f'found `{newspaper}, {date.strftime(\"%Y-%m-%d\")}, {page}`: ', img(newspaper, date, page))"
   ]
  },
  {
   "cell_type": "code",
   "execution_count": 23,
   "metadata": {},
   "outputs": [
    {
     "data": {
      "text/plain": [
       "[]"
      ]
     },
     "execution_count": 23,
     "metadata": {},
     "output_type": "execute_result"
    }
   ],
   "source": []
  },
  {
   "cell_type": "code",
   "execution_count": null,
   "metadata": {},
   "outputs": [],
   "source": []
  },
  {
   "cell_type": "code",
   "execution_count": null,
   "metadata": {},
   "outputs": [],
   "source": []
  },
  {
   "cell_type": "code",
   "execution_count": null,
   "metadata": {},
   "outputs": [],
   "source": []
  },
  {
   "cell_type": "code",
   "execution_count": null,
   "metadata": {},
   "outputs": [],
   "source": []
  },
  {
   "cell_type": "code",
   "execution_count": null,
   "metadata": {},
   "outputs": [],
   "source": []
  },
  {
   "cell_type": "code",
   "execution_count": null,
   "metadata": {},
   "outputs": [],
   "source": []
  }
 ],
 "metadata": {
  "kernelspec": {
   "display_name": "Python 3",
   "language": "python",
   "name": "python3"
  },
  "language_info": {
   "codemirror_mode": {
    "name": "ipython",
    "version": 3
   },
   "file_extension": ".py",
   "mimetype": "text/x-python",
   "name": "python",
   "nbconvert_exporter": "python",
   "pygments_lexer": "ipython3",
   "version": "3.8.5"
  }
 },
 "nbformat": 4,
 "nbformat_minor": 4
}