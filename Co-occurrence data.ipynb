{
 "cells": [
  {
   "cell_type": "markdown",
   "metadata": {},
   "source": [
    "# Setup\n",
    "\n",
    "The script is set up: imports all the necessary packages and all the necessary functions to run."
   ]
  },
  {
   "cell_type": "code",
   "execution_count": 1,
   "metadata": {},
   "outputs": [],
   "source": [
    "settings = {\n",
    "    'DAYSPANS': [3, 14, 31, 93, 186, 365]\n",
    "}"
   ]
  },
  {
   "cell_type": "code",
   "execution_count": 2,
   "metadata": {
    "hide_input": true
   },
   "outputs": [],
   "source": [
    "from IPython.display import display, HTML, Markdown, clear_output\n",
    "# display(HTML(\"<style>.container {width: 80% !important; }</style>\"))"
   ]
  },
  {
   "cell_type": "markdown",
   "metadata": {
    "hide_input": false
   },
   "source": [
    "## Imports"
   ]
  },
  {
   "cell_type": "code",
   "execution_count": 3,
   "metadata": {
    "hide_input": true
   },
   "outputs": [],
   "source": [
    "import datetime\n",
    "import json\n",
    "import pandas as pd\n",
    "import re\n",
    "import unicodedata"
   ]
  },
  {
   "cell_type": "markdown",
   "metadata": {},
   "source": [
    "## Meta functions"
   ]
  },
  {
   "cell_type": "code",
   "execution_count": 4,
   "metadata": {},
   "outputs": [],
   "source": [
    "def log(msg, color='green', verbose=True):\n",
    "    now = datetime.datetime.now().strftime('%H:%M%:%S')\n",
    "    if verbose:\n",
    "        return display(Markdown(f'<font color=\"{color}\">[{now}] {msg}</font>'))\n",
    "    return None\n",
    "\n",
    "def slugify(value, allow_unicode=False, verbose=False):\n",
    "    init_value = str(value)\n",
    "    value = init_value\n",
    "    value = unicodedata.normalize('NFKD', value).encode('ascii', 'ignore').decode('ascii')\n",
    "    value = re.sub(r'[^\\w\\s-]', '', value.lower())\n",
    "    value = re.sub(r'^(\\d+)', r'n\\1', value)\n",
    "    value = re.sub(r'[-\\s]+', '_', value).strip('-_')\n",
    "    if verbose:\n",
    "        clear_output(wait=True)\n",
    "        log(f'Making slug from {init_value}: {value}')\n",
    "    return value"
   ]
  },
  {
   "cell_type": "markdown",
   "metadata": {
    "hide_input": true
   },
   "source": [
    "### Central function (`get_raw_data`)"
   ]
  },
  {
   "cell_type": "code",
   "execution_count": 5,
   "metadata": {
    "hide_input": true
   },
   "outputs": [],
   "source": [
    "def get_raw_data(verbose=True):\n",
    "    df = pd.read_csv('https://docs.google.com/spreadsheets/d/e/2PACX-1vT0E0Y7txIa2pfBuusA1cd8X5OVhQ_D0qZC8D40KhTU3xB7McsPR2kuB7GH6ncmNT3nfjEYGbscOPp0/pub?gid=0&single=true&output=csv')\n",
    "    \n",
    "    # Fix basic stuff\n",
    "    df.replace('—', '', inplace=True)\n",
    "    df.replace('—*', '', inplace=True)\n",
    "    df.replace('–', '', inplace=True)\n",
    "    df.fillna('', inplace=True)\n",
    "\n",
    "    log(f'**{df.shape[0]} rows imported.**', verbose=verbose)\n",
    "    \n",
    "    return df"
   ]
  },
  {
   "cell_type": "markdown",
   "metadata": {
    "hide_input": false
   },
   "source": [
    "### Main filter function (`filter_data`)"
   ]
  },
  {
   "cell_type": "code",
   "execution_count": 6,
   "metadata": {
    "hide_input": true
   },
   "outputs": [],
   "source": [
    "# Main filter function\n",
    "\n",
    "def filter_data(df, min_date=None, max_date=None, verbose=True):\n",
    "    def has_required_data(row):\n",
    "        '''(internal) for use with DataFrame lambda function to ensure that any given row has the required data present'''\n",
    "        has_performer = row['Performer'] != '' or row['Normalized performer'] != '' or (row['Performer first-name'] != '' or row['Performer last-name']) != ''\n",
    "        # has_city = row['City'] or row['Normalized City']\n",
    "        has_venue = row['Venue'] != ''\n",
    "        if has_performer and has_venue:\n",
    "            return True\n",
    "        else:\n",
    "            return False\n",
    "        \n",
    "    def has_correct_date(row):\n",
    "        '''(internal) for use with DataFrame lambda function to ensure that any given row has a correct date present'''\n",
    "        return re.search(r'\\d{4}\\-\\d{2}\\-\\d{2}', row['Date']) != None\n",
    "    \n",
    "    def string_date(row):\n",
    "        return row['Date'].strftime('%Y-%m-%d')\n",
    "\n",
    "    df['has_required_data'] = df.apply(lambda row: has_required_data(row), axis=1)\n",
    "    df.drop(df[df['has_required_data'] == False].index, inplace=True)\n",
    "    log(f'**{df.shape[0]} rows after filtering**: Required data.', verbose=verbose)\n",
    "\n",
    "    # Filter\n",
    "    df.drop(df[df['Exclude from visualization'] == True].index, inplace=True)\n",
    "    log(f'**{df.shape[0]} rows after filtering**: Exclusion from visulization.', verbose=verbose)\n",
    "    \n",
    "    # Filter\n",
    "    df.drop(df[df['Unsure whether drag artist'] == 'TRUE'].index, inplace=True)\n",
    "    log(f'**{df.shape[0]} rows after filtering**: Unsure whether drag artist.', verbose=verbose)\n",
    "    \n",
    "    df['has_correct_date'] = df.apply(lambda row: has_correct_date(row), axis=1)\n",
    "    df.drop(df[df['has_correct_date'] == False].index, inplace=True)\n",
    "    log(f'**{df.shape[0]} rows after filtering**: Full date in `Date` column.', verbose=verbose)\n",
    "\n",
    "    if min_date or max_date:\n",
    "        df['Date'] = pd.to_datetime(df['Date'])\n",
    "        df = df[(df['Date'] > min_date) & (df['Date'] < max_date)]\n",
    "        df['Date'] = df.apply(lambda row: string_date(row), axis=1)\n",
    "        log(f'**{df.shape[0]} rows after filtering**: Min and max date set.', verbose=verbose)\n",
    "        \n",
    "    return df"
   ]
  },
  {
   "cell_type": "markdown",
   "metadata": {},
   "source": [
    "### Main clean function (`clean_data`)"
   ]
  },
  {
   "cell_type": "code",
   "execution_count": 7,
   "metadata": {
    "hide_input": false
   },
   "outputs": [],
   "source": [
    "# Main clean function\n",
    "\n",
    "def clean_data(df, drop_cols=[], verbose=True):\n",
    "    def get_performer(row, null_value=''):\n",
    "        '''(internal) for use with DataFrame lambda function to return the cleaned-up version of a performer's name (in an order of priority)'''\n",
    "\n",
    "        first_name = row['Performer first-name']\n",
    "        last_name = row['Performer last-name']\n",
    "                    \n",
    "        if last_name and not first_name:\n",
    "            return last_name\n",
    "        \n",
    "        if first_name and last_name:\n",
    "            if not '—' in first_name and not '—' in last_name:\n",
    "                return f'{first_name} {last_name}'\n",
    "            \n",
    "            elif not '—' in last_name and '—' in first_name:\n",
    "                return last_name\n",
    "            \n",
    "            elif not '—' in first_name and '—' in last_name:\n",
    "                return first_name\n",
    "            \n",
    "        for r in ['Normalized performer', 'Performer']:\n",
    "            if row[r]:\n",
    "                return row[r]\n",
    "\n",
    "        return null_value\n",
    "\n",
    "\n",
    "    def get_city(row, null_value=''):\n",
    "        '''(internal) for use with DataFrame lambda function to return the cleaned-up version of a city's name (in an order of priority)'''\n",
    "        for r in ['Normalized City', 'City']:\n",
    "            if row[r]:\n",
    "                return row[r]\n",
    "\n",
    "        return null_value\n",
    "\n",
    "\n",
    "    def get_unique_venue(row, null_value=''):\n",
    "        '''(internal) for use with DataFrame lambda function to return the cleaned-up version of a venue's name (in an order of priority)'''\n",
    "        if row['Venue'] and row['City']:\n",
    "            return row['Venue'] + ' (' + row['City'] + ')'\n",
    "\n",
    "        for r in ['Venue', 'City']:\n",
    "            if row[r]:\n",
    "                return row[r]\n",
    "\n",
    "        return null_value\n",
    "\n",
    "\n",
    "    def get_source(row, null_value=''):\n",
    "        '''(internal) for use with DataFrame lambda function to return the cleaned-up version of a source (in an order of priority)'''\n",
    "        for r in ['Source clean', 'Source']:\n",
    "            if row[r]:\n",
    "                g = re.search(r'(Jan|Feb|Mar|Apr|May|Jun|Jul|Aug|Sep|Oct|Nov|Dec)', row[r])\n",
    "                if not g:\n",
    "                    g = re.search(r'\\d{4}-\\d{2}-\\d{2}', row[r])\n",
    "                    if not g:\n",
    "                        return f\"{row[r]} ({datetime.datetime.strptime(row['Date'], '%Y-%m-%d').strftime('%B %d, %Y')})\"\n",
    "                return row[r]\n",
    "\n",
    "        return null_value,\n",
    "\n",
    "\n",
    "    def get_revue(row, null_value=''):\n",
    "        '''(internal) for use with DataFrame lambda function to return the cleaned-up version of a revue's name (in an order of priority)'''\n",
    "        for r in ['Normalized Revue Name', 'Revue name']:\n",
    "            if row[r]:\n",
    "                return row[r]\n",
    "\n",
    "        return null_value\n",
    "    \n",
    "    \n",
    "    # Clean up names\n",
    "    df['Performer'] = df.apply(lambda row: get_performer(row), axis=1)\n",
    "    df['City'] = df.apply(lambda row: get_city(row), axis=1)\n",
    "    df['Source'] = df.apply(lambda row: get_source(row), axis=1)\n",
    "    df['Revue'] = df.apply(lambda row: get_revue(row), axis=1)\n",
    "    df['Unique venue'] = df.apply(lambda row: get_unique_venue(row), axis=1)\n",
    "    log(f'**Cleaned up all names**.', verbose=verbose)\n",
    "\n",
    "    # Drop unnecessary information\n",
    "    for col in drop_cols:\n",
    "        try:\n",
    "            del df[col]\n",
    "        except KeyError:\n",
    "            pass # already gone\n",
    "\n",
    "    df = df.rename(columns={'Unique venue': 'Venue'})\n",
    "\n",
    "    log(f'**Fixed columns**: Renamed some columns and removed all unneccesary columns.', verbose=verbose)\n",
    "\n",
    "    return df"
   ]
  },
  {
   "cell_type": "markdown",
   "metadata": {},
   "source": [
    "# Create a clean, basic dataset from Sheets"
   ]
  },
  {
   "cell_type": "markdown",
   "metadata": {},
   "source": [
    "## Set up functions"
   ]
  },
  {
   "cell_type": "code",
   "execution_count": 8,
   "metadata": {
    "hide_input": true
   },
   "outputs": [],
   "source": [
    "def get_clean_network_data(min_date=None, max_date=None, drop_cols=None, verbose=True):\n",
    "    ''' A \"collector\" function that runs through `get_raw_data`, `filter_data` and `clean_data` in that order and then resets the index.'''\n",
    "    \n",
    "    df = get_raw_data(verbose=verbose)\n",
    "    df = filter_data(df, min_date=min_date, max_date=max_date, verbose=verbose)\n",
    "    \n",
    "    if not drop_cols:\n",
    "        drop_cols = ['EIMA', 'Imported from former archive', 'Search (newspapers.com)', 'Search (fulton)', 'Venue', 'Revue name', 'Normalized Revue Name', 'Legal name', 'Alleged age', 'Assumed birth year', 'Source clean', 'Category', '2020-12-31 ID', 'Normalized City', 'Performer first-name', 'Performer last-name', 'Normalized performer', 'has_required_data', 'has_correct_date', 'Exclude from visualization', 'Unsure whether drag artist', 'Blackface', 'Sepia', 'Fan dancer/Sally Rand', 'Exotic/erotic/oriental dancer/Gypsy', 'Has image', 'Address', 'Vaudeville Circuit/Circus', 'Edge Comment', 'Comment on node: performer', 'Comment on node: venue', 'Comment on node: city', 'Comment on edge: revue', 'Normalized Venue']\n",
    "    \n",
    "    df = clean_data(df, drop_cols, verbose=verbose)\n",
    "    \n",
    "    df = df.reset_index(drop=True)\n",
    "    log(f'**Index has been reset**.', verbose=verbose)\n",
    "    \n",
    "    return df"
   ]
  },
  {
   "cell_type": "markdown",
   "metadata": {},
   "source": [
    "## Clean data generated\n",
    "\n",
    "Dataframe `df` generated, which can create good network data."
   ]
  },
  {
   "cell_type": "code",
   "execution_count": 9,
   "metadata": {},
   "outputs": [
    {
     "name": "stderr",
     "output_type": "stream",
     "text": [
      "<ipython-input-6-c5c81fd240c5>:40: SettingWithCopyWarning: \n",
      "A value is trying to be set on a copy of a slice from a DataFrame.\n",
      "Try using .loc[row_indexer,col_indexer] = value instead\n",
      "\n",
      "See the caveats in the documentation: https://pandas.pydata.org/pandas-docs/stable/user_guide/indexing.html#returning-a-view-versus-a-copy\n",
      "  df['Date'] = df.apply(lambda row: string_date(row), axis=1)\n"
     ]
    },
    {
     "data": {
      "text/html": [
       "<div>\n",
       "<style scoped>\n",
       "    .dataframe tbody tr th:only-of-type {\n",
       "        vertical-align: middle;\n",
       "    }\n",
       "\n",
       "    .dataframe tbody tr th {\n",
       "        vertical-align: top;\n",
       "    }\n",
       "\n",
       "    .dataframe thead th {\n",
       "        text-align: right;\n",
       "    }\n",
       "</style>\n",
       "<table border=\"1\" class=\"dataframe\">\n",
       "  <thead>\n",
       "    <tr style=\"text-align: right;\">\n",
       "      <th></th>\n",
       "      <th>Date</th>\n",
       "      <th>Performer</th>\n",
       "      <th>City</th>\n",
       "      <th>Venue</th>\n",
       "      <th>Source</th>\n",
       "      <th>Revue</th>\n",
       "    </tr>\n",
       "  </thead>\n",
       "  <tbody>\n",
       "    <tr>\n",
       "      <th>441</th>\n",
       "      <td>1937-07-26</td>\n",
       "      <td>Unnamed performer at Dwan's Recreation Gardens...</td>\n",
       "      <td>Benton Harbor, MI</td>\n",
       "      <td>Dwan's Recreation Gardens (Benton Harbor, MI)</td>\n",
       "      <td>The Herald-Press, July 26, 1937, 2</td>\n",
       "      <td>Fay Norman's Gay Boy Revue</td>\n",
       "    </tr>\n",
       "    <tr>\n",
       "      <th>950</th>\n",
       "      <td>1938-01-29</td>\n",
       "      <td>Sepia Gloria Swanson</td>\n",
       "      <td>New York, NY</td>\n",
       "      <td>Britwood Club (New York, NY)</td>\n",
       "      <td>The Chicago Defender, January 29, 1938, 19</td>\n",
       "      <td></td>\n",
       "    </tr>\n",
       "    <tr>\n",
       "      <th>1274</th>\n",
       "      <td>1940-10-26</td>\n",
       "      <td>Ray Francis</td>\n",
       "      <td>Detroit, MI</td>\n",
       "      <td>Club Frontenac (Detroit, MI)</td>\n",
       "      <td>The Billboard, Oct 26, 1940, 21</td>\n",
       "      <td></td>\n",
       "    </tr>\n",
       "    <tr>\n",
       "      <th>1502</th>\n",
       "      <td>1931-12-13</td>\n",
       "      <td>Jean Malin</td>\n",
       "      <td>New York, NY</td>\n",
       "      <td>Club Richman (New York, NY)</td>\n",
       "      <td>Daily News, ??? (414087749) (December 13, 1931)</td>\n",
       "      <td></td>\n",
       "    </tr>\n",
       "    <tr>\n",
       "      <th>1662</th>\n",
       "      <td>1936-10-09</td>\n",
       "      <td>Leonard Jans</td>\n",
       "      <td>East Liverpool, OH</td>\n",
       "      <td>Club Washington (East Liverpool, OH)</td>\n",
       "      <td>The Evening Review, October 9, 1936, 14</td>\n",
       "      <td>Florence King's Boys Will Be Girls Revue</td>\n",
       "    </tr>\n",
       "    <tr>\n",
       "      <th>1865</th>\n",
       "      <td>1938-01-01</td>\n",
       "      <td>Eli Madlof</td>\n",
       "      <td>Kansas City, MO</td>\n",
       "      <td>Dante's Club (Kansas City, MO)</td>\n",
       "      <td>Billboard, January 1, 1938, 17</td>\n",
       "      <td></td>\n",
       "    </tr>\n",
       "    <tr>\n",
       "      <th>2103</th>\n",
       "      <td>1930-07-29</td>\n",
       "      <td>Karyl Norman</td>\n",
       "      <td>New York, NY</td>\n",
       "      <td>E. F. Albee's Theater (New York, NY)</td>\n",
       "      <td>The Brooklyn Citizen, July 29, 1930, 12</td>\n",
       "      <td>Impressions</td>\n",
       "    </tr>\n",
       "    <tr>\n",
       "      <th>2501</th>\n",
       "      <td>1925-11-26</td>\n",
       "      <td>Unnamed performer in The Seven Collegians</td>\n",
       "      <td>Rochester, NY</td>\n",
       "      <td>Fay's Theatre (Rochester, NY)</td>\n",
       "      <td>Rochester, NY Democrat and Chronicle, November...</td>\n",
       "      <td>Seven Collegians</td>\n",
       "    </tr>\n",
       "    <tr>\n",
       "      <th>3216</th>\n",
       "      <td>1939-02-05</td>\n",
       "      <td>Billy Rohmer</td>\n",
       "      <td>Miami, FL</td>\n",
       "      <td>Kelly's Torch Club (Miami, FL)</td>\n",
       "      <td>The Miami News, February 5, 1939, 42</td>\n",
       "      <td></td>\n",
       "    </tr>\n",
       "    <tr>\n",
       "      <th>4743</th>\n",
       "      <td>1935-02-01</td>\n",
       "      <td>Art West</td>\n",
       "      <td>Miami, FL</td>\n",
       "      <td>Torch K9 Club (Miami, FL)</td>\n",
       "      <td>Miami Tribune, February 1, 1935, 12</td>\n",
       "      <td>Sensational Revue</td>\n",
       "    </tr>\n",
       "  </tbody>\n",
       "</table>\n",
       "</div>"
      ],
      "text/plain": [
       "            Date                                          Performer  \\\n",
       "441   1937-07-26  Unnamed performer at Dwan's Recreation Gardens...   \n",
       "950   1938-01-29                               Sepia Gloria Swanson   \n",
       "1274  1940-10-26                                        Ray Francis   \n",
       "1502  1931-12-13                                         Jean Malin   \n",
       "1662  1936-10-09                                       Leonard Jans   \n",
       "1865  1938-01-01                                         Eli Madlof   \n",
       "2103  1930-07-29                                       Karyl Norman   \n",
       "2501  1925-11-26          Unnamed performer in The Seven Collegians   \n",
       "3216  1939-02-05                                       Billy Rohmer   \n",
       "4743  1935-02-01                                           Art West   \n",
       "\n",
       "                    City                                          Venue  \\\n",
       "441    Benton Harbor, MI  Dwan's Recreation Gardens (Benton Harbor, MI)   \n",
       "950         New York, NY                   Britwood Club (New York, NY)   \n",
       "1274         Detroit, MI                   Club Frontenac (Detroit, MI)   \n",
       "1502        New York, NY                    Club Richman (New York, NY)   \n",
       "1662  East Liverpool, OH           Club Washington (East Liverpool, OH)   \n",
       "1865     Kansas City, MO                 Dante's Club (Kansas City, MO)   \n",
       "2103        New York, NY           E. F. Albee's Theater (New York, NY)   \n",
       "2501       Rochester, NY                  Fay's Theatre (Rochester, NY)   \n",
       "3216           Miami, FL                 Kelly's Torch Club (Miami, FL)   \n",
       "4743           Miami, FL                      Torch K9 Club (Miami, FL)   \n",
       "\n",
       "                                                 Source  \\\n",
       "441                  The Herald-Press, July 26, 1937, 2   \n",
       "950          The Chicago Defender, January 29, 1938, 19   \n",
       "1274                    The Billboard, Oct 26, 1940, 21   \n",
       "1502    Daily News, ??? (414087749) (December 13, 1931)   \n",
       "1662            The Evening Review, October 9, 1936, 14   \n",
       "1865                     Billboard, January 1, 1938, 17   \n",
       "2103            The Brooklyn Citizen, July 29, 1930, 12   \n",
       "2501  Rochester, NY Democrat and Chronicle, November...   \n",
       "3216               The Miami News, February 5, 1939, 42   \n",
       "4743                Miami Tribune, February 1, 1935, 12   \n",
       "\n",
       "                                         Revue  \n",
       "441                 Fay Norman's Gay Boy Revue  \n",
       "950                                             \n",
       "1274                                            \n",
       "1502                                            \n",
       "1662  Florence King's Boys Will Be Girls Revue  \n",
       "1865                                            \n",
       "2103                               Impressions  \n",
       "2501                          Seven Collegians  \n",
       "3216                                            \n",
       "4743                         Sensational Revue  "
      ]
     },
     "execution_count": 9,
     "metadata": {},
     "output_type": "execute_result"
    }
   ],
   "source": [
    "df = get_clean_network_data(min_date=datetime.datetime(year=1920, month=1, day=1), max_date=datetime.datetime(year=1940, month=12, day=31), verbose=False)\n",
    "\n",
    "# To illustrate, we show a 10-row random sample:\n",
    "df.sample(10).sort_index()"
   ]
  },
  {
   "cell_type": "markdown",
   "metadata": {},
   "source": [
    "# Group data"
   ]
  },
  {
   "cell_type": "markdown",
   "metadata": {},
   "source": [
    "## Set up functions"
   ]
  },
  {
   "cell_type": "code",
   "execution_count": 10,
   "metadata": {},
   "outputs": [],
   "source": [
    "def get_performers_who_were_there(df, where=None, when=[]):\n",
    "    # Returns a list of all the performers from any list of dates and venue\n",
    "    if not isinstance(when, list):\n",
    "        when = [when]\n",
    "    \n",
    "    all_values = []\n",
    "    for when in when:\n",
    "        if isinstance(when, datetime.datetime):\n",
    "            when = when.strftime(\"%Y-%m-%d\")\n",
    "    \n",
    "        selected_rows = df[(df['Date'] == when) & (df['Venue'] == where)]\n",
    "        \n",
    "        all_values.extend(selected_rows['Performer'])\n",
    "\n",
    "    return sorted(list(set(all_values)))\n",
    "\n",
    "\n",
    "def group_dates(dates:list=[], delta=datetime.timedelta(days=14), dateformat='%Y-%m-%d'):\n",
    "    \"\"\"https://gist.github.com/kallewesterling/9a8d12ce073776ed52865bfb362ad073\"\"\"\n",
    "    \n",
    "    \"\"\"\n",
    "    Chains dates together by looking for the delta between any given dates in a list\n",
    "    \n",
    "    Example:\n",
    "    \n",
    "    (A.) Provided that the delta is `days=14`,\n",
    "         the left side will generate the right side:\n",
    "            [                           [\n",
    "                1935-01-13,               [1935-01-13, 1935-01-26,\n",
    "                1935-01-26,                1935-02-11, 1935-02-05],\n",
    "                1935-02-11,\n",
    "                1935-02-05,\n",
    "                1935-04-01,               [1935-04-01, 1935-04-06]\n",
    "                1935-04-06\n",
    "            ]                           ]\n",
    "            \n",
    "    (B.) Provided that the delta is `days=3`,\n",
    "         the left side will generate the right side:\n",
    "            [                           [\n",
    "                1935-01-13,               [1935-01-13],\n",
    "                1935-01-26,               [1935-01-26],\n",
    "                1935-02-11,               [1935-02-11],\n",
    "                1935-02-05,               [1935-02-05],\n",
    "                1935-04-01,               [1935-04-01],\n",
    "                1935-04-06                [1935-04-06]\n",
    "            ]                           ]\n",
    "\n",
    "    \"\"\"\n",
    "\n",
    "    try:\n",
    "        dates = sorted([datetime.datetime.strptime(x, dateformat) for x in dates])\n",
    "    except ValueError as e:\n",
    "        date = re.search(r'''['\"](.*)['\"] does not match format''', str(e))\n",
    "        if date:\n",
    "            date = date.groups()[0]\n",
    "        raise ValueError(f'A date found in list that did not adhere to format (`{date}`). Needs to follow format `{dateformat}`.') from None\n",
    "\n",
    "    if isinstance(delta, int):\n",
    "        delta = timedelta(days=delta)\n",
    "\n",
    "    periods = []\n",
    "\n",
    "    for ix, date in enumerate(dates):\n",
    "        min_date = date - delta\n",
    "        max_date = date + delta\n",
    "\n",
    "        prev_date, next_date = None, None\n",
    "        start_chain, end_chain, in_chain, solo_date = None, None, None, None\n",
    "        prev_date_in_range, next_date_in_range = None, None\n",
    "\n",
    "        try:\n",
    "            if ix-1 >= 0:\n",
    "                prev_date = dates[ix-1]\n",
    "        except IndexError:\n",
    "            prev_date = None\n",
    "\n",
    "        try:\n",
    "            next_date = dates[ix+1]\n",
    "        except IndexError:\n",
    "            next_date = None\n",
    "\n",
    "        if next_date:\n",
    "            next_date_in_range = next_date >= min_date and next_date <= max_date\n",
    "\n",
    "        if prev_date:\n",
    "            prev_date_in_range = prev_date >= min_date and prev_date <= max_date\n",
    "\n",
    "        if all([next_date, prev_date, prev_date_in_range, next_date_in_range]):\n",
    "            # In the loop and in a chain (near previous date and next)\n",
    "            in_chain = True\n",
    "        elif all([next_date, prev_date, next_date_in_range]) and not prev_date_in_range:\n",
    "            # In the loop and beginning of a chain (not near previous date but near next)\n",
    "            start_chain = True\n",
    "        elif all([next_date, prev_date, prev_date_in_range]) and not next_date_in_range:\n",
    "            # In the loop and end of a chain (near previous date but not next)\n",
    "            end_chain = True\n",
    "        elif all([next_date, prev_date]) and not all([prev_date_in_range, next_date_in_range]):\n",
    "            # In the loop but solo date (not not near previous date nor next)\n",
    "            solo_date = True\n",
    "        elif next_date and next_date_in_range:\n",
    "            # In the loop but solo date (not not near previous date nor next)\n",
    "            start_chain = True\n",
    "        elif next_date:\n",
    "            solo_date = True\n",
    "        elif prev_date and prev_date_in_range:\n",
    "            end_chain = True\n",
    "        elif prev_date:\n",
    "            solo_date = True\n",
    "        elif not next_date and not prev_date:\n",
    "            solo_date = True\n",
    "        else:\n",
    "            raise RuntimeError('An unexpected error occurred.')\n",
    "\n",
    "        date_str = date.strftime('%Y-%m-%d')\n",
    "\n",
    "        if start_chain:\n",
    "            periods.append([date_str])\n",
    "\n",
    "        elif end_chain:\n",
    "            periods[len(periods)-1].append(date_str)\n",
    "\n",
    "        elif solo_date:\n",
    "            periods.append([date_str])\n",
    "\n",
    "        elif in_chain:\n",
    "            periods[len(periods)-1].append(date_str)\n",
    "\n",
    "    return periods\n",
    "\n",
    "\n",
    "def get_group_data(df, days=settings['DAYSPANS']):\n",
    "    data_dict = {}\n",
    "    \n",
    "    venue_count = len(df.groupby(\"Venue\"))\n",
    "    i = 1\n",
    "    for venue, row in df.groupby('Venue'):\n",
    "        i+=1\n",
    "        for num_days in days:\n",
    "            log(f'Generating group data for spans of {\", \".join([str(x) for x in days])} days.')\n",
    "            log(f'   [{i}/{venue_count}] processing venue {venue} (date span {num_days} days)...')\n",
    "            clear_output(wait=True)\n",
    "            all_dates = list(set(row.Date))\n",
    "            grouped_dates = group_dates(all_dates, delta=datetime.timedelta(days=num_days))\n",
    "            for ix, date_group in enumerate(grouped_dates, start=1):\n",
    "                if not venue in data_dict:\n",
    "                    data_dict[venue] = {}\n",
    "                if not f'grouped-by-{num_days}-days' in data_dict[venue]:\n",
    "                    data_dict[venue][f'grouped-by-{num_days}-days'] = {}\n",
    "                \n",
    "                revues = list(set([x for x in row.Revue if x]))\n",
    "                cities = list(set([x for x in row.City if x]))\n",
    "                \n",
    "                data_dict[venue][f'grouped-by-{num_days}-days'][f'date_group-{ix}'] = {\n",
    "                    'dates': date_group,\n",
    "                    'performers': get_performers_who_were_there(df, venue, date_group),\n",
    "                    'revues': revues,\n",
    "                    'cities': cities\n",
    "                }\n",
    "    log(f'Generated group data for {venue_count} venues.')\n",
    "    return data_dict"
   ]
  },
  {
   "cell_type": "markdown",
   "metadata": {},
   "source": [
    "## Get grouped data"
   ]
  },
  {
   "cell_type": "code",
   "execution_count": 11,
   "metadata": {},
   "outputs": [
    {
     "data": {
      "text/markdown": [
       "<font color=\"green\">[19:47:19] Generated group data for 532 venues.</font>"
      ],
      "text/plain": [
       "<IPython.core.display.Markdown object>"
      ]
     },
     "metadata": {},
     "output_type": "display_data"
    }
   ],
   "source": [
    "group_data_dict = get_group_data(df)"
   ]
  },
  {
   "cell_type": "code",
   "execution_count": 12,
   "metadata": {},
   "outputs": [],
   "source": [
    "'''\n",
    "def get_performers_who_were_there__v1(df, where=None, when=[]):\n",
    "    # Returns a list of all the performers from any list of dates and venue\n",
    "    if not isinstance(when, list):\n",
    "        when = [when]\n",
    "    \n",
    "    all_values = []\n",
    "    for when in when:\n",
    "        if isinstance(when, datetime.datetime):\n",
    "            when = when.strftime(\"%Y-%m-%d\")\n",
    "    \n",
    "        selected_rows = df[(df['Date'] == when) & (df['Venue'] == where)]\n",
    "        \n",
    "        all_values.extend(selected_rows['Performer'])\n",
    "\n",
    "    return sorted(list(set(all_values)))\n",
    "\n",
    "\n",
    "df_grouped_dates = pd.DataFrame()\n",
    "\n",
    "venue_span_data = {}\n",
    "# Loop through each venue with adhering data\n",
    "for venue, row in df.groupby('Venue'):\n",
    "    d = {}\n",
    "    for days in [3, 14, 31, 93, 186, 365]:\n",
    "        all_dates = list(set(row.Date))\n",
    "        #print(venue, all_dates)\n",
    "        grouped_dates = group_dates(all_dates, delta=datetime.timedelta(days=days))\n",
    "        max_span = 0\n",
    "        max_performers_in_date_group = 0\n",
    "        for date_group in grouped_dates:\n",
    "            venue_span_data[str(date_group)] = {}\n",
    "            performers_in_date_group = []\n",
    "            last_day_in_date_group = max([datetime.datetime.strptime(x, '%Y-%m-%d') for x in date_group])\n",
    "            first_day_in_date_group = min([datetime.datetime.strptime(x, '%Y-%m-%d') for x in date_group])\n",
    "            datespan = (last_day_in_date_group - first_day_in_date_group).days\n",
    "            if datespan > max_span:\n",
    "                max_span = datespan\n",
    "            for performer in [get_performers_who_were_there__v1(df, where=venue, when=x) for x in date_group]:\n",
    "                performers_in_date_group.extend(performer)\n",
    "            performers_in_date_group = list(set(performers_in_date_group))\n",
    "            if len(performers_in_date_group) > max_performers_in_date_group:\n",
    "                max_performers_in_date_group = len(performers_in_date_group)\n",
    "            # print(venue, first_day_in_date_group, last_day_in_date_group, performers_in_date_group)\n",
    "        d[f'num_groups (#, delta: {days} days)'] = len(grouped_dates)\n",
    "        d[f'max_span (days, delta: {days} days)'] = max_span\n",
    "        d[f'max performers in a group (#, delta: {days} days)'] = max_performers_in_date_group\n",
    "    s = pd.Series(d, name=venue)\n",
    "    df_grouped_dates = df_grouped_dates.append(s)\n",
    "    dtype = {key: int for key in list(d.keys())}\n",
    "    df_grouped_dates = df_grouped_dates.astype(dtype)\n",
    "\n",
    "# This is just an example of how you'd find who was at any given venue (`where`) at any given `[list of dates]`:\n",
    "get_performers_who_were_there(df, 'Band Box (Syracuse, NY)', ['1935-03-29', '1935-04-05', '1935-04-12', '1935-04-19'])\n",
    "\n",
    "display(Markdown('### Sample of 10 random points in the dataset\\n\\nEach span (`3 days`, `14 days`, `31 days`, `93 days`, `186 days`, and `365 days`) has a `num_groups` column, a `max_span` column, and a `max performers` column.'))\n",
    "df_grouped_dates[list(d.keys())].sample(10).sort_values('num_groups (#, delta: 3 days)', ascending=False)\n",
    "\n",
    "'''\n",
    "pass"
   ]
  },
  {
   "cell_type": "markdown",
   "metadata": {},
   "source": [
    "# Network grouped data\n",
    "\n",
    "Setting up networks with nodes and edges for each of the day spans."
   ]
  },
  {
   "cell_type": "code",
   "execution_count": 13,
   "metadata": {},
   "outputs": [
    {
     "data": {
      "text/markdown": [
       "<font color=\"green\">[19:47:29] Generating network for grouped-by-365-days.</font>"
      ],
      "text/plain": [
       "<IPython.core.display.Markdown object>"
      ]
     },
     "metadata": {},
     "output_type": "display_data"
    },
    {
     "data": {
      "text/markdown": [
       "<font color=\"green\">[19:47:29]    [532/532] processing venue Wonderbar (New York, NY)...</font>"
      ],
      "text/plain": [
       "<IPython.core.display.Markdown object>"
      ]
     },
     "metadata": {},
     "output_type": "display_data"
    }
   ],
   "source": [
    "import networkx as nx\n",
    "\n",
    "networks = {}\n",
    "\n",
    "venue_count = len(group_data_dict)\n",
    "i = 0\n",
    "for venue, data in group_data_dict.items():\n",
    "    i+=1\n",
    "    for grouped_by, data2 in data.items():\n",
    "        clear_output(wait=True)\n",
    "        log(f'Generating network for {grouped_by}.')\n",
    "        log(f'   [{i}/{venue_count}] processing venue {venue}...')\n",
    "        if not grouped_by in networks:\n",
    "            networks[grouped_by] = nx.Graph()\n",
    "\n",
    "        for date_group_id, data3 in data2.items():\n",
    "            if len(data3['performers']) > 1:\n",
    "                performers = data3['performers']\n",
    "                dates = data3['dates']\n",
    "                revues = data3['revues']\n",
    "                cities = data3['cities']\n",
    "                for performer in performers:\n",
    "                    for target in [x for x in performers if not x == performer]:\n",
    "                        edge = (performer, target)\n",
    "                        if not edge in networks[grouped_by].edges:\n",
    "                            networks[grouped_by].add_edges_from([edge], coLocated={})\n",
    "                        if not venue in networks[grouped_by].edges[edge]['coLocated']:\n",
    "                            networks[grouped_by].edges[edge]['coLocated'][venue] = []\n",
    "                        if not dates in networks[grouped_by].edges[edge]['coLocated'][venue]:\n",
    "                            networks[grouped_by].edges[edge]['coLocated'][venue].append(dates)\n",
    "                        \n",
    "                        if not 'revues' in networks[grouped_by].edges[edge]:\n",
    "                            networks[grouped_by].edges[edge]['revues'] = []\n",
    "                        if not revues in networks[grouped_by].edges[edge]['revues']:\n",
    "                            networks[grouped_by].edges[edge]['revues'].append(revues)\n",
    "\n",
    "                        if not 'cities' in networks[grouped_by].edges[edge]:\n",
    "                            networks[grouped_by].edges[edge]['cities'] = []\n",
    "                        if not cities in networks[grouped_by].edges[edge]['cities']:\n",
    "                            networks[grouped_by].edges[edge]['cities'].append(cities)"
   ]
  },
  {
   "cell_type": "markdown",
   "metadata": {},
   "source": [
    "# Edge meta/weight"
   ]
  },
  {
   "cell_type": "code",
   "execution_count": 14,
   "metadata": {},
   "outputs": [],
   "source": [
    "for key in networks.keys():\n",
    "    for edge in list(networks[key].edges):\n",
    "        networks[key].edges[edge]['weights'] = {}\n",
    "        for co_located, date_groups in networks[key].edges[edge]['coLocated'].items():\n",
    "            networks[key].edges[edge]['weights']['dateGroups'] = len(date_groups)\n",
    "        networks[key].edges[edge]['weights']['venues'] = len(networks[key].edges[edge]['coLocated'])"
   ]
  },
  {
   "cell_type": "markdown",
   "metadata": {},
   "source": [
    "# Node meta/comments"
   ]
  },
  {
   "cell_type": "markdown",
   "metadata": {},
   "source": [
    "## Set up functions for getting node meta information\n",
    "\n",
    "Node meta information = things like comments, images, etc"
   ]
  },
  {
   "cell_type": "code",
   "execution_count": 15,
   "metadata": {},
   "outputs": [],
   "source": [
    "def get_meta_data(df, category=None):\n",
    "    meta_data = {\n",
    "        'performers': {},\n",
    "        'venues': {},\n",
    "        'cities': {},\n",
    "        'revues': {}\n",
    "    }\n",
    "\n",
    "    MAP = {\n",
    "        'performers': {\n",
    "            'cleaned_row_name': 'Performer',\n",
    "            'MAPPING': {\n",
    "                'comments': 'Comment on node: performer',\n",
    "                'legal_names': 'Legal name',\n",
    "                'alleged_ages': 'Alleged age',\n",
    "                'assumed_birth_years': 'Assumed birth year',\n",
    "                'images': 'Has image',\n",
    "                'exotic_dancer': 'Exotic/erotic/oriental dancer/Gypsy',\n",
    "                'fan_dancer': 'Fan dancer/Sally Rand',\n",
    "                'blackface': 'Blackface',\n",
    "                'sepia': 'Sepia',\n",
    "            }\n",
    "        },\n",
    "        'cities': {\n",
    "            'cleaned_row_name': 'City',\n",
    "            'MAPPING': {\n",
    "                'comments': 'Comment on node: city'\n",
    "            }\n",
    "        },\n",
    "        'venues': {\n",
    "            'cleaned_row_name': 'Venue',\n",
    "            'MAPPING': {\n",
    "                'comments': 'Comment on node: venue'\n",
    "            }\n",
    "        },\n",
    "        'revues': {\n",
    "            'cleaned_row_name': 'Revue',\n",
    "            'MAPPING': {\n",
    "                'comments': 'Comment on edge: revue'\n",
    "            }\n",
    "        }\n",
    "    }\n",
    "    \n",
    "    ### No need to change anything below\n",
    "\n",
    "    for meta_data_category, d in MAP.items():\n",
    "        if category and not meta_data_category == category:\n",
    "            continue\n",
    "        \n",
    "        log(f'Fetching node meta information for {meta_data_category}...')\n",
    "        for ix, row in df.iterrows():\n",
    "            if not row[d['cleaned_row_name']] in meta_data[meta_data_category]:\n",
    "                meta_data[meta_data_category][row[d['cleaned_row_name']]] = {}\n",
    "\n",
    "            for key, column_name in d['MAPPING'].items():\n",
    "                if not key in meta_data[meta_data_category][row[d['cleaned_row_name']]]:\n",
    "                    meta_data[meta_data_category][row[d['cleaned_row_name']]][key] = []\n",
    "\n",
    "                if row[column_name]:\n",
    "                    source = row['Source']\n",
    "                    content = row[column_name]\n",
    "                    if isinstance(content, str) and content.lower() == 'true':\n",
    "                        content = True\n",
    "\n",
    "                    meta_data[meta_data_category][row[d['cleaned_row_name']]][key].append({\n",
    "                        'source': source,\n",
    "                        'content': content\n",
    "                    })\n",
    "    \n",
    "    return meta_data\n",
    "\n",
    "def get_meta(df=None, category=None):\n",
    "    if not isinstance(df, pd.DataFrame):\n",
    "        log('Building new clean data for node meta information...')\n",
    "        df = get_raw_data(verbose=False)\n",
    "        df = filter_data(df, max_date=None, min_date=None, verbose=False)\n",
    "        df = clean_data(df, drop_cols=['Venue'], verbose=False)\n",
    "    \n",
    "    all_meta = get_meta_data(df, category=category)\n",
    "    \n",
    "    if not category:\n",
    "        return all_meta\n",
    "    \n",
    "    return all_meta[category]"
   ]
  },
  {
   "cell_type": "markdown",
   "metadata": {},
   "source": [
    "## Get  node meta data from sheet\n",
    "\n",
    "`node_meta` fetches the information, then we loop through each network and add the meta data to each node."
   ]
  },
  {
   "cell_type": "code",
   "execution_count": 16,
   "metadata": {},
   "outputs": [
    {
     "data": {
      "text/markdown": [
       "<font color=\"green\">[19:47:30] Building new clean data for node meta information...</font>"
      ],
      "text/plain": [
       "<IPython.core.display.Markdown object>"
      ]
     },
     "metadata": {},
     "output_type": "display_data"
    },
    {
     "data": {
      "text/markdown": [
       "<font color=\"green\">[19:47:33] Fetching node meta information for performers...</font>"
      ],
      "text/plain": [
       "<IPython.core.display.Markdown object>"
      ]
     },
     "metadata": {},
     "output_type": "display_data"
    },
    {
     "data": {
      "text/markdown": [
       "<font color=\"green\">[19:47:34] Fetching node meta information for cities...</font>"
      ],
      "text/plain": [
       "<IPython.core.display.Markdown object>"
      ]
     },
     "metadata": {},
     "output_type": "display_data"
    },
    {
     "data": {
      "text/markdown": [
       "<font color=\"green\">[19:47:34] Fetching node meta information for venues...</font>"
      ],
      "text/plain": [
       "<IPython.core.display.Markdown object>"
      ]
     },
     "metadata": {},
     "output_type": "display_data"
    },
    {
     "data": {
      "text/markdown": [
       "<font color=\"green\">[19:47:34] Fetching node meta information for revues...</font>"
      ],
      "text/plain": [
       "<IPython.core.display.Markdown object>"
      ]
     },
     "metadata": {},
     "output_type": "display_data"
    }
   ],
   "source": [
    "all_meta = get_meta()"
   ]
  },
  {
   "cell_type": "markdown",
   "metadata": {},
   "source": [
    "## Add manual meta information to each network's nodes"
   ]
  },
  {
   "cell_type": "code",
   "execution_count": 17,
   "metadata": {},
   "outputs": [
    {
     "data": {
      "text/markdown": [
       "<font color=\"green\">[19:47:35] Finished setting meta information about performers on all 6 networks.</font>"
      ],
      "text/plain": [
       "<IPython.core.display.Markdown object>"
      ]
     },
     "metadata": {},
     "output_type": "display_data"
    }
   ],
   "source": [
    "for key in networks.keys():\n",
    "    nx.set_node_attributes(networks[key], all_meta['performers'])\n",
    "    \n",
    "log(f'Finished setting meta information about performers on all {len(networks)} networks.')"
   ]
  },
  {
   "cell_type": "markdown",
   "metadata": {},
   "source": [
    "## Get automatic network meta information per node"
   ]
  },
  {
   "cell_type": "markdown",
   "metadata": {},
   "source": [
    "### Set up functions"
   ]
  },
  {
   "cell_type": "code",
   "execution_count": 18,
   "metadata": {},
   "outputs": [],
   "source": [
    "def get_connected_nodes_per_node(G):\n",
    "    return {node: sorted(nx.bfs_tree(G, node, reverse=False).nodes) for node in G.nodes}\n",
    "\n",
    "def get_unique_networks(connected_nodes_per_node):\n",
    "    if isinstance(connected_nodes_per_node, dict):\n",
    "        pass # fine!\n",
    "    elif isinstance(connected_nodes_per_node, nx.classes.graph.Graph):\n",
    "        connected_nodes_per_node = get_connected_nodes_per_node(connected_nodes_per_node)\n",
    "    else:\n",
    "        raise RuntimeError('connected_nodes_per_node provided must be either a dictionary of nodes connected together or a networkx Graph object.')\n",
    "        \n",
    "    unique_networks = []\n",
    "    for network in list(connected_nodes_per_node.values()):\n",
    "        if not network in unique_networks:\n",
    "            unique_networks.append(network)\n",
    "    return unique_networks"
   ]
  },
  {
   "cell_type": "markdown",
   "metadata": {},
   "source": [
    "### Add data to each network's nodes"
   ]
  },
  {
   "cell_type": "code",
   "execution_count": 19,
   "metadata": {},
   "outputs": [
    {
     "data": {
      "text/markdown": [
       "<font color=\"green\">[19:47:37] Adding connected network data for network `grouped-by-3-days` (20 unique networks found)...</font>"
      ],
      "text/plain": [
       "<IPython.core.display.Markdown object>"
      ]
     },
     "metadata": {},
     "output_type": "display_data"
    },
    {
     "data": {
      "text/markdown": [
       "<font color=\"green\">[19:47:40] Adding connected network data for network `grouped-by-14-days` (21 unique networks found)...</font>"
      ],
      "text/plain": [
       "<IPython.core.display.Markdown object>"
      ]
     },
     "metadata": {},
     "output_type": "display_data"
    },
    {
     "data": {
      "text/markdown": [
       "<font color=\"green\">[19:47:43] Adding connected network data for network `grouped-by-31-days` (21 unique networks found)...</font>"
      ],
      "text/plain": [
       "<IPython.core.display.Markdown object>"
      ]
     },
     "metadata": {},
     "output_type": "display_data"
    },
    {
     "data": {
      "text/markdown": [
       "<font color=\"green\">[19:47:46] Adding connected network data for network `grouped-by-93-days` (20 unique networks found)...</font>"
      ],
      "text/plain": [
       "<IPython.core.display.Markdown object>"
      ]
     },
     "metadata": {},
     "output_type": "display_data"
    },
    {
     "data": {
      "text/markdown": [
       "<font color=\"green\">[19:47:49] Adding connected network data for network `grouped-by-186-days` (21 unique networks found)...</font>"
      ],
      "text/plain": [
       "<IPython.core.display.Markdown object>"
      ]
     },
     "metadata": {},
     "output_type": "display_data"
    },
    {
     "data": {
      "text/markdown": [
       "<font color=\"green\">[19:47:52] Adding connected network data for network `grouped-by-365-days` (18 unique networks found)...</font>"
      ],
      "text/plain": [
       "<IPython.core.display.Markdown object>"
      ]
     },
     "metadata": {},
     "output_type": "display_data"
    }
   ],
   "source": [
    "for key in networks.keys():\n",
    "    unique_networks = get_unique_networks(networks[key])\n",
    "    log(f'Adding connected network data for network `{key}` ({len(unique_networks)} unique networks found)...')\n",
    "\n",
    "    for network_id, unique_network in enumerate(unique_networks, start=1):\n",
    "        for performer in unique_network:\n",
    "            networks[key].nodes[performer]['connected'] = {\n",
    "                'network': {\n",
    "                    'nodes': [x for x in unique_network if not x == performer],\n",
    "                    'network_id': network_id\n",
    "                }\n",
    "            }"
   ]
  },
  {
   "cell_type": "markdown",
   "metadata": {},
   "source": [
    "## Get communities per node"
   ]
  },
  {
   "cell_type": "markdown",
   "metadata": {},
   "source": [
    "### Set up custom functions"
   ]
  },
  {
   "cell_type": "code",
   "execution_count": 20,
   "metadata": {},
   "outputs": [],
   "source": [
    "def merge_community_dicts(*args):\n",
    "    _ = {}\n",
    "    for dictionary in args:\n",
    "        for performer, data in dictionary.items():\n",
    "            if not performer in _:\n",
    "                _[performer] = {}\n",
    "            for key, value in data.items():\n",
    "                if not key in _[performer]:\n",
    "                    if isinstance(value, dict):\n",
    "                        _[performer][key] = {}\n",
    "                    else:\n",
    "                        raise NotImplemented('Nope')\n",
    "                for key2, value2 in value.items():\n",
    "                    if not key2 in _[performer][key]:\n",
    "                        _[performer][key][key2] = value2\n",
    "                    else:\n",
    "                        raise NotImplemented('This should not happen')\n",
    "\n",
    "    return _"
   ]
  },
  {
   "cell_type": "markdown",
   "metadata": {},
   "source": [
    "### Set up dictionaries with all the community information"
   ]
  },
  {
   "cell_type": "code",
   "execution_count": 21,
   "metadata": {},
   "outputs": [
    {
     "data": {
      "text/markdown": [
       "<font color=\"green\">[19:47:52] Setting community data on nodes in network grouped-by-3-days...</font>"
      ],
      "text/plain": [
       "<IPython.core.display.Markdown object>"
      ]
     },
     "metadata": {},
     "output_type": "display_data"
    },
    {
     "data": {
      "text/markdown": [
       "<font color=\"green\">[19:47:53] Setting community data on nodes in network grouped-by-14-days...</font>"
      ],
      "text/plain": [
       "<IPython.core.display.Markdown object>"
      ]
     },
     "metadata": {},
     "output_type": "display_data"
    },
    {
     "data": {
      "text/markdown": [
       "<font color=\"green\">[19:47:54] Setting community data on nodes in network grouped-by-31-days...</font>"
      ],
      "text/plain": [
       "<IPython.core.display.Markdown object>"
      ]
     },
     "metadata": {},
     "output_type": "display_data"
    },
    {
     "data": {
      "text/markdown": [
       "<font color=\"green\">[19:47:54] Setting community data on nodes in network grouped-by-93-days...</font>"
      ],
      "text/plain": [
       "<IPython.core.display.Markdown object>"
      ]
     },
     "metadata": {},
     "output_type": "display_data"
    },
    {
     "data": {
      "text/markdown": [
       "<font color=\"green\">[19:47:55] Setting community data on nodes in network grouped-by-186-days...</font>"
      ],
      "text/plain": [
       "<IPython.core.display.Markdown object>"
      ]
     },
     "metadata": {},
     "output_type": "display_data"
    },
    {
     "data": {
      "text/markdown": [
       "<font color=\"green\">[19:47:56] Setting community data on nodes in network grouped-by-365-days...</font>"
      ],
      "text/plain": [
       "<IPython.core.display.Markdown object>"
      ]
     },
     "metadata": {},
     "output_type": "display_data"
    }
   ],
   "source": [
    "import community as community_louvain\n",
    "\n",
    "for key in networks.keys():\n",
    "    log(f'Setting community data on nodes in network {key}...')\n",
    "    \n",
    "    # Run Louvain algorithm\n",
    "    louvain = community_louvain.best_partition(networks[key])\n",
    "    louvain = {performer: {'modularities': {'Louvain': community_number}} for performer, community_number in louvain.items()}\n",
    "    \n",
    "    # Run Clauset Newman Moore algorithm\n",
    "    c = nx.community.greedy_modularity_communities(networks[key])\n",
    "    clauset_newman_moore = {performer: {'modularities': {'Clauset-Newman-Moore': community_number}} for community_number, list_of_performers in enumerate(c, start=1) for performer in list_of_performers}\n",
    "    \n",
    "    # Run Girvan Newman algorithm\n",
    "    '''\n",
    "    # TODO: This won't work\n",
    "    gn = nx.community.girvan_newman(networks[key])\n",
    "    first_girvan_newman_iteration = next(gn)\n",
    "    girvan_newman_groups = {group: names for group, names in enumerate([list(x) for x in first_girvan_newman_iteration], start=1)}\n",
    "    '''\n",
    "    \n",
    "    community_dicts = merge_community_dicts(louvain, clauset_newman_moore)\n",
    "\n",
    "    nx.set_node_attributes(networks[key], community_dicts)"
   ]
  },
  {
   "cell_type": "markdown",
   "metadata": {},
   "source": [
    "## Set centrality data per node"
   ]
  },
  {
   "cell_type": "code",
   "execution_count": 22,
   "metadata": {},
   "outputs": [
    {
     "data": {
      "text/markdown": [
       "<font color=\"green\">[19:47:56] Setting centrality data on nodes in network grouped-by-3-days...</font>"
      ],
      "text/plain": [
       "<IPython.core.display.Markdown object>"
      ]
     },
     "metadata": {},
     "output_type": "display_data"
    },
    {
     "data": {
      "text/markdown": [
       "<font color=\"green\">[19:47:56]  --> `degree_centrality`</font>"
      ],
      "text/plain": [
       "<IPython.core.display.Markdown object>"
      ]
     },
     "metadata": {},
     "output_type": "display_data"
    },
    {
     "data": {
      "text/markdown": [
       "<font color=\"green\">[19:47:56]  --> `betweenness_centrality`</font>"
      ],
      "text/plain": [
       "<IPython.core.display.Markdown object>"
      ]
     },
     "metadata": {},
     "output_type": "display_data"
    },
    {
     "data": {
      "text/markdown": [
       "<font color=\"green\">[19:47:59]  --> `eigenvector_centrality`</font>"
      ],
      "text/plain": [
       "<IPython.core.display.Markdown object>"
      ]
     },
     "metadata": {},
     "output_type": "display_data"
    },
    {
     "data": {
      "text/markdown": [
       "<font color=\"green\">[19:47:59]  --> `katz_centrality`</font>"
      ],
      "text/plain": [
       "<IPython.core.display.Markdown object>"
      ]
     },
     "metadata": {},
     "output_type": "display_data"
    },
    {
     "data": {
      "text/markdown": [
       "<font color=\"green\">[19:47:59]  --> `closeness_centrality`</font>"
      ],
      "text/plain": [
       "<IPython.core.display.Markdown object>"
      ]
     },
     "metadata": {},
     "output_type": "display_data"
    },
    {
     "data": {
      "text/markdown": [
       "<font color=\"green\">[19:47:59] Setting centrality data on nodes in network grouped-by-14-days...</font>"
      ],
      "text/plain": [
       "<IPython.core.display.Markdown object>"
      ]
     },
     "metadata": {},
     "output_type": "display_data"
    },
    {
     "data": {
      "text/markdown": [
       "<font color=\"green\">[19:47:59]  --> `degree_centrality`</font>"
      ],
      "text/plain": [
       "<IPython.core.display.Markdown object>"
      ]
     },
     "metadata": {},
     "output_type": "display_data"
    },
    {
     "data": {
      "text/markdown": [
       "<font color=\"green\">[19:47:59]  --> `betweenness_centrality`</font>"
      ],
      "text/plain": [
       "<IPython.core.display.Markdown object>"
      ]
     },
     "metadata": {},
     "output_type": "display_data"
    },
    {
     "data": {
      "text/markdown": [
       "<font color=\"green\">[19:48:02]  --> `eigenvector_centrality`</font>"
      ],
      "text/plain": [
       "<IPython.core.display.Markdown object>"
      ]
     },
     "metadata": {},
     "output_type": "display_data"
    },
    {
     "data": {
      "text/markdown": [
       "<font color=\"green\">[19:48:02]  --> `katz_centrality`</font>"
      ],
      "text/plain": [
       "<IPython.core.display.Markdown object>"
      ]
     },
     "metadata": {},
     "output_type": "display_data"
    },
    {
     "data": {
      "text/markdown": [
       "<font color=\"green\">[19:48:02]  --> `closeness_centrality`</font>"
      ],
      "text/plain": [
       "<IPython.core.display.Markdown object>"
      ]
     },
     "metadata": {},
     "output_type": "display_data"
    },
    {
     "data": {
      "text/markdown": [
       "<font color=\"green\">[19:48:03] Setting centrality data on nodes in network grouped-by-31-days...</font>"
      ],
      "text/plain": [
       "<IPython.core.display.Markdown object>"
      ]
     },
     "metadata": {},
     "output_type": "display_data"
    },
    {
     "data": {
      "text/markdown": [
       "<font color=\"green\">[19:48:03]  --> `degree_centrality`</font>"
      ],
      "text/plain": [
       "<IPython.core.display.Markdown object>"
      ]
     },
     "metadata": {},
     "output_type": "display_data"
    },
    {
     "data": {
      "text/markdown": [
       "<font color=\"green\">[19:48:03]  --> `betweenness_centrality`</font>"
      ],
      "text/plain": [
       "<IPython.core.display.Markdown object>"
      ]
     },
     "metadata": {},
     "output_type": "display_data"
    },
    {
     "data": {
      "text/markdown": [
       "<font color=\"green\">[19:48:05]  --> `eigenvector_centrality`</font>"
      ],
      "text/plain": [
       "<IPython.core.display.Markdown object>"
      ]
     },
     "metadata": {},
     "output_type": "display_data"
    },
    {
     "data": {
      "text/markdown": [
       "<font color=\"green\">[19:48:06]  --> `katz_centrality`</font>"
      ],
      "text/plain": [
       "<IPython.core.display.Markdown object>"
      ]
     },
     "metadata": {},
     "output_type": "display_data"
    },
    {
     "data": {
      "text/markdown": [
       "<font color=\"green\">[19:48:06]  --> `closeness_centrality`</font>"
      ],
      "text/plain": [
       "<IPython.core.display.Markdown object>"
      ]
     },
     "metadata": {},
     "output_type": "display_data"
    },
    {
     "data": {
      "text/markdown": [
       "<font color=\"green\">[19:48:06] Setting centrality data on nodes in network grouped-by-93-days...</font>"
      ],
      "text/plain": [
       "<IPython.core.display.Markdown object>"
      ]
     },
     "metadata": {},
     "output_type": "display_data"
    },
    {
     "data": {
      "text/markdown": [
       "<font color=\"green\">[19:48:06]  --> `degree_centrality`</font>"
      ],
      "text/plain": [
       "<IPython.core.display.Markdown object>"
      ]
     },
     "metadata": {},
     "output_type": "display_data"
    },
    {
     "data": {
      "text/markdown": [
       "<font color=\"green\">[19:48:06]  --> `betweenness_centrality`</font>"
      ],
      "text/plain": [
       "<IPython.core.display.Markdown object>"
      ]
     },
     "metadata": {},
     "output_type": "display_data"
    },
    {
     "data": {
      "text/markdown": [
       "<font color=\"green\">[19:48:09]  --> `eigenvector_centrality`</font>"
      ],
      "text/plain": [
       "<IPython.core.display.Markdown object>"
      ]
     },
     "metadata": {},
     "output_type": "display_data"
    },
    {
     "data": {
      "text/markdown": [
       "<font color=\"green\">[19:48:10]  --> `katz_centrality`</font>"
      ],
      "text/plain": [
       "<IPython.core.display.Markdown object>"
      ]
     },
     "metadata": {},
     "output_type": "display_data"
    },
    {
     "data": {
      "text/markdown": [
       "<font color=\"green\">[19:48:10]  --> `closeness_centrality`</font>"
      ],
      "text/plain": [
       "<IPython.core.display.Markdown object>"
      ]
     },
     "metadata": {},
     "output_type": "display_data"
    },
    {
     "data": {
      "text/markdown": [
       "<font color=\"green\">[19:48:11] Setting centrality data on nodes in network grouped-by-186-days...</font>"
      ],
      "text/plain": [
       "<IPython.core.display.Markdown object>"
      ]
     },
     "metadata": {},
     "output_type": "display_data"
    },
    {
     "data": {
      "text/markdown": [
       "<font color=\"green\">[19:48:11]  --> `degree_centrality`</font>"
      ],
      "text/plain": [
       "<IPython.core.display.Markdown object>"
      ]
     },
     "metadata": {},
     "output_type": "display_data"
    },
    {
     "data": {
      "text/markdown": [
       "<font color=\"green\">[19:48:11]  --> `betweenness_centrality`</font>"
      ],
      "text/plain": [
       "<IPython.core.display.Markdown object>"
      ]
     },
     "metadata": {},
     "output_type": "display_data"
    },
    {
     "data": {
      "text/markdown": [
       "<font color=\"green\">[19:48:13]  --> `eigenvector_centrality`</font>"
      ],
      "text/plain": [
       "<IPython.core.display.Markdown object>"
      ]
     },
     "metadata": {},
     "output_type": "display_data"
    },
    {
     "data": {
      "text/markdown": [
       "<font color=\"green\">[19:48:14]  --> `katz_centrality`</font>"
      ],
      "text/plain": [
       "<IPython.core.display.Markdown object>"
      ]
     },
     "metadata": {},
     "output_type": "display_data"
    },
    {
     "data": {
      "text/markdown": [
       "<font color=\"green\">[19:48:14]  --> `closeness_centrality`</font>"
      ],
      "text/plain": [
       "<IPython.core.display.Markdown object>"
      ]
     },
     "metadata": {},
     "output_type": "display_data"
    },
    {
     "data": {
      "text/markdown": [
       "<font color=\"green\">[19:48:15] Setting centrality data on nodes in network grouped-by-365-days...</font>"
      ],
      "text/plain": [
       "<IPython.core.display.Markdown object>"
      ]
     },
     "metadata": {},
     "output_type": "display_data"
    },
    {
     "data": {
      "text/markdown": [
       "<font color=\"green\">[19:48:15]  --> `degree_centrality`</font>"
      ],
      "text/plain": [
       "<IPython.core.display.Markdown object>"
      ]
     },
     "metadata": {},
     "output_type": "display_data"
    },
    {
     "data": {
      "text/markdown": [
       "<font color=\"green\">[19:48:15]  --> `betweenness_centrality`</font>"
      ],
      "text/plain": [
       "<IPython.core.display.Markdown object>"
      ]
     },
     "metadata": {},
     "output_type": "display_data"
    },
    {
     "data": {
      "text/markdown": [
       "<font color=\"green\">[19:48:18]  --> `eigenvector_centrality`</font>"
      ],
      "text/plain": [
       "<IPython.core.display.Markdown object>"
      ]
     },
     "metadata": {},
     "output_type": "display_data"
    },
    {
     "data": {
      "text/markdown": [
       "<font color=\"green\">[19:48:19]  --> `katz_centrality`</font>"
      ],
      "text/plain": [
       "<IPython.core.display.Markdown object>"
      ]
     },
     "metadata": {},
     "output_type": "display_data"
    },
    {
     "data": {
      "text/markdown": [
       "<font color=\"green\">[19:48:19]  --> `closeness_centrality`</font>"
      ],
      "text/plain": [
       "<IPython.core.display.Markdown object>"
      ]
     },
     "metadata": {},
     "output_type": "display_data"
    }
   ],
   "source": [
    "for key in networks.keys():\n",
    "    log(f'Setting centrality data on nodes in network {key}...')\n",
    "    for performer in networks[key].nodes:\n",
    "        networks[key].nodes[performer]['centralities'] = {}\n",
    "\n",
    "    log(f' --> `degree_centrality`')\n",
    "    for performer, degree in nx.degree_centrality(networks[key]).items():\n",
    "        networks[key].nodes[performer]['centralities']['degree_centrality_100x'] = round(degree*100, 6)\n",
    "\n",
    "    log(f' --> `betweenness_centrality`')\n",
    "    for performer, degree in nx.betweenness_centrality(networks[key], k=len(networks[key].nodes)).items():\n",
    "        networks[key].nodes[performer]['centralities']['betweenness_centrality_100x'] = round(degree*100, 6)\n",
    "\n",
    "    log(f' --> `eigenvector_centrality`')\n",
    "    for performer, degree in nx.eigenvector_centrality(networks[key], max_iter=100, weight='weight').items():\n",
    "        networks[key].nodes[performer]['centralities']['eigenvector_centrality_100x'] = round(degree*100, 6)\n",
    "\n",
    "    # TODO: Katz centrality keeps failing within 1000 iterations :/\n",
    "    log(f' --> `katz_centrality`')\n",
    "    #try:\n",
    "    #    for performer, degree in nx.katz_centrality(networks[key]).items():\n",
    "    #        networks[key].nodes[performer]['centralities']['katz_centrality_100x'] = round(degree*100, 6)\n",
    "    #except nx.exception.PowerIterationFailedConvergence as e:\n",
    "    #    print(f'Katz Centrality failed: {e}')\n",
    "\n",
    "    log(f' --> `closeness_centrality`')\n",
    "    for performer, degree in nx.closeness_centrality(networks[key]).items():\n",
    "        networks[key].nodes[performer]['centralities']['closeness_centrality_100x'] = round(degree*100, 6)"
   ]
  },
  {
   "cell_type": "markdown",
   "metadata": {},
   "source": [
    "## Set degree per node"
   ]
  },
  {
   "cell_type": "markdown",
   "metadata": {},
   "source": [
    "### Set up function"
   ]
  },
  {
   "cell_type": "code",
   "execution_count": 23,
   "metadata": {},
   "outputs": [],
   "source": [
    "def get_degrees(G, node):\n",
    "    indegree = sum([1 for edge in G.edges if edge[0] == node])\n",
    "    outdegree = sum([1 for edge in G.edges if edge[1] == node])\n",
    "    degree = indegree + outdegree\n",
    "    \n",
    "    return {\n",
    "        'indegree': indegree,\n",
    "        'outdegree': outdegree,\n",
    "        'degree': degree\n",
    "    }"
   ]
  },
  {
   "cell_type": "markdown",
   "metadata": {},
   "source": [
    "### Add data to each network's nodes"
   ]
  },
  {
   "cell_type": "code",
   "execution_count": 24,
   "metadata": {},
   "outputs": [
    {
     "data": {
      "text/markdown": [
       "<font color=\"green\">[19:48:20] Setting degree data on nodes in network grouped-by-3-days...</font>"
      ],
      "text/plain": [
       "<IPython.core.display.Markdown object>"
      ]
     },
     "metadata": {},
     "output_type": "display_data"
    },
    {
     "data": {
      "text/markdown": [
       "<font color=\"green\">[19:48:22] Setting degree data on nodes in network grouped-by-14-days...</font>"
      ],
      "text/plain": [
       "<IPython.core.display.Markdown object>"
      ]
     },
     "metadata": {},
     "output_type": "display_data"
    },
    {
     "data": {
      "text/markdown": [
       "<font color=\"green\">[19:48:24] Setting degree data on nodes in network grouped-by-31-days...</font>"
      ],
      "text/plain": [
       "<IPython.core.display.Markdown object>"
      ]
     },
     "metadata": {},
     "output_type": "display_data"
    },
    {
     "data": {
      "text/markdown": [
       "<font color=\"green\">[19:48:27] Setting degree data on nodes in network grouped-by-93-days...</font>"
      ],
      "text/plain": [
       "<IPython.core.display.Markdown object>"
      ]
     },
     "metadata": {},
     "output_type": "display_data"
    },
    {
     "data": {
      "text/markdown": [
       "<font color=\"green\">[19:48:29] Setting degree data on nodes in network grouped-by-186-days...</font>"
      ],
      "text/plain": [
       "<IPython.core.display.Markdown object>"
      ]
     },
     "metadata": {},
     "output_type": "display_data"
    },
    {
     "data": {
      "text/markdown": [
       "<font color=\"green\">[19:48:32] Setting degree data on nodes in network grouped-by-365-days...</font>"
      ],
      "text/plain": [
       "<IPython.core.display.Markdown object>"
      ]
     },
     "metadata": {},
     "output_type": "display_data"
    }
   ],
   "source": [
    "for key in networks.keys():\n",
    "    log(f'Setting degree data on nodes in network {key}...')\n",
    "    degrees = {node: {'degrees': get_degrees(networks[key], node)} for node in networks[key].nodes}\n",
    "    nx.set_node_attributes(networks[key], degrees)"
   ]
  },
  {
   "cell_type": "markdown",
   "metadata": {},
   "source": [
    "## Add additional node and edge metadata"
   ]
  },
  {
   "cell_type": "code",
   "execution_count": 25,
   "metadata": {},
   "outputs": [],
   "source": [
    "for key, network in networks.items():    \n",
    "    for node in networks[key].nodes:\n",
    "        networks[key].nodes[node]['node_id'] = slugify(node)\n",
    "        networks[key].nodes[node]['category'] = 'performer'\n",
    "        networks[key].nodes[node]['display'] = node\n",
    "    \n",
    "    for edge in networks[key].edges:\n",
    "        networks[key].edges[edge]['comments'] = [] # TODO\n",
    "        networks[key].edges[edge]['general_comments'] = [] # TODO\n",
    "        \n",
    "        # setup 'found' property of edges\n",
    "        networks[key].edges[edge]['found'] = []\n",
    "        for _, dates in networks[key].edges[edge]['coLocated'].items():\n",
    "            for datelist in dates:\n",
    "                for date in datelist:\n",
    "                    if not date in networks[key].edges[edge]['found']:\n",
    "                        networks[key].edges[edge]['found'].append(date)\n",
    "                        \n",
    "        # setup 'comments' for all of the involved venues, cities, revues\n",
    "        networks[key].edges[edge]['comments'] = {\n",
    "            'venues': {},\n",
    "            'cities': {},\n",
    "            'revues': {}\n",
    "        }\n",
    "        '''\n",
    "        for venue in list(networks[key].edges[edge]['coLocated'].keys()):\n",
    "            networks[key].edges[edge]['comments']['venues'][venue] = all_meta['venues'][venue]\n",
    "\n",
    "        for revues in networks[key].edges[edge]['revues']:\n",
    "            for revue in revues:\n",
    "                if not revue in networks[key].edges[edge]['comments']['revues']:\n",
    "                    networks[key].edges[edge]['comments']['revues'][revue] = all_meta['revues'][revue]\n",
    "\n",
    "        for cities in networks[key].edges[edge]['cities']:\n",
    "            for city in cities:\n",
    "                if not city in networks[key].edges[edge]['comments']['cities']:\n",
    "                    networks[key].edges[edge]['comments']['cities'][city] = all_meta['cities'][city]\n",
    "        '''"
   ]
  },
  {
   "cell_type": "markdown",
   "metadata": {},
   "source": [
    "# Export"
   ]
  },
  {
   "cell_type": "code",
   "execution_count": 26,
   "metadata": {},
   "outputs": [
    {
     "data": {
      "text/markdown": [
       "<font color=\"green\">[19:48:38] Saved ./docs/data/co-occurrence-grouped-by-3-days.json</font>"
      ],
      "text/plain": [
       "<IPython.core.display.Markdown object>"
      ]
     },
     "metadata": {},
     "output_type": "display_data"
    },
    {
     "data": {
      "text/markdown": [
       "<font color=\"green\">[19:48:39] Saved ./docs/data/co-occurrence-grouped-by-14-days.json</font>"
      ],
      "text/plain": [
       "<IPython.core.display.Markdown object>"
      ]
     },
     "metadata": {},
     "output_type": "display_data"
    },
    {
     "data": {
      "text/markdown": [
       "<font color=\"green\">[19:48:40] Saved ./docs/data/co-occurrence-grouped-by-31-days.json</font>"
      ],
      "text/plain": [
       "<IPython.core.display.Markdown object>"
      ]
     },
     "metadata": {},
     "output_type": "display_data"
    },
    {
     "data": {
      "text/markdown": [
       "<font color=\"green\">[19:48:41] Saved ./docs/data/co-occurrence-grouped-by-93-days.json</font>"
      ],
      "text/plain": [
       "<IPython.core.display.Markdown object>"
      ]
     },
     "metadata": {},
     "output_type": "display_data"
    },
    {
     "data": {
      "text/markdown": [
       "<font color=\"green\">[19:48:42] Saved ./docs/data/co-occurrence-grouped-by-186-days.json</font>"
      ],
      "text/plain": [
       "<IPython.core.display.Markdown object>"
      ]
     },
     "metadata": {},
     "output_type": "display_data"
    },
    {
     "data": {
      "text/markdown": [
       "<font color=\"green\">[19:48:43] Saved ./docs/data/co-occurrence-grouped-by-365-days.json</font>"
      ],
      "text/plain": [
       "<IPython.core.display.Markdown object>"
      ]
     },
     "metadata": {},
     "output_type": "display_data"
    }
   ],
   "source": [
    "for key in networks:\n",
    "    file_name = f'co-occurrence-{key}.json'\n",
    "    \n",
    "    data = nx.node_link_data(networks[key])\n",
    "    data['createdDate'] = datetime.datetime.now().strftime('%Y-%m-%d %H:%M:%S')\n",
    "\n",
    "    with open('./docs/data/'+file_name, 'w+') as fp:\n",
    "        json.dump(obj=data, fp=fp)\n",
    "        log(f'Saved {fp.name}')"
   ]
  },
  {
   "cell_type": "code",
   "execution_count": null,
   "metadata": {},
   "outputs": [],
   "source": []
  },
  {
   "cell_type": "code",
   "execution_count": 32,
   "metadata": {},
   "outputs": [
    {
     "data": {
      "text/plain": [
       "[('Clarenz Henderson', 'Sepia Mae West'),\n",
       " ('Sepia Mae West', 'Whitie'),\n",
       " ('Sepia Mae West', 'Alice White'),\n",
       " ('Alice White', 'Thelma Lee'),\n",
       " ('Alice White', 'Baby Scruggs'),\n",
       " ('Baby Scruggs', 'Bobbie Macklin'),\n",
       " ('Bobbie Macklin', 'Carol Lee'),\n",
       " ('Carol Lee', 'Dixie Lee'),\n",
       " ('Dixie Lee', 'Nina Mae McKinney'),\n",
       " ('Nina Mae McKinney', 'Petite Swanson'),\n",
       " ('Petite Swanson', 'Doris'),\n",
       " ('Doris', 'El-Kay'),\n",
       " ('El-Kay', 'Iola Goodman'),\n",
       " ('Iola Goodman', 'Jean La Rue'),\n",
       " ('Jean La Rue', 'Joanne Crawford'),\n",
       " ('Joanne Crawford', 'Joe Robinson'),\n",
       " ('Joe Robinson', 'Lady Doris'),\n",
       " ('Lady Doris', 'Ozie Anderson'),\n",
       " ('Ozie Anderson', 'Peaches Browning'),\n",
       " ('Peaches Browning', 'Valda Gray'),\n",
       " ('Valda Gray', 'Wanda Bean'),\n",
       " ('Valda Gray', 'Billie McAllister'),\n",
       " ('Billie McAllister', 'Bobbie Davis'),\n",
       " ('Bobbie Davis', 'David J. Doyle'),\n",
       " ('David J. Doyle', 'Ed-Na Link'),\n",
       " ('Ed-Na Link', 'Jabby Caruso'),\n",
       " ('Jabby Caruso', 'Jack Caruso'),\n",
       " ('Jack Caruso', 'John D. May'),\n",
       " ('John D. May', 'José Ayala'),\n",
       " ('José Ayala', 'Max Lengel'),\n",
       " ('Max Lengel', 'Mickey Dell'),\n",
       " ('Mickey Dell', 'Robert G. Brennan'),\n",
       " ('Robert G. Brennan', 'Theodore Coppi'),\n",
       " ('Theodore Coppi', 'Thomas Martin'),\n",
       " ('Thomas Martin', \"Unnamed performer at Bird's Cage 8\"),\n",
       " ('Mickey Dell', 'Bobby Trent'),\n",
       " ('Bobby Trent', 'Connie'),\n",
       " ('Connie', 'Jackie Thomas'),\n",
       " ('Jackie Thomas', 'Adrian Ames'),\n",
       " ('Adrian Ames', 'Johnny Kaye'),\n",
       " ('Johnny Kaye', 'Billie Brannon'),\n",
       " ('Billie Brannon', 'Bobby Hayes'),\n",
       " ('Bobby Hayes', 'Francis Bouche'),\n",
       " ('Francis Bouche', 'Frankie Johnny Kaye'),\n",
       " ('Frankie Johnny Kaye', 'Gene Baye'),\n",
       " ('Gene Baye', 'Gene Casali'),\n",
       " ('Gene Casali', 'Jean Marlow'),\n",
       " ('Jean Marlow', 'Jerry Clayton'),\n",
       " ('Jerry Clayton', 'Jerry Francis'),\n",
       " ('Jerry Francis', 'Merry Pickford'),\n",
       " ('Merry Pickford', 'Mitzi Fellows'),\n",
       " ('Mitzi Fellows', 'Unnamed performer at Band Box 1'),\n",
       " ('Unnamed performer at Band Box 1', 'Unnamed performer at Band Box 10'),\n",
       " ('Unnamed performer at Band Box 10', 'Unnamed performer at Band Box 2'),\n",
       " ('Unnamed performer at Band Box 2', 'Unnamed performer at Band Box 3'),\n",
       " ('Unnamed performer at Band Box 3', 'Unnamed performer at Band Box 4'),\n",
       " ('Unnamed performer at Band Box 4', 'Unnamed performer at Band Box 5'),\n",
       " ('Unnamed performer at Band Box 5', 'Unnamed performer at Band Box 6'),\n",
       " ('Unnamed performer at Band Box 6', 'Unnamed performer at Band Box 7'),\n",
       " ('Unnamed performer at Band Box 7', 'Unnamed performer at Band Box 8'),\n",
       " ('Unnamed performer at Band Box 8', 'Unnamed performer at Band Box 9'),\n",
       " ('Unnamed performer at Band Box 9', 'Unnamed performer at Elm Lodge 10'),\n",
       " ('Unnamed performer at Elm Lodge 10', 'Unnamed performer at Elm Lodge 11'),\n",
       " ('Unnamed performer at Elm Lodge 11', 'Unnamed performer at Elm Lodge 12'),\n",
       " ('Unnamed performer at Elm Lodge 12', 'Unnamed performer at Elm Lodge 13'),\n",
       " ('Unnamed performer at Elm Lodge 13', 'Unnamed performer at Elm Lodge 14'),\n",
       " ('Unnamed performer at Elm Lodge 14', 'Unnamed performer at Elm Lodge 15'),\n",
       " ('Unnamed performer at Elm Lodge 15', 'Unnamed performer at Elm Lodge 8'),\n",
       " ('Unnamed performer at Elm Lodge 8', 'Unnamed performer at Elm Lodge 9'),\n",
       " ('Unnamed performer at Elm Lodge 8', 'Danny King'),\n",
       " ('Danny King', 'Billy Irwin'),\n",
       " ('Billy Irwin', 'Bobby Allen'),\n",
       " ('Bobby Allen', 'Evelyn West'),\n",
       " ('Evelyn West', 'Frances Lee'),\n",
       " ('Frances Lee', 'Jerry Le Roy'),\n",
       " ('Jerry Le Roy', 'Magda Andre'),\n",
       " ('Magda Andre', 'Wilkie Mason'),\n",
       " ('Wilkie Mason', 'Woody Wilson'),\n",
       " ('Wilkie Mason', '3 Smart Girls'),\n",
       " ('3 Smart Girls', 'Al De Lage'),\n",
       " ('Al De Lage', 'Anita James'),\n",
       " ('Anita James', 'Audri Ann'),\n",
       " ('Audri Ann', 'Billy Hayes'),\n",
       " ('Billy Hayes', 'Cleo Renee'),\n",
       " ('Cleo Renee', 'Del Gray Girls'),\n",
       " ('Del Gray Girls', 'Gene Dana'),\n",
       " ('Gene Dana', 'Gene Mason'),\n",
       " ('Gene Mason', 'Gita Gilmore'),\n",
       " ('Gita Gilmore', 'Danny Brown'),\n",
       " ('Danny Brown', 'Darryl? Gilbert?'),\n",
       " ('Darryl? Gilbert?', 'Jackie Starr'),\n",
       " ('Jackie Starr', 'Doyle Mack'),\n",
       " ('Doyle Mack', 'Flo Arden'),\n",
       " ('Flo Arden', 'George Hayes'),\n",
       " ('George Hayes', 'Irvin Mazzie'),\n",
       " ('Irvin Mazzie', 'Jackie Lane'),\n",
       " ('Jackie Lane', 'Kit (\"Titanic\") Russell'),\n",
       " ('Kit (\"Titanic\") Russell', 'Marjorie Jaune'),\n",
       " ('Marjorie Jaune', 'Paul Russell'),\n",
       " ('Paul Russell', 'Princess Diane'),\n",
       " ('Princess Diane', 'Tiny Kingsmore'),\n",
       " ('Tiny Kingsmore', 'Unnamed performer at Anchor Nite Club 1'),\n",
       " ('Unnamed performer at Anchor Nite Club 1',\n",
       "  'Unnamed performer at Anchor Nite Club 10'),\n",
       " ('Unnamed performer at Anchor Nite Club 10',\n",
       "  'Unnamed performer at Anchor Nite Club 11'),\n",
       " ('Unnamed performer at Anchor Nite Club 11',\n",
       "  'Unnamed performer at Anchor Nite Club 12'),\n",
       " ('Unnamed performer at Anchor Nite Club 12',\n",
       "  'Unnamed performer at Anchor Nite Club 13'),\n",
       " ('Unnamed performer at Anchor Nite Club 13',\n",
       "  'Unnamed performer at Anchor Nite Club 2'),\n",
       " ('Unnamed performer at Anchor Nite Club 2',\n",
       "  'Unnamed performer at Anchor Nite Club 3'),\n",
       " ('Unnamed performer at Anchor Nite Club 3',\n",
       "  'Unnamed performer at Anchor Nite Club 4'),\n",
       " ('Unnamed performer at Anchor Nite Club 4',\n",
       "  'Unnamed performer at Anchor Nite Club 5'),\n",
       " ('Unnamed performer at Anchor Nite Club 5',\n",
       "  'Unnamed performer at Anchor Nite Club 6'),\n",
       " ('Unnamed performer at Anchor Nite Club 6',\n",
       "  'Unnamed performer at Anchor Nite Club 7'),\n",
       " ('Unnamed performer at Anchor Nite Club 7',\n",
       "  'Unnamed performer at Anchor Nite Club 8'),\n",
       " ('Unnamed performer at Anchor Nite Club 8',\n",
       "  'Unnamed performer at Anchor Nite Club 9'),\n",
       " ('Tiny Kingsmore', 'Bill Howard'),\n",
       " ('Bill Howard', 'Billy Rohmer'),\n",
       " ('Billy Rohmer', 'Del Le Roy'),\n",
       " ('Del Le Roy', 'Eddie Morton'),\n",
       " ('Eddie Morton', 'Jean La Monte'),\n",
       " ('Jean La Monte', 'Lyle Mack'),\n",
       " ('Lyle Mack', 'Norman Lewis'),\n",
       " ('Norman Lewis', 'Verne Valdez'),\n",
       " ('Verne Valdez', 'Billy Pinnell'),\n",
       " ('Billy Pinnell', 'Bobbie Bell'),\n",
       " ('Bobbie Bell', 'Bobby La Rue'),\n",
       " ('Bobby La Rue', 'Charles Bell'),\n",
       " ('Charles Bell', 'Dixie Dixon'),\n",
       " ('Dixie Dixon', 'Jackie Giggles'),\n",
       " ('Jackie Giggles', 'Jerry Faye'),\n",
       " ('Jerry Faye', 'Lena Rivers'),\n",
       " ('Lena Rivers', 'Li Kar'),\n",
       " ('Li Kar', 'Al Benson'),\n",
       " ('Al Benson', 'Art West'),\n",
       " ('Art West', 'Babe Allen'),\n",
       " ('Babe Allen', 'Betty Munden'),\n",
       " ('Betty Munden', 'Billie Brennan'),\n",
       " ('Billie Brennan', 'Billie Russell'),\n",
       " ('Billie Russell', 'Billy Richards'),\n",
       " ('Billy Richards', 'Al Garbell'),\n",
       " ('Al Garbell', 'Edna Leonard'),\n",
       " ('Edna Leonard', 'George Oliver'),\n",
       " ('George Oliver', 'Jean LaMarr'),\n",
       " ('Jean LaMarr', 'Johnny Mangrum'),\n",
       " ('Johnny Mangrum', 'Billy Brill'),\n",
       " ('Billy Brill', 'Billy Joy'),\n",
       " ('Billy Joy', 'Bobbie La Marr'),\n",
       " ('Bobbie La Marr', 'Gene Ford'),\n",
       " ('Gene Ford', 'Harry Fink'),\n",
       " ('Harry Fink', 'Mickey Standley'),\n",
       " ('Mickey Standley', 'Pepper Cortez'),\n",
       " ('Pepper Cortez', 'Ralph Gilbert'),\n",
       " ('Ralph Gilbert', 'Frank Stroud'),\n",
       " ('Ralph Gilbert', 'Heaton Sisters'),\n",
       " ('Heaton Sisters', 'Jack Steiner'),\n",
       " ('Jack Steiner', 'Jean Arnold'),\n",
       " ('Jean Arnold', 'Jean Russell'),\n",
       " ('Jean Russell', 'Margie Mansell'),\n",
       " ('Margie Mansell', 'Mickey Comforte'),\n",
       " ('Mickey Comforte', 'Norm Priest'),\n",
       " ('Norm Priest', 'Roy Houk'),\n",
       " ('Roy Houk', 'Sid Ward'),\n",
       " ('Jean Russell', 'Billy (\"Senorita\") Herrera'),\n",
       " ('Billy (\"Senorita\") Herrera', 'Al DeMarco'),\n",
       " ('Al DeMarco', 'Giggles Craig'),\n",
       " ('Giggles Craig', 'Jean Osborne'),\n",
       " ('Jean Osborne', 'Melvin Evans'),\n",
       " ('Melvin Evans', 'Nicki Gallucci'),\n",
       " ('Nicki Gallucci', 'Bobby Ferguson'),\n",
       " ('Bobby Ferguson', 'Brooks Twins'),\n",
       " ('Brooks Twins', 'Don Rand'),\n",
       " ('Don Rand', 'Frances David'),\n",
       " ('Frances David', 'Jack Craig'),\n",
       " ('Jack Craig', 'Jerry Vaughn'),\n",
       " ('Jerry Vaughn', 'John Lonas'),\n",
       " ('John Lonas', 'Ray Francis'),\n",
       " ('Ray Francis', 'Jose Del Rio'),\n",
       " ('Jose Del Rio', 'Karyl Norman'),\n",
       " ('Karyl Norman', 'Bert Errol'),\n",
       " ('Bert Errol', 'Herbert Clifton'),\n",
       " ('Karyl Norman', 'Teddy —'),\n",
       " ('Teddy —', 'Yvonne —'),\n",
       " ('Teddy —', 'Jewel'),\n",
       " ('Karyl Norman', 'Doran? West? Doran?'),\n",
       " ('Doran? West? Doran?', 'Joseph Bart'),\n",
       " ('Joseph Bart', 'Leon LaVerde'),\n",
       " ('Leon LaVerde', 'Freddie Renault'),\n",
       " ('Freddie Renault', 'Jackie Lopez'),\n",
       " ('Jackie Lopez', 'Reeder Richards'),\n",
       " ('Reeder Richards', 'Walter Hart'),\n",
       " ('Walter Hart', 'Frank Doran'),\n",
       " ('Frank Doran', 'Freddie Wheeler'),\n",
       " ('Freddie Wheeler', 'Jackie Maye'),\n",
       " ('Jackie Maye', 'Arthur Budd'),\n",
       " ('Arthur Budd', 'Louis Edelstein'),\n",
       " ('Arthur Budd', 'Babe Baker'),\n",
       " ('Babe Baker', 'Bill Kennedy'),\n",
       " ('Bill Kennedy', 'Bill Rohmer'),\n",
       " ('Bill Rohmer', 'Blackie Dennis'),\n",
       " ('Blackie Dennis', 'Dave Shaw'),\n",
       " ('Dave Shaw', 'Alfred Carmen'),\n",
       " ('Alfred Carmen', 'Arica Wild'),\n",
       " ('Arica Wild', 'Billy West'),\n",
       " ('Billy West', 'Lucian'),\n",
       " ('Lucian', 'Beale St. Boys'),\n",
       " ('Beale St. Boys', 'Betty Borgreve'),\n",
       " ('Betty Borgreve', 'Carol Mack'),\n",
       " ('Carol Mack', 'Claire Ray'),\n",
       " ('Claire Ray', 'Frances La Verne'),\n",
       " ('Frances La Verne', 'Freddie Monroe'),\n",
       " ('Freddie Monroe', 'Gene Lewis'),\n",
       " ('Gene Lewis', 'Gene Renee'),\n",
       " ('Gene Renee', 'Harry Bernie'),\n",
       " ('Harry Bernie', 'Jack Mason'),\n",
       " ('Jack Mason', 'Garry Teasdale'),\n",
       " ('Garry Teasdale', 'Hot-Cha Hinton'),\n",
       " ('Hot-Cha Hinton', 'Francis Blair'),\n",
       " ('Francis Blair', 'Nadja'),\n",
       " ('Francis Blair', 'Dorothy Page'),\n",
       " ('Dorothy Page', 'Jessie Lee'),\n",
       " ('Jessie Lee', 'Lee Carroll'),\n",
       " ('Lee Carroll', 'Alberta Vaughn'),\n",
       " ('Alberta Vaughn', 'Bobby Norman'),\n",
       " ('Bobby Norman', 'Connie Walsh'),\n",
       " ('Connie Walsh', 'Billie Beryl'),\n",
       " ('Billie Beryl', 'Buddy Mayo'),\n",
       " ('Buddy Mayo', 'Benny Pauly'),\n",
       " ('Benny Pauly', 'Francis Bond'),\n",
       " ('Francis Bond', 'Jack Calahan'),\n",
       " ('Jack Calahan', 'Jean Darling'),\n",
       " ('Jean Darling', 'Larry West'),\n",
       " ('Larry West', 'Lyle Page'),\n",
       " ('Lyle Page', 'Lanny Brice'),\n",
       " ('Lanny Brice', 'Bobby Royce'),\n",
       " ('Bobby Royce', 'Buster Brant'),\n",
       " ('Buster Brant', 'Francis Loite'),\n",
       " ('Francis Loite', 'Patty Baker'),\n",
       " ('Patty Baker', 'Terry La Monte'),\n",
       " ('Terry La Monte', 'Funny Fanny'),\n",
       " ('Funny Fanny', 'Fay Norman'),\n",
       " ('Fay Norman', 'Unnamed performer at 9 Mile House 1'),\n",
       " ('Unnamed performer at 9 Mile House 1',\n",
       "  'Unnamed performer at 9 Mile House 10'),\n",
       " ('Unnamed performer at 9 Mile House 10',\n",
       "  'Unnamed performer at 9 Mile House 11'),\n",
       " ('Unnamed performer at 9 Mile House 11',\n",
       "  'Unnamed performer at 9 Mile House 12'),\n",
       " ('Unnamed performer at 9 Mile House 12',\n",
       "  'Unnamed performer at 9 Mile House 13'),\n",
       " ('Unnamed performer at 9 Mile House 13',\n",
       "  'Unnamed performer at 9 Mile House 14'),\n",
       " ('Unnamed performer at 9 Mile House 14',\n",
       "  'Unnamed performer at 9 Mile House 15'),\n",
       " ('Unnamed performer at 9 Mile House 15',\n",
       "  'Unnamed performer at 9 Mile House 2'),\n",
       " ('Unnamed performer at 9 Mile House 2',\n",
       "  'Unnamed performer at 9 Mile House 3'),\n",
       " ('Unnamed performer at 9 Mile House 3',\n",
       "  'Unnamed performer at 9 Mile House 4'),\n",
       " ('Unnamed performer at 9 Mile House 4',\n",
       "  'Unnamed performer at 9 Mile House 5'),\n",
       " ('Unnamed performer at 9 Mile House 5',\n",
       "  'Unnamed performer at 9 Mile House 6'),\n",
       " ('Unnamed performer at 9 Mile House 6',\n",
       "  'Unnamed performer at 9 Mile House 7'),\n",
       " ('Unnamed performer at 9 Mile House 7',\n",
       "  'Unnamed performer at 9 Mile House 8'),\n",
       " ('Unnamed performer at 9 Mile House 8',\n",
       "  'Unnamed performer at 9 Mile House 9'),\n",
       " ('Fay Norman', 'Jud King'),\n",
       " ('Jud King', 'Mickey Nelson'),\n",
       " ('Mickey Nelson', 'Tangara'),\n",
       " ('Tangara', 'Unnamed performer at Club Ambassador 1'),\n",
       " ('Unnamed performer at Club Ambassador 1',\n",
       "  'Unnamed performer at Club Ambassador 10'),\n",
       " ('Unnamed performer at Club Ambassador 10',\n",
       "  'Unnamed performer at Club Ambassador 11'),\n",
       " ('Unnamed performer at Club Ambassador 11',\n",
       "  'Unnamed performer at Club Ambassador 12'),\n",
       " ('Unnamed performer at Club Ambassador 12',\n",
       "  'Unnamed performer at Club Ambassador 13'),\n",
       " ('Unnamed performer at Club Ambassador 13',\n",
       "  'Unnamed performer at Club Ambassador 14'),\n",
       " ('Unnamed performer at Club Ambassador 14',\n",
       "  'Unnamed performer at Club Ambassador 2'),\n",
       " ('Unnamed performer at Club Ambassador 2',\n",
       "  'Unnamed performer at Club Ambassador 3'),\n",
       " ('Unnamed performer at Club Ambassador 3',\n",
       "  'Unnamed performer at Club Ambassador 4'),\n",
       " ('Unnamed performer at Club Ambassador 4',\n",
       "  'Unnamed performer at Club Ambassador 5'),\n",
       " ('Unnamed performer at Club Ambassador 5',\n",
       "  'Unnamed performer at Club Ambassador 6'),\n",
       " ('Unnamed performer at Club Ambassador 6',\n",
       "  'Unnamed performer at Club Ambassador 7'),\n",
       " ('Unnamed performer at Club Ambassador 7',\n",
       "  'Unnamed performer at Club Ambassador 8'),\n",
       " ('Unnamed performer at Club Ambassador 8',\n",
       "  'Unnamed performer at Club Ambassador 9'),\n",
       " ('Tangara', 'Bud Hart'),\n",
       " ('Bud Hart', 'Carlo Levins'),\n",
       " ('Carlo Levins', 'Garbo'),\n",
       " ('Garbo', 'Jacquette La Marr'),\n",
       " ('Jacquette La Marr', 'Pep Murray'),\n",
       " ('Pep Murray', \"Billy O'Brien\"),\n",
       " (\"Billy O'Brien\", 'Bobby Brennan'),\n",
       " ('Bobby Brennan', 'Bobby Verrill'),\n",
       " ('Bobby Verrill', 'Jean Farrelly'),\n",
       " ('Jean Farrelly', 'Del Dreer'),\n",
       " ('Del Dreer', 'Dennis Griffin'),\n",
       " ('Dennis Griffin', 'George Kelly'),\n",
       " ('George Kelly', 'Gerald Francis'),\n",
       " ('Gerald Francis', 'Harvey Lee'),\n",
       " ('Harvey Lee', 'J. John Howard'),\n",
       " ('J. John Howard', 'Jackie Adams'),\n",
       " ('Jackie Adams', 'Roni Warren'),\n",
       " ('Roni Warren', 'Francis Renault'),\n",
       " ('Francis Renault', 'Rae Bourbon'),\n",
       " ('Rae Bourbon', 'Paulette La Pierre'),\n",
       " ('Rae Bourbon', \"Unnamed performer at B.B.B.'s cellar 1\"),\n",
       " (\"Unnamed performer at B.B.B.'s cellar 1\",\n",
       "  \"Unnamed performer at B.B.B.'s cellar 10\"),\n",
       " (\"Unnamed performer at B.B.B.'s cellar 10\",\n",
       "  \"Unnamed performer at B.B.B.'s cellar 2\"),\n",
       " (\"Unnamed performer at B.B.B.'s cellar 2\",\n",
       "  \"Unnamed performer at B.B.B.'s cellar 3\"),\n",
       " (\"Unnamed performer at B.B.B.'s cellar 3\",\n",
       "  \"Unnamed performer at B.B.B.'s cellar 4\"),\n",
       " (\"Unnamed performer at B.B.B.'s cellar 4\",\n",
       "  \"Unnamed performer at B.B.B.'s cellar 5\"),\n",
       " (\"Unnamed performer at B.B.B.'s cellar 5\",\n",
       "  \"Unnamed performer at B.B.B.'s cellar 6\"),\n",
       " (\"Unnamed performer at B.B.B.'s cellar 6\",\n",
       "  \"Unnamed performer at B.B.B.'s cellar 7\"),\n",
       " (\"Unnamed performer at B.B.B.'s cellar 7\",\n",
       "  \"Unnamed performer at B.B.B.'s cellar 8\"),\n",
       " (\"Unnamed performer at B.B.B.'s cellar 8\",\n",
       "  \"Unnamed performer at B.B.B.'s cellar 9\"),\n",
       " (\"Unnamed performer at B.B.B.'s cellar 9\", \"Unnamed performer at BBB's\"),\n",
       " ('Rae Bourbon', 'Betty Colton'),\n",
       " ('Betty Colton', 'Cliftonn Argue'),\n",
       " ('Cliftonn Argue', 'E. Russell'),\n",
       " ('E. Russell', 'Helen Lee'),\n",
       " ('Helen Lee', 'Nellie Durkin'),\n",
       " ('Rae Bourbon', 'Dan Carson'),\n",
       " ('Dan Carson', 'Eddie Lee'),\n",
       " ('Eddie Lee', 'Leonard Soules'),\n",
       " ('Leonard Soules', 'Neil Dornay'),\n",
       " ('Neil Dornay', 'Fred Noll'),\n",
       " ('Fred Noll', 'Sam Silvers'),\n",
       " ('Francis Renault', 'Nazi Mova'),\n",
       " ('Francis Renault', 'Julian Eltinge'),\n",
       " ('Julian Eltinge', 'Lester Lamont'),\n",
       " ('Lester Lamont', 'Jackie Lorraine'),\n",
       " ('Jackie Lorraine', 'Jean Lures'),\n",
       " ('Jean Lures', 'Jean Malin'),\n",
       " ('Jean Malin', 'Rocky'),\n",
       " ('Jean Malin', 'John Maxwell'),\n",
       " ('John Maxwell', 'Lila Carmen'),\n",
       " ('Lila Carmen', 'Reggie \"Dolly\" Windsor'),\n",
       " ('Reggie \"Dolly\" Windsor', 'Satch? Satchell?'),\n",
       " ('Satch? Satchell?', \"Sonny O'Shea\"),\n",
       " (\"Sonny O'Shea\", 'Tex Hendricks'),\n",
       " ('Tex Hendricks', 'Frances Dunn'),\n",
       " ('Frances Dunn', 'Joan Rogers'),\n",
       " ('Joan Rogers', 'Lynn? De Marco?'),\n",
       " ('Lynn? De Marco?', 'Lynn? Johnson?'),\n",
       " ('Lynn? Johnson?', 'Murray Swanson'),\n",
       " ('Murray Swanson', 'Pat Clayton'),\n",
       " ('Pat Clayton', 'Stanley Rogers'),\n",
       " ('Stanley Rogers', 'Teddy Cappy'),\n",
       " ('Stanley Rogers', 'Bert Sherry'),\n",
       " ('Bert Sherry', 'Billy Beryl'),\n",
       " ('Bert Sherry', 'Don Holly'),\n",
       " ('Don Holly', 'Francis Stillman'),\n",
       " ('Francis Stillman', 'Eli Madlof'),\n",
       " ('Eli Madlof', 'Bobbie Blue'),\n",
       " ('Bobbie Blue', 'Bobbie Kaye'),\n",
       " ('Bobbie Kaye', 'Bobby Bell'),\n",
       " ('Bobby Bell', 'Bobby Cummins'),\n",
       " ('Bobby Cummins', 'Bonnie Lee'),\n",
       " ('Bonnie Lee', 'Donald Grey'),\n",
       " ('Donald Grey', 'Frances Daird'),\n",
       " ('Frances Daird', 'Frankie Shroud'),\n",
       " ('Frankie Shroud', 'Gene Gordon'),\n",
       " ('Gene Gordon', 'Gypsy Dolan'),\n",
       " ('Gypsy Dolan', 'Nadine Norman'),\n",
       " ('Nadine Norman', 'Peggy Malone'),\n",
       " ('Peggy Malone', 'Ted Cook'),\n",
       " ('Ted Cook', 'Teddie Stanton'),\n",
       " ('Ted Cook', 'Bobby Stevens'),\n",
       " ('Bobby Stevens', 'Constance Bennett'),\n",
       " ('Constance Bennett', 'Earl Partello'),\n",
       " ('Earl Partello', 'Enesco?'),\n",
       " ('Enesco?', 'Enna Davison'),\n",
       " ('Enna Davison', 'F? G? Doran'),\n",
       " ('F? G? Doran', 'Half-Pint Jaxon'),\n",
       " ('Half-Pint Jaxon', 'Jean Taylor'),\n",
       " ('Jean Taylor', 'Jimmy Carrigan'),\n",
       " ('Jimmy Carrigan', 'Margaret Cook'),\n",
       " ('Margaret Cook', 'Sylvia Rose'),\n",
       " ('Sylvia Rose', 'Georgie Kaye'),\n",
       " ('Georgie Kaye', 'Chicki Forrest'),\n",
       " ('Georgie Kaye', 'Jene Cortez'),\n",
       " ('Jene Cortez', 'Julia Stevens'),\n",
       " ('Julia Stevens', 'Niki Nash'),\n",
       " ('Niki Nash', 'Stanley Jabin'),\n",
       " ('Stanley Jabin', 'Bobby Anderson'),\n",
       " ('Bobby Anderson', \"Cherie O'Dea\"),\n",
       " (\"Cherie O'Dea\", 'Dick Buckley'),\n",
       " ('Dick Buckley', 'Frances'),\n",
       " ('Frances', 'Gabby Lee'),\n",
       " ('Gabby Lee', 'Gomez? Veyenne?'),\n",
       " ('Gomez? Veyenne?', 'Harry Kelly'),\n",
       " ('Harry Kelly', 'Jack Hughes'),\n",
       " ('Jack Hughes', 'Jo-Jo'),\n",
       " ('Jo-Jo', 'Marty Deem'),\n",
       " ('Marty Deem', 'Walter McDonald'),\n",
       " ('Georgie Kaye', 'Lynn Castle'),\n",
       " ('Lynn Castle', 'Wally Thompson'),\n",
       " ('Gypsy Dolan', 'Bunny Dorne'),\n",
       " ('Bunny Dorne', 'Harry E. Brewster'),\n",
       " ('Donald Grey', 'Carl Clewis'),\n",
       " ('Carl Clewis', 'Chickie Mears'),\n",
       " ('Chickie Mears', 'Bobby Lane'),\n",
       " ('Bobby Lane', 'Buster Hewitt'),\n",
       " ('Buster Hewitt', 'Florence King'),\n",
       " ('Florence King', 'Kenn King'),\n",
       " ('Kenn King', 'Lee Moore'),\n",
       " ('Lee Moore', 'Leonard Jans'),\n",
       " ('Leonard Jans', 'Johnny David'),\n",
       " ('Johnny David', 'Don Kenyard'),\n",
       " ('Johnny David', 'Karlon Owens'),\n",
       " ('Leonard Jans', 'Unnamed performer at Plaza Cafe 1'),\n",
       " ('Unnamed performer at Plaza Cafe 1', 'Unnamed performer at Plaza Cafe 2'),\n",
       " ('Unnamed performer at Plaza Cafe 2', 'Unnamed performer at Plaza Cafe 3'),\n",
       " ('Unnamed performer at Plaza Cafe 3', 'Unnamed performer at Plaza Cafe 4'),\n",
       " ('Unnamed performer at Plaza Cafe 4', 'Unnamed performer at Plaza Cafe 5'),\n",
       " ('Unnamed performer at Plaza Cafe 5', 'Unnamed performer at Plaza Cafe 6'),\n",
       " ('Unnamed performer at Plaza Cafe 6', 'Unnamed performer at Plaza Cafe 7'),\n",
       " ('Unnamed performer at Plaza Cafe 7', 'Unnamed performer at Plaza Cafe 8'),\n",
       " ('Leonard Jans', 'Eddie Doyle'),\n",
       " ('Eddie Doyle', 'Francis Strom'),\n",
       " ('Francis Strom', 'Billy Kent'),\n",
       " ('Billy Kent', 'Helen Tustin'),\n",
       " ('Helen Tustin', 'La Carmentita'),\n",
       " ('La Carmentita', 'Ora Monte'),\n",
       " ('Ora Monte', \"Ram'ee\"),\n",
       " (\"Ram'ee\", 'Rani Dorzi'),\n",
       " ('Rani Dorzi', 'Tom Hose'),\n",
       " ('Tom Hose', 'Unnamed impersonator at Torch Club'),\n",
       " ('Unnamed impersonator at Torch Club', 'Val Turek'),\n",
       " ('Val Turek', 'Thompson Twin 1'),\n",
       " ('Thompson Twin 1', 'Thompson Twin 2'),\n",
       " ('Eli Madlof', 'Leon Fredericks'),\n",
       " ('Leon Fredericks', \"Unnamed performer at Dante's Inferno 1\"),\n",
       " (\"Unnamed performer at Dante's Inferno 1\",\n",
       "  \"Unnamed performer at Dante's Inferno 2\"),\n",
       " (\"Unnamed performer at Dante's Inferno 2\",\n",
       "  \"Unnamed performer at Dante's Inferno 3\"),\n",
       " ('Francis Stillman', 'Freddie Phillips'),\n",
       " ('Freddie Phillips', 'Jerry Trevor'),\n",
       " ('Jerry Trevor', 'Patsy Campbell'),\n",
       " ('Reggie \"Dolly\" Windsor', 'Najean Loy'),\n",
       " ('Reggie \"Dolly\" Windsor', 'Bobby Johnson'),\n",
       " ('Bobby Johnson', 'Mildred Martin'),\n",
       " ('Mildred Martin', 'Terry Stone'),\n",
       " ('Jackie Lorraine', 'James Costa'),\n",
       " ('James Costa', 'James Lyons'),\n",
       " ('James Lyons', 'Jimmie Sheri'),\n",
       " ('Jimmie Sheri', 'Manuel DeMonte'),\n",
       " ('Manuel DeMonte', 'Peppy Carman'),\n",
       " ('Peppy Carman', 'Robert Brennan'),\n",
       " ('Robert Brennan', 'Robert P. Philip'),\n",
       " ('Robert P. Philip', 'Teddy Hayes'),\n",
       " ('Teddy Hayes', 'Teddy Keller'),\n",
       " ('Teddy Keller', 'Frankie Gondone'),\n",
       " ('Peppy Carman', 'Billy Rosser'),\n",
       " ('Billy Rosser', 'Dottie Johns'),\n",
       " ('Dottie Johns', 'Fifi Darling'),\n",
       " ('Fifi Darling', 'Frances Hall'),\n",
       " ('Frances Hall', 'Francis Lucas'),\n",
       " ('Francis Lucas', 'Frank Gaines'),\n",
       " ('Frank Gaines', 'Fritzie Feltz'),\n",
       " ('Fritzie Feltz', 'Ginger Rudell'),\n",
       " ('Ginger Rudell', 'Gloria Stoddard'),\n",
       " ('Gloria Stoddard', 'Jay Wolfe'),\n",
       " ('Jay Wolfe', 'Jean Francis'),\n",
       " ('Jean Francis', 'Jessie Rogers'),\n",
       " ('Jessie Rogers', \"Joann O'Brien\"),\n",
       " (\"Joann O'Brien\", 'Johnnie Langstone'),\n",
       " ('Johnnie Langstone', 'Kiki Hall'),\n",
       " ('Kiki Hall', 'Mickey Siegmund'),\n",
       " ('Mickey Siegmund', 'Norma Jean'),\n",
       " ('Norma Jean', 'Patsy Keller'),\n",
       " ('Patsy Keller', 'Sally'),\n",
       " ('Sally', 'Sonny La Ray'),\n",
       " ('Sonny La Ray', 'Violet Ceravola'),\n",
       " ('Violet Ceravola', 'Violet Clements'),\n",
       " ('Sonny La Ray', 'Bette Newmon'),\n",
       " ('Bette Newmon', 'Billy Monti'),\n",
       " ('Billy Monti', 'Joe Rogers'),\n",
       " ('Joe Rogers', 'Sunny Lane'),\n",
       " ('Sunny Lane', 'Terry Lane'),\n",
       " ('Terry Lane', 'Eddie Crawford'),\n",
       " ('Eddie Crawford', 'Gene Darling'),\n",
       " ('Gene Darling', 'Jackie Lynch'),\n",
       " ('Jackie Lynch', 'Unnamed performer at Elm Lodge 1'),\n",
       " ('Unnamed performer at Elm Lodge 1', 'Unnamed performer at Elm Lodge 2'),\n",
       " ('Unnamed performer at Elm Lodge 2', 'Unnamed performer at Elm Lodge 3'),\n",
       " ('Unnamed performer at Elm Lodge 3', 'Unnamed performer at Elm Lodge 4'),\n",
       " ('Unnamed performer at Elm Lodge 4', 'Unnamed performer at Elm Lodge 5'),\n",
       " ('Unnamed performer at Elm Lodge 5', 'Unnamed performer at Elm Lodge 6'),\n",
       " ('Unnamed performer at Elm Lodge 6', 'Unnamed performer at Elm Lodge 7'),\n",
       " ('Eddie Crawford', 'James Casalino'),\n",
       " ('James Casalino', 'James E. E. Myers'),\n",
       " ('James E. E. Myers', 'James E. Myers'),\n",
       " ('James E. Myers', 'Robert A. Lyons'),\n",
       " ('Robert A. Lyons', 'Stanley E. Caulfield'),\n",
       " ('Stanley E. Caulfield', \"Unnamed performer at Knoll's Inn 1\"),\n",
       " (\"Unnamed performer at Knoll's Inn 1\", \"Unnamed performer at Knoll's Inn 2\"),\n",
       " (\"Unnamed performer at Knoll's Inn 2\", \"Unnamed performer at Knoll's Inn 3\"),\n",
       " (\"Unnamed performer at Knoll's Inn 3\", \"Unnamed performer at Knoll's Inn 4\"),\n",
       " (\"Unnamed performer at Knoll's Inn 4\", \"Unnamed performer at Knoll's Inn 5\"),\n",
       " (\"Unnamed performer at Knoll's Inn 5\", \"Unnamed performer at Knoll's Inn 6\"),\n",
       " (\"Unnamed performer at Knoll's Inn 6\", \"Unnamed performer at Knoll's Inn 7\"),\n",
       " (\"Unnamed performer at Knoll's Inn 7\", 'William Lee Becker'),\n",
       " ('Jimmie Sheri', 'Eddie Rogers'),\n",
       " ('Eddie Rogers', 'Mickey Strauss'),\n",
       " ('Mickey Strauss', 'Dimples'),\n",
       " ('Lester Lamont', 'Dixie DeLane'),\n",
       " ('Francis Renault', 'Olyn Landick'),\n",
       " ('Francis Renault', 'Bobby Jones'),\n",
       " ('Bobby Jones', 'Clare St. Clair'),\n",
       " ('Clare St. Clair', 'Davy Lee'),\n",
       " ('Davy Lee', 'Dolly Levins'),\n",
       " ('Dolly Levins', 'Gay Byerd'),\n",
       " ('Gay Byerd', 'Ina Gaskill'),\n",
       " ('Ina Gaskill', 'Marvene Nelson'),\n",
       " ('Marvene Nelson', 'Mona La Fountaine'),\n",
       " ('Mona La Fountaine',\n",
       "  \"Unnamed performer at Dwan's Recreation Gardens in 1936 1\"),\n",
       " (\"Unnamed performer at Dwan's Recreation Gardens in 1936 1\",\n",
       "  \"Unnamed performer at Dwan's Recreation Gardens in 1936 10\"),\n",
       " (\"Unnamed performer at Dwan's Recreation Gardens in 1936 10\",\n",
       "  \"Unnamed performer at Dwan's Recreation Gardens in 1936 11\"),\n",
       " (\"Unnamed performer at Dwan's Recreation Gardens in 1936 11\",\n",
       "  \"Unnamed performer at Dwan's Recreation Gardens in 1936 12\"),\n",
       " (\"Unnamed performer at Dwan's Recreation Gardens in 1936 12\",\n",
       "  \"Unnamed performer at Dwan's Recreation Gardens in 1936 2\"),\n",
       " (\"Unnamed performer at Dwan's Recreation Gardens in 1936 2\",\n",
       "  \"Unnamed performer at Dwan's Recreation Gardens in 1936 3\"),\n",
       " (\"Unnamed performer at Dwan's Recreation Gardens in 1936 3\",\n",
       "  \"Unnamed performer at Dwan's Recreation Gardens in 1936 4\"),\n",
       " (\"Unnamed performer at Dwan's Recreation Gardens in 1936 4\",\n",
       "  \"Unnamed performer at Dwan's Recreation Gardens in 1936 5\"),\n",
       " (\"Unnamed performer at Dwan's Recreation Gardens in 1936 5\",\n",
       "  \"Unnamed performer at Dwan's Recreation Gardens in 1936 6\"),\n",
       " (\"Unnamed performer at Dwan's Recreation Gardens in 1936 6\",\n",
       "  \"Unnamed performer at Dwan's Recreation Gardens in 1936 7\"),\n",
       " (\"Unnamed performer at Dwan's Recreation Gardens in 1936 7\",\n",
       "  \"Unnamed performer at Dwan's Recreation Gardens in 1936 8\"),\n",
       " (\"Unnamed performer at Dwan's Recreation Gardens in 1936 8\",\n",
       "  \"Unnamed performer at Dwan's Recreation Gardens in 1936 9\"),\n",
       " (\"Unnamed performer at Dwan's Recreation Gardens in 1936 9\",\n",
       "  \"Unnamed performer at Dwan's Recreation Gardens in 1937 1\"),\n",
       " (\"Unnamed performer at Dwan's Recreation Gardens in 1937 1\",\n",
       "  \"Unnamed performer at Dwan's Recreation Gardens in 1937 10\"),\n",
       " (\"Unnamed performer at Dwan's Recreation Gardens in 1937 10\",\n",
       "  \"Unnamed performer at Dwan's Recreation Gardens in 1937 11\"),\n",
       " (\"Unnamed performer at Dwan's Recreation Gardens in 1937 11\",\n",
       "  \"Unnamed performer at Dwan's Recreation Gardens in 1937 12\"),\n",
       " (\"Unnamed performer at Dwan's Recreation Gardens in 1937 12\",\n",
       "  \"Unnamed performer at Dwan's Recreation Gardens in 1937 2\"),\n",
       " (\"Unnamed performer at Dwan's Recreation Gardens in 1937 2\",\n",
       "  \"Unnamed performer at Dwan's Recreation Gardens in 1937 3\"),\n",
       " (\"Unnamed performer at Dwan's Recreation Gardens in 1937 3\",\n",
       "  \"Unnamed performer at Dwan's Recreation Gardens in 1937 4\"),\n",
       " (\"Unnamed performer at Dwan's Recreation Gardens in 1937 4\",\n",
       "  \"Unnamed performer at Dwan's Recreation Gardens in 1937 5\"),\n",
       " (\"Unnamed performer at Dwan's Recreation Gardens in 1937 5\",\n",
       "  \"Unnamed performer at Dwan's Recreation Gardens in 1937 6\"),\n",
       " (\"Unnamed performer at Dwan's Recreation Gardens in 1937 6\",\n",
       "  \"Unnamed performer at Dwan's Recreation Gardens in 1937 7\"),\n",
       " (\"Unnamed performer at Dwan's Recreation Gardens in 1937 7\",\n",
       "  \"Unnamed performer at Dwan's Recreation Gardens in 1937 8\"),\n",
       " (\"Unnamed performer at Dwan's Recreation Gardens in 1937 8\",\n",
       "  \"Unnamed performer at Dwan's Recreation Gardens in 1937 9\"),\n",
       " ('Mona La Fountaine', 'Page? Hudeck?'),\n",
       " ('Page? Hudeck?', 'Paul Gilrey'),\n",
       " ('Paul Gilrey', 'Toley-Goodie-Goodie-Waddel'),\n",
       " ('Toley-Goodie-Goodie-Waddel', 'Unnamed performer at Palais Royal 1'),\n",
       " ('Unnamed performer at Palais Royal 1',\n",
       "  'Unnamed performer at Palais Royal 10'),\n",
       " ('Unnamed performer at Palais Royal 10',\n",
       "  'Unnamed performer at Palais Royal 11'),\n",
       " ('Unnamed performer at Palais Royal 11',\n",
       "  'Unnamed performer at Palais Royal 12'),\n",
       " ('Unnamed performer at Palais Royal 12',\n",
       "  'Unnamed performer at Palais Royal 13'),\n",
       " ('Unnamed performer at Palais Royal 13',\n",
       "  'Unnamed performer at Palais Royal 14'),\n",
       " ('Unnamed performer at Palais Royal 14',\n",
       "  'Unnamed performer at Palais Royal 2'),\n",
       " ('Unnamed performer at Palais Royal 2',\n",
       "  'Unnamed performer at Palais Royal 3'),\n",
       " ('Unnamed performer at Palais Royal 3',\n",
       "  'Unnamed performer at Palais Royal 4'),\n",
       " ('Unnamed performer at Palais Royal 4',\n",
       "  'Unnamed performer at Palais Royal 5'),\n",
       " ('Unnamed performer at Palais Royal 5',\n",
       "  'Unnamed performer at Palais Royal 6'),\n",
       " ('Unnamed performer at Palais Royal 6',\n",
       "  'Unnamed performer at Palais Royal 7'),\n",
       " ('Unnamed performer at Palais Royal 7',\n",
       "  'Unnamed performer at Palais Royal 8'),\n",
       " ('Unnamed performer at Palais Royal 8',\n",
       "  'Unnamed performer at Palais Royal 9'),\n",
       " ('Francis Renault', 'Phil Black'),\n",
       " ('Phil Black', 'Eddie Green'),\n",
       " ('Eddie Green', 'Bucky Buckworth'),\n",
       " ('Bucky Buckworth', 'Jakie Polee'),\n",
       " ('Jakie Polee', 'Vera Walters'),\n",
       " ('Eddie Green', 'Fredricka'),\n",
       " ('Fredricka', 'Geane Ray'),\n",
       " ('Geane Ray', 'George Parker'),\n",
       " ('George Parker', 'Gus Dreyfus'),\n",
       " ('Gus Dreyfus', 'J. —'),\n",
       " ('J. —', 'Jay Albert'),\n",
       " ('Jay Albert', 'Joe Johnson'),\n",
       " ('Joe Johnson', 'Louis Diggs'),\n",
       " ('Louis Diggs', 'Alden Garrison'),\n",
       " ('Alden Garrison', 'Kitty May'),\n",
       " ('Kitty May', 'Boots Lavana'),\n",
       " ('Boots Lavana', 'Phil Craig'),\n",
       " ('Alden Garrison', 'Billie Dove'),\n",
       " ('Billie Dove', 'Charles Davis'),\n",
       " ('Louis Diggs', 'Nancy Cauel'),\n",
       " ('Nancy Cauel', 'Nora Corona Hancock'),\n",
       " ('Nora Corona Hancock', 'Richard Lansin'),\n",
       " ('Richard Lansin', 'Roy Whitemore'),\n",
       " ('Roy Whitemore', 'Sandra'),\n",
       " ('Sandra', 'Steel Smith'),\n",
       " ('Roni Warren', 'Joe Daley'),\n",
       " ('Joe Daley', 'Miller Miller? Martin?'),\n",
       " ('Miller Miller? Martin?', 'Miller? Martin?'),\n",
       " ('Roni Warren', 'Bobby Sullivan'),\n",
       " ('Bobby Sullivan', 'Wally Brennan'),\n",
       " ('Wally Brennan', 'Gorda Davies'),\n",
       " ('Gorda Davies', 'Jean Jennings'),\n",
       " ('Jean Jennings', 'June Beal'),\n",
       " ('June Beal', 'Marge Brown'),\n",
       " ('Marge Brown', 'Ray Foster'),\n",
       " ('Ray Foster', 'Stuart P. Murphy'),\n",
       " ('Jean Farrelly', 'Oasa Jaane'),\n",
       " ('Oasa Jaane', 'Unnamed performer at La Villa 1'),\n",
       " ('Unnamed performer at La Villa 1', 'Unnamed performer at La Villa 2'),\n",
       " ('Unnamed performer at La Villa 2', 'Unnamed performer at La Villa 3'),\n",
       " ('Unnamed performer at La Villa 3', 'Unnamed performer at La Villa 4'),\n",
       " ('Unnamed performer at La Villa 4', 'Unnamed performer at La Villa 5'),\n",
       " ('Unnamed performer at La Villa 5', 'Unnamed performer at La Villa 6'),\n",
       " ('Unnamed performer at La Villa 6', 'Unnamed performer at La Villa 7'),\n",
       " ('Unnamed performer at La Villa 7', 'Unnamed performer at La Villa 8'),\n",
       " ('Oasa Jaane', 'Al Lucas'),\n",
       " ('Al Lucas', 'Billy Turner'),\n",
       " ('Billy Turner', 'Bobbie Marlowe'),\n",
       " ('Bobbie Marlowe', 'Ferne Proctor'),\n",
       " ('Ferne Proctor', 'Peggy Joyce'),\n",
       " ('Peggy Joyce', 'Ruth Roberts'),\n",
       " ('Ruth Roberts', 'Ted Shaw'),\n",
       " ('Ted Shaw', 'Val Varr'),\n",
       " ('Ted Shaw', 'Dickie Ray'),\n",
       " ('Dickie Ray', 'Floradora Sextette'),\n",
       " ('Floradora Sextette', 'Frank Perry'),\n",
       " ('Frank Perry', 'Jerry Nelson'),\n",
       " ('Jerry Nelson', 'Toots'),\n",
       " ('Jerry Nelson', 'Larry Turner'),\n",
       " ('Larry Turner', 'Unnamed performer at The Broadway 1'),\n",
       " ('Unnamed performer at The Broadway 1',\n",
       "  'Unnamed performer at The Broadway 10'),\n",
       " ('Unnamed performer at The Broadway 10',\n",
       "  'Unnamed performer at The Broadway 11'),\n",
       " ('Unnamed performer at The Broadway 11',\n",
       "  'Unnamed performer at The Broadway 2'),\n",
       " ('Unnamed performer at The Broadway 2',\n",
       "  'Unnamed performer at The Broadway 3'),\n",
       " ('Unnamed performer at The Broadway 3',\n",
       "  'Unnamed performer at The Broadway 4'),\n",
       " ('Unnamed performer at The Broadway 4',\n",
       "  'Unnamed performer at The Broadway 5'),\n",
       " ('Unnamed performer at The Broadway 5',\n",
       "  'Unnamed performer at The Broadway 6'),\n",
       " ('Unnamed performer at The Broadway 6',\n",
       "  'Unnamed performer at The Broadway 7'),\n",
       " ('Unnamed performer at The Broadway 7',\n",
       "  'Unnamed performer at The Broadway 8'),\n",
       " ('Unnamed performer at The Broadway 8',\n",
       "  'Unnamed performer at The Broadway 9'),\n",
       " ('Peggy Joyce', 'Sepia Gloria Swanson'),\n",
       " ('Sepia Gloria Swanson', 'Mother/Sepia Marlene Smother/Dietrich'),\n",
       " (\"Billy O'Brien\", 'Jerry Podinsky'),\n",
       " ('Jerry Podinsky', 'Rollie Andrews'),\n",
       " ('Jacquette La Marr', \"Dolly O'Day\"),\n",
       " (\"Dolly O'Day\", 'Frankie Stroud'),\n",
       " ('Frankie Stroud', 'Vera Mazzie'),\n",
       " ('Carlo Levins', 'Unnamed performer at The Paddock 1'),\n",
       " ('Unnamed performer at The Paddock 1', 'Unnamed performer at The Paddock 10'),\n",
       " ('Unnamed performer at The Paddock 10',\n",
       "  'Unnamed performer at The Paddock 11'),\n",
       " ('Unnamed performer at The Paddock 11',\n",
       "  'Unnamed performer at The Paddock 12'),\n",
       " ('Unnamed performer at The Paddock 12',\n",
       "  'Unnamed performer at The Paddock 13'),\n",
       " ('Unnamed performer at The Paddock 13',\n",
       "  'Unnamed performer at The Paddock 14'),\n",
       " ('Unnamed performer at The Paddock 14', 'Unnamed performer at The Paddock 2'),\n",
       " ('Unnamed performer at The Paddock 2', 'Unnamed performer at The Paddock 3'),\n",
       " ('Unnamed performer at The Paddock 3', 'Unnamed performer at The Paddock 4'),\n",
       " ('Unnamed performer at The Paddock 4', 'Unnamed performer at The Paddock 5'),\n",
       " ('Unnamed performer at The Paddock 5', 'Unnamed performer at The Paddock 6'),\n",
       " ('Unnamed performer at The Paddock 6', 'Unnamed performer at The Paddock 7'),\n",
       " ('Unnamed performer at The Paddock 7', 'Unnamed performer at The Paddock 8'),\n",
       " ('Unnamed performer at The Paddock 8', 'Unnamed performer at The Paddock 9'),\n",
       " ('Fay Norman', 'Unnamed performer at Dixie Grove 1'),\n",
       " ('Unnamed performer at Dixie Grove 1', 'Unnamed performer at Dixie Grove 10'),\n",
       " ('Unnamed performer at Dixie Grove 10',\n",
       "  'Unnamed performer at Dixie Grove 11'),\n",
       " ('Unnamed performer at Dixie Grove 11',\n",
       "  'Unnamed performer at Dixie Grove 12'),\n",
       " ('Unnamed performer at Dixie Grove 12',\n",
       "  'Unnamed performer at Dixie Grove 13'),\n",
       " ('Unnamed performer at Dixie Grove 13',\n",
       "  'Unnamed performer at Dixie Grove 14'),\n",
       " ('Unnamed performer at Dixie Grove 14',\n",
       "  'Unnamed performer at Dixie Grove 15'),\n",
       " ('Unnamed performer at Dixie Grove 15', 'Unnamed performer at Dixie Grove 2'),\n",
       " ('Unnamed performer at Dixie Grove 2', 'Unnamed performer at Dixie Grove 3'),\n",
       " ('Unnamed performer at Dixie Grove 3', 'Unnamed performer at Dixie Grove 4'),\n",
       " ('Unnamed performer at Dixie Grove 4', 'Unnamed performer at Dixie Grove 5'),\n",
       " ('Unnamed performer at Dixie Grove 5', 'Unnamed performer at Dixie Grove 6'),\n",
       " ('Unnamed performer at Dixie Grove 6', 'Unnamed performer at Dixie Grove 7'),\n",
       " ('Unnamed performer at Dixie Grove 7', 'Unnamed performer at Dixie Grove 8'),\n",
       " ('Unnamed performer at Dixie Grove 8', 'Unnamed performer at Dixie Grove 9'),\n",
       " ('Fay Norman', \"Unnamed performer af Frank White's 11\"),\n",
       " (\"Unnamed performer af Frank White's 11\",\n",
       "  \"Unnamed performer at Frank White's 1\"),\n",
       " (\"Unnamed performer at Frank White's 1\",\n",
       "  \"Unnamed performer at Frank White's 10\"),\n",
       " (\"Unnamed performer at Frank White's 10\",\n",
       "  \"Unnamed performer at Frank White's 12\"),\n",
       " (\"Unnamed performer at Frank White's 12\",\n",
       "  \"Unnamed performer at Frank White's 2\"),\n",
       " (\"Unnamed performer at Frank White's 2\",\n",
       "  \"Unnamed performer at Frank White's 3\"),\n",
       " (\"Unnamed performer at Frank White's 3\",\n",
       "  \"Unnamed performer at Frank White's 4\"),\n",
       " (\"Unnamed performer at Frank White's 4\",\n",
       "  \"Unnamed performer at Frank White's 5\"),\n",
       " (\"Unnamed performer at Frank White's 5\",\n",
       "  \"Unnamed performer at Frank White's 6\"),\n",
       " (\"Unnamed performer at Frank White's 6\",\n",
       "  \"Unnamed performer at Frank White's 7\"),\n",
       " (\"Unnamed performer at Frank White's 7\",\n",
       "  \"Unnamed performer at Frank White's 8\"),\n",
       " (\"Unnamed performer at Frank White's 8\",\n",
       "  \"Unnamed performer at Frank White's 9\"),\n",
       " ('Fay Norman', \"Unnamed performer at Dwan's Recreation Gardens 1\"),\n",
       " (\"Unnamed performer at Dwan's Recreation Gardens 1\",\n",
       "  \"Unnamed performer at Dwan's Recreation Gardens 10\"),\n",
       " (\"Unnamed performer at Dwan's Recreation Gardens 10\",\n",
       "  \"Unnamed performer at Dwan's Recreation Gardens 11\"),\n",
       " (\"Unnamed performer at Dwan's Recreation Gardens 11\",\n",
       "  \"Unnamed performer at Dwan's Recreation Gardens 12\"),\n",
       " (\"Unnamed performer at Dwan's Recreation Gardens 12\",\n",
       "  \"Unnamed performer at Dwan's Recreation Gardens 13\"),\n",
       " (\"Unnamed performer at Dwan's Recreation Gardens 13\",\n",
       "  \"Unnamed performer at Dwan's Recreation Gardens 14\"),\n",
       " (\"Unnamed performer at Dwan's Recreation Gardens 14\",\n",
       "  \"Unnamed performer at Dwan's Recreation Gardens 2\"),\n",
       " (\"Unnamed performer at Dwan's Recreation Gardens 2\",\n",
       "  \"Unnamed performer at Dwan's Recreation Gardens 3\"),\n",
       " (\"Unnamed performer at Dwan's Recreation Gardens 3\",\n",
       "  \"Unnamed performer at Dwan's Recreation Gardens 4\"),\n",
       " (\"Unnamed performer at Dwan's Recreation Gardens 4\",\n",
       "  \"Unnamed performer at Dwan's Recreation Gardens 5\"),\n",
       " (\"Unnamed performer at Dwan's Recreation Gardens 5\",\n",
       "  \"Unnamed performer at Dwan's Recreation Gardens 6\"),\n",
       " (\"Unnamed performer at Dwan's Recreation Gardens 6\",\n",
       "  \"Unnamed performer at Dwan's Recreation Gardens 7\"),\n",
       " (\"Unnamed performer at Dwan's Recreation Gardens 7\",\n",
       "  \"Unnamed performer at Dwan's Recreation Gardens 8\"),\n",
       " (\"Unnamed performer at Dwan's Recreation Gardens 8\",\n",
       "  \"Unnamed performer at Dwan's Recreation Gardens 9\"),\n",
       " ('Fay Norman', 'Unnamed performer at President Cafe 1'),\n",
       " ('Unnamed performer at President Cafe 1',\n",
       "  'Unnamed performer at President Cafe 2'),\n",
       " ('Unnamed performer at President Cafe 2',\n",
       "  'Unnamed performer at President Cafe 3'),\n",
       " ('Unnamed performer at President Cafe 3',\n",
       "  'Unnamed performer at President Cafe 4'),\n",
       " ('Unnamed performer at President Cafe 4',\n",
       "  'Unnamed performer at President Cafe 5'),\n",
       " ('Unnamed performer at President Cafe 5',\n",
       "  'Unnamed performer at President Cafe 6'),\n",
       " ('Unnamed performer at President Cafe 6',\n",
       "  'Unnamed performer at President Cafe 7'),\n",
       " ('Unnamed performer at President Cafe 7',\n",
       "  'Unnamed performer at President Cafe 8'),\n",
       " ('Fay Norman', 'Unnamed performer at Wagon Wheel 1'),\n",
       " ('Unnamed performer at Wagon Wheel 1', 'Unnamed performer at Wagon Wheel 10'),\n",
       " ('Unnamed performer at Wagon Wheel 10',\n",
       "  'Unnamed performer at Wagon Wheel 11'),\n",
       " ('Unnamed performer at Wagon Wheel 11',\n",
       "  'Unnamed performer at Wagon Wheel 12'),\n",
       " ('Unnamed performer at Wagon Wheel 12',\n",
       "  'Unnamed performer at Wagon Wheel 13'),\n",
       " ('Unnamed performer at Wagon Wheel 13',\n",
       "  'Unnamed performer at Wagon Wheel 14'),\n",
       " ('Unnamed performer at Wagon Wheel 14', 'Unnamed performer at Wagon Wheel 2'),\n",
       " ('Unnamed performer at Wagon Wheel 2', 'Unnamed performer at Wagon Wheel 3'),\n",
       " ('Unnamed performer at Wagon Wheel 3', 'Unnamed performer at Wagon Wheel 4'),\n",
       " ('Unnamed performer at Wagon Wheel 4', 'Unnamed performer at Wagon Wheel 5'),\n",
       " ('Unnamed performer at Wagon Wheel 5', 'Unnamed performer at Wagon Wheel 6'),\n",
       " ('Unnamed performer at Wagon Wheel 6', 'Unnamed performer at Wagon Wheel 7'),\n",
       " ('Unnamed performer at Wagon Wheel 7', 'Unnamed performer at Wagon Wheel 8'),\n",
       " ('Unnamed performer at Wagon Wheel 8', 'Unnamed performer at Wagon Wheel 9'),\n",
       " ('Funny Fanny', 'Jackie Dayton'),\n",
       " ('Lyle Page', 'La Verne'),\n",
       " ('Lyle Page', 'Joe Cook'),\n",
       " ('Joe Cook', 'Richard Carlson'),\n",
       " ('Buddy Mayo', 'Roxy'),\n",
       " ('Roxy', 'Unnamed performer at Club Chateau 1'),\n",
       " ('Unnamed performer at Club Chateau 1',\n",
       "  'Unnamed performer at Club Chateau 2'),\n",
       " ('Unnamed performer at Club Chateau 2',\n",
       "  'Unnamed performer at Club Chateau 3'),\n",
       " ('Unnamed performer at Club Chateau 3',\n",
       "  'Unnamed performer at Club Chateau 4'),\n",
       " ('Unnamed performer at Club Chateau 4',\n",
       "  'Unnamed performer at Club Chateau 5'),\n",
       " ('Unnamed performer at Club Chateau 5',\n",
       "  'Unnamed performer at Club Chateau 6'),\n",
       " ('Bobby Norman', \"Unnamed performer at Durr's Tavern 1\"),\n",
       " (\"Unnamed performer at Durr's Tavern 1\",\n",
       "  \"Unnamed performer at Durr's Tavern 2\"),\n",
       " (\"Unnamed performer at Durr's Tavern 2\",\n",
       "  \"Unnamed performer at Durr's Tavern 3\"),\n",
       " (\"Unnamed performer at Durr's Tavern 3\",\n",
       "  \"Unnamed performer at Durr's Tavern 4\"),\n",
       " (\"Unnamed performer at Durr's Tavern 4\",\n",
       "  \"Unnamed performer at Durr's Tavern 5\"),\n",
       " (\"Unnamed performer at Durr's Tavern 5\",\n",
       "  \"Unnamed performer at Durr's Tavern 6\"),\n",
       " (\"Unnamed performer at Durr's Tavern 6\",\n",
       "  \"Unnamed performer at Durr's Tavern 7\"),\n",
       " (\"Unnamed performer at Durr's Tavern 7\",\n",
       "  \"Unnamed performer at Durr's Tavern 8\"),\n",
       " (\"Unnamed performer at Durr's Tavern 8\",\n",
       "  \"Unnamed performer at Durr's Tavern 9\"),\n",
       " ('Lee Carroll', 'Art Bernard'),\n",
       " ('Francis Blair', 'Arthur La Delle'),\n",
       " ('Arthur La Delle', 'Bob Mack'),\n",
       " ('Bob Mack', 'Joan Morrow'),\n",
       " ('Joan Morrow', 'Marjoram'),\n",
       " ('Marjoram', 'Nita Velez'),\n",
       " ('Nita Velez', 'Taps Harris'),\n",
       " ('Taps Harris', 'Val Rai'),\n",
       " ('Val Rai', 'Eddie La Rue'),\n",
       " ('Eddie La Rue', 'Milton LaMaire'),\n",
       " ('Jack Mason', 'La Belle Rose'),\n",
       " ('Gene Renee', 'Bobby Gay'),\n",
       " ('Bobby Gay', 'Howard Parsons'),\n",
       " ('Howard Parsons', 'Jackie Lee'),\n",
       " ('Jackie Lee', 'Soni Sinclair'),\n",
       " ('Soni Sinclair', 'Terry Tremaine'),\n",
       " ('Terry Tremaine', 'The Mystery Dancer'),\n",
       " ('The Mystery Dancer', 'Tony Karol'),\n",
       " ('Jackie Lee', 'Jackie Law'),\n",
       " ('Billy West', 'Lou Lorraine'),\n",
       " ('Arica Wild', 'Andy Cliff'),\n",
       " ('Andy Cliff', 'Billie Davis'),\n",
       " ('Arthur Budd', 'Eve Lynn'),\n",
       " ('Eve Lynn', 'Grace Barrie'),\n",
       " ('Grace Barrie', 'LaVerne? Bauers?'),\n",
       " ('Jackie Maye', 'Marcia Lloyd'),\n",
       " ('Jackie Maye', 'Paul Coleman'),\n",
       " ('Jackie Maye', \"Unnamed member of chorus at King's Terrace 1\"),\n",
       " (\"Unnamed member of chorus at King's Terrace 1\",\n",
       "  \"Unnamed member of chorus at King's Terrace 2\"),\n",
       " (\"Unnamed member of chorus at King's Terrace 2\",\n",
       "  \"Unnamed member of chorus at King's Terrace 3\"),\n",
       " (\"Unnamed member of chorus at King's Terrace 3\",\n",
       "  \"Unnamed member of chorus at King's Terrace 4\"),\n",
       " (\"Unnamed member of chorus at King's Terrace 4\",\n",
       "  \"Unnamed member of chorus at King's Terrace 5\"),\n",
       " (\"Unnamed member of chorus at King's Terrace 5\",\n",
       "  \"Unnamed member of chorus at King's Terrace 6\"),\n",
       " (\"Unnamed member of chorus at King's Terrace 6\",\n",
       "  \"Unnamed member of chorus at King's Terrace 7\"),\n",
       " (\"Unnamed member of chorus at King's Terrace 7\",\n",
       "  \"Unnamed member of chorus at King's Terrace 8\"),\n",
       " ('Leon LaVerde', 'Max Bellow'),\n",
       " ('Max Bellow', 'Walter Munde'),\n",
       " ('Leon LaVerde', 'Alice Rydner'),\n",
       " ('Alice Rydner', 'Dawn Sis'),\n",
       " ('Karyl Norman', 'Francois Densmore'),\n",
       " ('Francois Densmore', 'Unnamed performer from Winslow Four'),\n",
       " ('Billy (\"Senorita\") Herrera', 'Babe Gordon'),\n",
       " ('Babe Gordon', 'Bessie Brennan'),\n",
       " ('Bessie Brennan', 'Lenny Ross'),\n",
       " ('Lenny Ross', \"Nan O'Rourke\"),\n",
       " (\"Nan O'Rourke\", 'Sandy Lynch'),\n",
       " ('Sandy Lynch', 'Texas Plant'),\n",
       " ('Billy (\"Senorita\") Herrera', 'Unnamed male fan dancer at Oasis'),\n",
       " ('Ralph Gilbert', 'Billie Dale'),\n",
       " ('Gene Ford', 'Jean Val Jean'),\n",
       " ('Bobbie La Marr', 'Loraine Humphrey'),\n",
       " ('Bobbie La Marr', 'Bobby Dean'),\n",
       " ('Billy Brill', 'Tanya Garth'),\n",
       " ('Billy Brill', 'Bobby Dell'),\n",
       " ('Bobby Dell', 'Sammy Grand'),\n",
       " ('Bobby Dell', 'Jerry Girard'),\n",
       " ('Jerry Girard', 'Lloyd Woods'),\n",
       " ('Billy Richards', 'Don Niles'),\n",
       " ('Dixie Dixon', 'Bobby Kork'),\n",
       " ('Bobby Kork', 'Maile Ricati'),\n",
       " ('Maile Ricati', 'Termaine de Milleo'),\n",
       " ('Bobby La Rue', 'Fifi'),\n",
       " ('Lyle Mack', 'Billie Berke'),\n",
       " ('Billie Berke', 'Dion'),\n",
       " ('Dion', 'Edythe Bantos'),\n",
       " ('Edythe Bantos', 'Helen Mack'),\n",
       " ('Helen Mack', 'Marion'),\n",
       " ('Marion', 'Mary Brennen'),\n",
       " ('Mary Brennen', 'Marylin Thomas'),\n",
       " ('Marylin Thomas', 'Thetis Storey'),\n",
       " ('Jean La Monte', 'Bobby Brown'),\n",
       " ('Del Le Roy', 'Aimee Joye'),\n",
       " ('Aimee Joye', 'Billie Richmond'),\n",
       " ('Billie Richmond', 'Burns'),\n",
       " ('Burns', 'Charlie Neid'),\n",
       " ('Charlie Neid', 'Dunn'),\n",
       " ('Dunn', 'Francis Russell'),\n",
       " ('Francis Russell', 'Ginger Dunn'),\n",
       " ('Ginger Dunn', 'Irene Dunn'),\n",
       " ('Irene Dunn', 'La Mar'),\n",
       " ('La Mar', 'La Rue Sis'),\n",
       " ('La Rue Sis', 'Morton'),\n",
       " ('Morton', 'Raydell'),\n",
       " ('Raydell', 'Richard Bach'),\n",
       " ('Richard Bach', 'Sandy McPherson'),\n",
       " ('Johnny Kaye', 'Unnamed performer at Blue Danube 1'),\n",
       " ('Unnamed performer at Blue Danube 1', 'Unnamed performer at Blue Danube 2'),\n",
       " ('Unnamed performer at Blue Danube 2', 'Unnamed performer at Blue Danube 3'),\n",
       " ('Unnamed performer at Blue Danube 3', 'Unnamed performer at Blue Danube 4'),\n",
       " ('Unnamed performer at Blue Danube 4', 'Unnamed performer at Blue Danube 5'),\n",
       " ('Adrian Ames', 'Jean Barrios'),\n",
       " ('Max Lengel', 'Frank E. Carroll'),\n",
       " ('Frank E. Carroll', 'Georgie Burns'),\n",
       " ('Georgie Burns', 'Ramon Strobeck'),\n",
       " ('Bobbie Davis', 'Frances Dee'),\n",
       " ('Frances Dee', 'Gale Page'),\n",
       " ('Gale Page', 'Herman Ferdinand'),\n",
       " ('Herman Ferdinand', 'Joe Hart'),\n",
       " ('Joe Hart', 'Unnamed performer at Cabin Inn 1'),\n",
       " ('Unnamed performer at Cabin Inn 1', 'Unnamed performer at Cabin Inn 2'),\n",
       " ('Unnamed performer at Cabin Inn 2', 'Unnamed performer at Cabin Inn 3'),\n",
       " ('Unnamed performer at Cabin Inn 3', 'Unnamed performer at Cabin Inn 4'),\n",
       " ('Valda Gray', 'Claudetener'),\n",
       " ('Claudetener', 'Dixie Jean'),\n",
       " ('Dixie Jean', 'Jimmie Gleen'),\n",
       " ('Peaches Browning', 'Adrian Norris'),\n",
       " ('Adrian Norris', 'Doris (Dimples) White'),\n",
       " ('Doris (Dimples) White', 'Helen Humes'),\n",
       " ('Bunny', 'Lester Queen'),\n",
       " ('Lester Queen', 'Peaches'),\n",
       " ('Peaches', 'Sylvan Repetti'),\n",
       " ('Chubby Smith', 'Mae Kelly'),\n",
       " ('Lee Mason', 'Niles Marsh'),\n",
       " ('Unnamed performer at Garden of Allah 1',\n",
       "  'Unnamed performer at Garden of Allah 2'),\n",
       " ('Unnamed performer at Garden of Allah 2',\n",
       "  'Unnamed performer at Garden of Allah 3'),\n",
       " ('Unnamed performer at Garden of Allah 3',\n",
       "  'Unnamed performer at Garden of Allah 4'),\n",
       " ('Unnamed performer at Garden of Allah 4',\n",
       "  'Unnamed performer at Garden of Allah 5'),\n",
       " ('Unnamed performer at Grand View Cabaret 1',\n",
       "  'Unnamed performer at Grand View Cabaret 2'),\n",
       " ('Unnamed performer at Grand View Cabaret 2',\n",
       "  'Unnamed performer at Grand View Cabaret 3'),\n",
       " ('Unnamed performer at Grand View Cabaret 3',\n",
       "  'Unnamed performer at Grand View Cabaret 4'),\n",
       " ('Unnamed performer at Grand View Cabaret 4',\n",
       "  'Unnamed performer at Grand View Cabaret 5'),\n",
       " ('Unnamed performer at Grand View Cabaret 5',\n",
       "  'Unnamed performer at Grand View Cabaret 6'),\n",
       " ('Charles Alexander', 'Clara Bow'),\n",
       " ('Don La Rue', 'Nina Rae'),\n",
       " ('Bohannan', 'Bud Byron'),\n",
       " ('Bud Byron', 'Eddie White'),\n",
       " ('Billie Marsh', \"Delorice De'Fren\"),\n",
       " (\"Delorice De'Fren\", 'Doris Lorraine'),\n",
       " ('Doris Lorraine', 'Francis Logan'),\n",
       " ('Francis Logan', 'Gloria Armour'),\n",
       " ('Gloria Armour', 'Maisie La France'),\n",
       " ('Maisie La France', 'Marie Shaffer'),\n",
       " ('Marie Shaffer', 'Yonder Thompson'),\n",
       " ('Fay Elliot', 'King'),\n",
       " ('Deanna Durbin', 'Delores Del Rio'),\n",
       " ('Delores Del Rio', 'Gilda Gray'),\n",
       " ('Keane Waters', 'Leon Mirabeau'),\n",
       " ('Olin Landick', 'Tommy Mann'),\n",
       " ('Anthony DiMeo', 'Martin Wynne'),\n",
       " ('Knox', 'Mack'),\n",
       " ('Unnamed performer at The Stables 1', 'Unnamed performer at The Stables 2'),\n",
       " ('Unnamed performer at The Stables 2', 'Unnamed performer at The Stables 3'),\n",
       " ('Unnamed performer at The Stables 3', 'Unnamed performer at The Stables 4'),\n",
       " ('Unnamed performer at Wonder Bar 1', 'Unnamed performer at Wonder Bar 2'),\n",
       " ('Unnamed performer at Wonder Bar 2', 'Unnamed performer at Wonder Bar 3'),\n",
       " ('Unnamed performer at Wonder Bar 3', 'Unnamed performer at Wonder Bar 4'),\n",
       " ('Unnamed performer at Wonder Bar 4', 'Unnamed performer at Wonder Bar 5'),\n",
       " ('Unnamed performer at Wonder Bar 5', 'Unnamed performer at Wonder Bar 6')]"
      ]
     },
     "execution_count": 32,
     "metadata": {},
     "output_type": "execute_result"
    }
   ],
   "source": [
    "for edge in networks[key].edges:\n",
    "    edge[0]"
   ]
  },
  {
   "cell_type": "code",
   "execution_count": null,
   "metadata": {},
   "outputs": [],
   "source": []
  },
  {
   "cell_type": "code",
   "execution_count": null,
   "metadata": {},
   "outputs": [],
   "source": []
  },
  {
   "cell_type": "code",
   "execution_count": null,
   "metadata": {},
   "outputs": [],
   "source": []
  }
 ],
 "metadata": {
  "hide_input": false,
  "kernelspec": {
   "display_name": "Python 3",
   "language": "python",
   "name": "python3"
  },
  "language_info": {
   "codemirror_mode": {
    "name": "ipython",
    "version": 3
   },
   "file_extension": ".py",
   "mimetype": "text/x-python",
   "name": "python",
   "nbconvert_exporter": "python",
   "pygments_lexer": "ipython3",
   "version": "3.8.5"
  },
  "toc": {
   "base_numbering": 1,
   "nav_menu": {},
   "number_sections": true,
   "sideBar": true,
   "skip_h1_title": false,
   "title_cell": "Table of Contents",
   "title_sidebar": "Contents",
   "toc_cell": false,
   "toc_position": {
    "height": "calc(100% - 180px)",
    "left": "10px",
    "top": "150px",
    "width": "415.208px"
   },
   "toc_section_display": true,
   "toc_window_display": true
  }
 },
 "nbformat": 4,
 "nbformat_minor": 4
}
