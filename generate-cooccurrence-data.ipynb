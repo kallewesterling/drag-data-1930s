{
 "cells": [
  {
   "cell_type": "markdown",
   "metadata": {},
   "source": [
    "# Setup\n",
    "\n",
    "The script is set up: imports all the necessary packages and all the necessary functions to run."
   ]
  },
  {
   "cell_type": "code",
   "execution_count": 51,
   "metadata": {},
   "outputs": [],
   "source": [
    "settings = {\n",
    "    'DAYSPANS': [3, 14, 31, 93, 186, 365]\n",
    "}"
   ]
  },
  {
   "cell_type": "code",
   "execution_count": 52,
   "metadata": {
    "hide_input": true
   },
   "outputs": [],
   "source": [
    "from IPython.display import display, HTML, Markdown, clear_output\n",
    "# display(HTML(\"<style>.container {width: 80% !important; }</style>\"))"
   ]
  },
  {
   "cell_type": "markdown",
   "metadata": {
    "hide_input": false
   },
   "source": [
    "## Imports"
   ]
  },
  {
   "cell_type": "code",
   "execution_count": 53,
   "metadata": {
    "hide_input": true
   },
   "outputs": [],
   "source": [
    "from collections import Counter\n",
    "import copy\n",
    "import community as community_louvain\n",
    "import datetime\n",
    "import json\n",
    "import pandas as pd\n",
    "import networkx as nx\n",
    "import re\n",
    "import unicodedata"
   ]
  },
  {
   "cell_type": "markdown",
   "metadata": {},
   "source": [
    "## Meta functions"
   ]
  },
  {
   "cell_type": "code",
   "execution_count": 54,
   "metadata": {},
   "outputs": [],
   "source": [
    "def in_notebook():\n",
    "    try:\n",
    "        from IPython import get_ipython\n",
    "        try:\n",
    "            if 'IPKernelApp' not in get_ipython().config:  # pragma: no cover\n",
    "                return False\n",
    "        except AttributeError:\n",
    "            return False\n",
    "    except ImportError:\n",
    "        return False\n",
    "    return True\n",
    "\n",
    "\n",
    "def log(msg, color='green', verbose=True):\n",
    "    now = datetime.datetime.now().strftime('%H:%M%:%S')\n",
    "    if verbose and in_notebook():\n",
    "        return display(Markdown(f'<font color=\"{color}\">[{now}] {msg}</font>'))\n",
    "    elif verbose:\n",
    "        return print(f'[{now}]:\\n{msg}\\n\\n')\n",
    "    return None\n",
    "\n",
    "\n",
    "def slugify(value, allow_unicode=False, verbose=False):\n",
    "    init_value = str(value)\n",
    "    value = init_value\n",
    "    value = unicodedata.normalize('NFKD', value).encode('ascii', 'ignore').decode('ascii')\n",
    "    value = re.sub(r'[^\\w\\s-]', '', value.lower())\n",
    "    value = re.sub(r'^(\\d+)', r'n\\1', value)\n",
    "    value = re.sub(r'[-\\s]+', '_', value).strip('-_')\n",
    "    if verbose:\n",
    "        clear_output(wait=True)\n",
    "        log(f'Making slug from {init_value}: {value}')\n",
    "    return value"
   ]
  },
  {
   "cell_type": "markdown",
   "metadata": {
    "hide_input": true
   },
   "source": [
    "### Central function (`get_raw_data`)"
   ]
  },
  {
   "cell_type": "code",
   "execution_count": 55,
   "metadata": {
    "hide_input": true
   },
   "outputs": [],
   "source": [
    "def get_raw_data(verbose=True):\n",
    "    df = pd.read_csv('https://docs.google.com/spreadsheets/d/e/2PACX-1vT0E0Y7txIa2pfBuusA1cd8X5OVhQ_D0qZC8D40KhTU3xB7McsPR2kuB7GH6ncmNT3nfjEYGbscOPp0/pub?gid=95950987&single=true&output=csv')\n",
    "    \n",
    "    # Fix basic stuff\n",
    "    df.replace('—', '', inplace=True)\n",
    "    df.replace('—*', '', inplace=True)\n",
    "    df.replace('–', '', inplace=True)\n",
    "    df.fillna('', inplace=True)\n",
    "\n",
    "    log(f'**{df.shape[0]} rows imported.**', verbose=verbose)\n",
    "    \n",
    "    return df"
   ]
  },
  {
   "cell_type": "markdown",
   "metadata": {
    "hide_input": false
   },
   "source": [
    "### Main filter function (`filter_data`)"
   ]
  },
  {
   "cell_type": "code",
   "execution_count": 56,
   "metadata": {
    "hide_input": true
   },
   "outputs": [],
   "source": [
    "# Main filter function\n",
    "\n",
    "def filter_data(df, min_date=None, max_date=None, verbose=True):\n",
    "    def has_required_data(row):\n",
    "        '''(internal) for use with DataFrame lambda function to ensure that any given row has the required data present'''\n",
    "        has_performer = row['Performer'] != '' or row['Normalized performer'] != '' or (row['Performer first-name'] != '' or row['Performer last-name']) != ''\n",
    "        # has_city = row['City'] or row['Normalized City']\n",
    "        has_venue = row['Venue'] != ''\n",
    "        if has_performer and has_venue:\n",
    "            return True\n",
    "        else:\n",
    "            return False\n",
    "        \n",
    "    def has_correct_date(row):\n",
    "        '''(internal) for use with DataFrame lambda function to ensure that any given row has a correct date present'''\n",
    "        return re.search(r'\\d{4}\\-\\d{2}\\-\\d{2}', row['Date']) != None\n",
    "    \n",
    "    def string_date(row):\n",
    "        return row['Date'].strftime('%Y-%m-%d')\n",
    "\n",
    "    df['has_required_data'] = df.apply(lambda row: has_required_data(row), axis=1)\n",
    "    df.drop(df[df['has_required_data'] == False].index, inplace=True)\n",
    "    log(f'**{df.shape[0]} rows after filtering**: Required data.', verbose=verbose)\n",
    "\n",
    "    # Filter\n",
    "    df.drop(df[df['Exclude from visualization'] == True].index, inplace=True)\n",
    "    df.drop(df[df['Exclude from visualization'] == 'TRUE'].index, inplace=True)\n",
    "    log(f'**{df.shape[0]} rows after filtering**: Exclusion from visulization.', verbose=verbose)\n",
    "    \n",
    "    # Filter\n",
    "    df.drop(df[df['Unsure whether drag artist'] == True].index, inplace=True)\n",
    "    df.drop(df[df['Unsure whether drag artist'] == 'TRUE'].index, inplace=True)\n",
    "    log(f'**{df.shape[0]} rows after filtering**: Unsure whether drag artist.', verbose=verbose)\n",
    "    \n",
    "    df['has_correct_date'] = df.apply(lambda row: has_correct_date(row), axis=1)\n",
    "    df.drop(df[df['has_correct_date'] == False].index, inplace=True)\n",
    "    log(f'**{df.shape[0]} rows after filtering**: Full date in `Date` column.', verbose=verbose)\n",
    "\n",
    "    if min_date or max_date:\n",
    "        df['Date'] = pd.to_datetime(df['Date'])\n",
    "        df = df[(df['Date'] > min_date) & (df['Date'] < max_date)]\n",
    "        df['Date'] = df.apply(lambda row: string_date(row), axis=1)\n",
    "        log(f'**{df.shape[0]} rows after filtering**: Min and max date set.', verbose=verbose)\n",
    "        \n",
    "    return df"
   ]
  },
  {
   "cell_type": "markdown",
   "metadata": {},
   "source": [
    "### Main clean function (`clean_data`)"
   ]
  },
  {
   "cell_type": "code",
   "execution_count": 57,
   "metadata": {
    "hide_input": false
   },
   "outputs": [],
   "source": [
    "# Main clean function\n",
    "\n",
    "def clean_data(df, drop_cols=[], verbose=True):\n",
    "    def get_performer(row, null_value=''):\n",
    "        '''(internal) for use with DataFrame lambda function to return the cleaned-up version of a performer's name (in an order of priority)'''\n",
    "\n",
    "        first_name = row['Performer first-name']\n",
    "        last_name = row['Performer last-name']\n",
    "                    \n",
    "        if last_name and not first_name:\n",
    "            return last_name\n",
    "        \n",
    "        if first_name and last_name:\n",
    "            if not '—' in first_name and not '—' in last_name:\n",
    "                return f'{first_name} {last_name}'\n",
    "            \n",
    "            elif not '—' in last_name and '—' in first_name:\n",
    "                return last_name\n",
    "            \n",
    "            elif not '—' in first_name and '—' in last_name:\n",
    "                return first_name\n",
    "            \n",
    "        for r in ['Normalized performer', 'Performer']:\n",
    "            if row[r]:\n",
    "                return row[r]\n",
    "\n",
    "        return null_value\n",
    "\n",
    "\n",
    "    def get_city(row, null_value=''):\n",
    "        '''(internal) for use with DataFrame lambda function to return the cleaned-up version of a city's name (in an order of priority)'''\n",
    "        for r in ['Normalized City', 'City']:\n",
    "            if row[r]:\n",
    "                return row[r]\n",
    "\n",
    "        return null_value\n",
    "\n",
    "\n",
    "    def get_unique_venue(row, null_value=''):\n",
    "        '''(internal) for use with DataFrame lambda function to return the cleaned-up version of a venue's name (in an order of priority)'''\n",
    "        if row['Venue'] and row['City']:\n",
    "            return row['Venue'] + ' (' + row['City'] + ')'\n",
    "\n",
    "        for r in ['Venue', 'City']:\n",
    "            if row[r]:\n",
    "                return row[r]\n",
    "\n",
    "        return null_value\n",
    "\n",
    "\n",
    "    def get_source(row, null_value=''):\n",
    "        '''(internal) for use with DataFrame lambda function to return the cleaned-up version of a source (in an order of priority)'''\n",
    "        for r in ['Source clean', 'Source']:\n",
    "            if row[r]:\n",
    "                g = re.search(r'(Jan|Feb|Mar|Apr|May|Jun|Jul|Aug|Sep|Oct|Nov|Dec)', row[r])\n",
    "                if not g:\n",
    "                    g = re.search(r'\\d{4}-\\d{2}-\\d{2}', row[r])\n",
    "                    if not g:\n",
    "                        return f\"{row[r]} ({datetime.datetime.strptime(row['Date'], '%Y-%m-%d').strftime('%B %d, %Y')})\"\n",
    "                return row[r]\n",
    "\n",
    "        return null_value,\n",
    "\n",
    "\n",
    "    def get_revue(row, null_value=''):\n",
    "        '''(internal) for use with DataFrame lambda function to return the cleaned-up version of a revue's name (in an order of priority)'''\n",
    "        for r in ['Normalized Revue Name', 'Revue name']:\n",
    "            if row[r]:\n",
    "                return row[r]\n",
    "\n",
    "        return null_value\n",
    "    \n",
    "    \n",
    "    # Clean up names\n",
    "    df['Performer'] = df.apply(lambda row: get_performer(row), axis=1)\n",
    "    df['City'] = df.apply(lambda row: get_city(row), axis=1)\n",
    "    df['Source'] = df.apply(lambda row: get_source(row), axis=1)\n",
    "    df['Revue'] = df.apply(lambda row: get_revue(row), axis=1)\n",
    "    df['Unique venue'] = df.apply(lambda row: get_unique_venue(row), axis=1)\n",
    "    log(f'**Cleaned up all names**.', verbose=verbose)\n",
    "\n",
    "    # Drop unnecessary information\n",
    "    for col in drop_cols:\n",
    "        try:\n",
    "            del df[col]\n",
    "        except KeyError:\n",
    "            pass # already gone\n",
    "\n",
    "    df = df.rename(columns={'Unique venue': 'Venue'})\n",
    "\n",
    "    log(f'**Fixed columns**: Renamed some columns and removed all unneccesary columns.', verbose=verbose)\n",
    "\n",
    "    return df"
   ]
  },
  {
   "cell_type": "markdown",
   "metadata": {},
   "source": [
    "# Create a clean, basic dataset from Sheets"
   ]
  },
  {
   "cell_type": "markdown",
   "metadata": {},
   "source": [
    "## Set up functions"
   ]
  },
  {
   "cell_type": "code",
   "execution_count": 58,
   "metadata": {
    "hide_input": true
   },
   "outputs": [],
   "source": [
    "def get_clean_network_data(min_date=None, max_date=None, drop_cols=None, verbose=True):\n",
    "    ''' A \"collector\" function that runs through `get_raw_data`, `filter_data` and `clean_data` in that order and then resets the index.'''\n",
    "    \n",
    "    df = get_raw_data(verbose=verbose)\n",
    "    df = filter_data(df, min_date=min_date, max_date=max_date, verbose=verbose)\n",
    "    \n",
    "    if not drop_cols:\n",
    "        drop_cols = ['EIMA', 'Imported from former archive', 'Search (newspapers.com)', 'Search (fulton)', 'Venue', 'Revue name', 'Normalized Revue Name', 'Legal name', 'Alleged age', 'Assumed birth year', 'Source clean', 'Category', '2020-12-31 ID', 'Normalized City', 'Performer first-name', 'Performer last-name', 'Normalized performer', 'has_required_data', 'has_correct_date', 'Exclude from visualization', 'Blackface', 'Sepia', 'Fan dancer/Sally Rand', 'Exotic/erotic/oriental dancer/Gypsy', 'Has image', 'Address', 'Vaudeville Circuit/Circus', 'Edge Comment', 'Comment on node: performer', 'Comment on node: venue', 'Comment on node: city', 'Comment on edge: revue', 'Normalized Venue'] # , 'Unsure whether drag artist'\n",
    "    \n",
    "    df = clean_data(df, drop_cols, verbose=verbose)\n",
    "    \n",
    "    df = df.reset_index(drop=True)\n",
    "    log(f'**Index has been reset**.', verbose=verbose)\n",
    "    \n",
    "    return df"
   ]
  },
  {
   "cell_type": "code",
   "execution_count": 59,
   "metadata": {},
   "outputs": [],
   "source": [
    "def test_same_df(df1, df2):\n",
    "    try:\n",
    "        for cols in [[x for x in df1.columns], [x for x in df2.columns]]:\n",
    "            for col in cols:\n",
    "                for ix, row in (df1 == df2).iterrows():\n",
    "                    if not all([row[col] for col in cols]):\n",
    "                        return False\n",
    "                if not [x for x in df1[col]] == [x for x in df2[col]]:\n",
    "                    return False\n",
    "    except ValueError:\n",
    "        return False\n",
    "    return True"
   ]
  },
  {
   "cell_type": "markdown",
   "metadata": {},
   "source": [
    "## Clean data generated\n",
    "\n",
    "Dataframe `df` generated, which can create good network data."
   ]
  },
  {
   "cell_type": "code",
   "execution_count": 60,
   "metadata": {},
   "outputs": [
    {
     "name": "stderr",
     "output_type": "stream",
     "text": [
      "<ipython-input-56-a14d6290b410>:42: SettingWithCopyWarning: \n",
      "A value is trying to be set on a copy of a slice from a DataFrame.\n",
      "Try using .loc[row_indexer,col_indexer] = value instead\n",
      "\n",
      "See the caveats in the documentation: https://pandas.pydata.org/pandas-docs/stable/user_guide/indexing.html#returning-a-view-versus-a-copy\n",
      "  df['Date'] = df.apply(lambda row: string_date(row), axis=1)\n"
     ]
    },
    {
     "name": "stdout",
     "output_type": "stream",
     "text": [
      "Dataset is same. Exiting...\n"
     ]
    }
   ],
   "source": [
    "df = get_clean_network_data(\n",
    "    min_date=datetime.datetime(year=1930, month=1, day=1),\n",
    "    max_date=datetime.datetime(year=1940, month=12, day=31),\n",
    "    verbose=False)\n",
    "\n",
    "df_test = pd.read_pickle('network-app/data/_df.pickle')\n",
    "\n",
    "if test_same_df(df, df_test):\n",
    "    print(\"Dataset is same. Exiting...\")\n",
    "    exit()\n",
    "\n",
    "df.to_pickle('network-app/data/_df.pickle')\n",
    "\n",
    "# To illustrate, we show a 10-row random sample:\n",
    "# df.sample(10).sort_index()"
   ]
  },
  {
   "cell_type": "markdown",
   "metadata": {},
   "source": [
    "# Group data"
   ]
  },
  {
   "cell_type": "markdown",
   "metadata": {},
   "source": [
    "## Set up functions"
   ]
  },
  {
   "cell_type": "code",
   "execution_count": 61,
   "metadata": {},
   "outputs": [],
   "source": [
    "def get_performers_who_were_there(df, where=None, when=[]):\n",
    "    \"\"\"Returns a list of all the performers from any list of dates and venue\"\"\"\n",
    "    \n",
    "    \"\"\"\n",
    "    How this function works:\n",
    "    get_performers_who_were_there(df, 'Band Box (Syracuse, NY)', ['1935-03-29', '1935-04-05', '1935-04-12', '1935-04-19'])\n",
    "    \"\"\"\n",
    "    if not isinstance(when, list):\n",
    "        when = [when]\n",
    "    \n",
    "    all_values = []\n",
    "    for when in when:\n",
    "        if isinstance(when, datetime.datetime):\n",
    "            when = when.strftime(\"%Y-%m-%d\")\n",
    "    \n",
    "        selected_rows = df[(df['Date'] == when) & (df['Venue'] == where)]\n",
    "        \n",
    "        all_values.extend(selected_rows['Performer'])\n",
    "\n",
    "    return sorted(list(set(all_values)))\n",
    "\n",
    "\n",
    "def group_dates(dates:list=[], delta=datetime.timedelta(days=14), dateformat='%Y-%m-%d'):\n",
    "    \"\"\"https://gist.github.com/kallewesterling/9a8d12ce073776ed52865bfb362ad073\"\"\"\n",
    "    \n",
    "    \"\"\"\n",
    "    Chains dates together by looking for the delta between any given dates in a list\n",
    "    \n",
    "    Example:\n",
    "    \n",
    "    (A.) Provided that the delta is `days=14`,\n",
    "         the left side will generate the right side:\n",
    "            [                           [\n",
    "                1935-01-13,               [1935-01-13, 1935-01-26,\n",
    "                1935-01-26,                1935-02-11, 1935-02-05],\n",
    "                1935-02-11,\n",
    "                1935-02-05,\n",
    "                1935-04-01,               [1935-04-01, 1935-04-06]\n",
    "                1935-04-06\n",
    "            ]                           ]\n",
    "            \n",
    "    (B.) Provided that the delta is `days=3`,\n",
    "         the left side will generate the right side:\n",
    "            [                           [\n",
    "                1935-01-13,               [1935-01-13],\n",
    "                1935-01-26,               [1935-01-26],\n",
    "                1935-02-11,               [1935-02-11],\n",
    "                1935-02-05,               [1935-02-05],\n",
    "                1935-04-01,               [1935-04-01],\n",
    "                1935-04-06                [1935-04-06]\n",
    "            ]                           ]\n",
    "\n",
    "    \"\"\"\n",
    "\n",
    "    try:\n",
    "        dates = sorted([datetime.datetime.strptime(x, dateformat) for x in dates])\n",
    "    except ValueError as e:\n",
    "        date = re.search(r'''['\"](.*)['\"] does not match format''', str(e))\n",
    "        if date:\n",
    "            date = date.groups()[0]\n",
    "        raise ValueError(f'A date found in list that did not adhere to format (`{date}`). Needs to follow format `{dateformat}`.') from None\n",
    "\n",
    "    if isinstance(delta, int):\n",
    "        delta = timedelta(days=delta)\n",
    "\n",
    "    periods = []\n",
    "\n",
    "    for ix, date in enumerate(dates):\n",
    "        min_date = date - delta\n",
    "        max_date = date + delta\n",
    "\n",
    "        prev_date, next_date = None, None\n",
    "        start_chain, end_chain, in_chain, solo_date = None, None, None, None\n",
    "        prev_date_in_range, next_date_in_range = None, None\n",
    "\n",
    "        try:\n",
    "            if ix-1 >= 0:\n",
    "                prev_date = dates[ix-1]\n",
    "        except IndexError:\n",
    "            prev_date = None\n",
    "\n",
    "        try:\n",
    "            next_date = dates[ix+1]\n",
    "        except IndexError:\n",
    "            next_date = None\n",
    "\n",
    "        if next_date:\n",
    "            next_date_in_range = next_date >= min_date and next_date <= max_date\n",
    "\n",
    "        if prev_date:\n",
    "            prev_date_in_range = prev_date >= min_date and prev_date <= max_date\n",
    "\n",
    "        if all([next_date, prev_date, prev_date_in_range, next_date_in_range]):\n",
    "            # In the loop and in a chain (near previous date and next)\n",
    "            in_chain = True\n",
    "        elif all([next_date, prev_date, next_date_in_range]) and not prev_date_in_range:\n",
    "            # In the loop and beginning of a chain (not near previous date but near next)\n",
    "            start_chain = True\n",
    "        elif all([next_date, prev_date, prev_date_in_range]) and not next_date_in_range:\n",
    "            # In the loop and end of a chain (near previous date but not next)\n",
    "            end_chain = True\n",
    "        elif all([next_date, prev_date]) and not all([prev_date_in_range, next_date_in_range]):\n",
    "            # In the loop but solo date (not not near previous date nor next)\n",
    "            solo_date = True\n",
    "        elif next_date and next_date_in_range:\n",
    "            # In the loop but solo date (not not near previous date nor next)\n",
    "            start_chain = True\n",
    "        elif next_date:\n",
    "            solo_date = True\n",
    "        elif prev_date and prev_date_in_range:\n",
    "            end_chain = True\n",
    "        elif prev_date:\n",
    "            solo_date = True\n",
    "        elif not next_date and not prev_date:\n",
    "            solo_date = True\n",
    "        else:\n",
    "            raise RuntimeError('An unexpected error occurred.')\n",
    "\n",
    "        date_str = date.strftime('%Y-%m-%d')\n",
    "\n",
    "        if start_chain:\n",
    "            periods.append([date_str])\n",
    "\n",
    "        elif end_chain:\n",
    "            periods[len(periods)-1].append(date_str)\n",
    "\n",
    "        elif solo_date:\n",
    "            periods.append([date_str])\n",
    "\n",
    "        elif in_chain:\n",
    "            periods[len(periods)-1].append(date_str)\n",
    "\n",
    "    return periods\n",
    "\n",
    "\n",
    "def get_group_data(df, days=settings['DAYSPANS']):\n",
    "    data_dict = {}\n",
    "    \n",
    "    venue_count = len(df.groupby(\"Venue\"))\n",
    "    i = 1\n",
    "    for venue, row in df.groupby('Venue'):\n",
    "        i+=1\n",
    "        for num_days in days:\n",
    "            log(f'Generating group data for spans of {\", \".join([str(x) for x in days])} days.')\n",
    "            log(f'   [{i}/{venue_count}] processing venue {venue} (date span {num_days} days)...')\n",
    "            clear_output(wait=True)\n",
    "            all_dates = list(set(row.Date))\n",
    "            grouped_dates = group_dates(all_dates, delta=datetime.timedelta(days=num_days))\n",
    "            for ix, date_group in enumerate(grouped_dates, start=1):\n",
    "                if not venue in data_dict:\n",
    "                    data_dict[venue] = {}\n",
    "                if not f'grouped-by-{num_days}-days' in data_dict[venue]:\n",
    "                    data_dict[venue][f'grouped-by-{num_days}-days'] = {}\n",
    "                \n",
    "                revues = list(set([x for x in row.Revue if x]))\n",
    "                cities = list(set([x for x in row.City if x]))\n",
    "                \n",
    "                data_dict[venue][f'grouped-by-{num_days}-days'][f'date_group-{ix}'] = {\n",
    "                    'dates': date_group,\n",
    "                    'performers': get_performers_who_were_there(df, venue, date_group),\n",
    "                    'revues': revues,\n",
    "                    'cities': cities\n",
    "                }\n",
    "    log(f'Generated group data for {venue_count} venues.')\n",
    "    return data_dict"
   ]
  },
  {
   "cell_type": "markdown",
   "metadata": {},
   "source": [
    "## Get grouped data"
   ]
  },
  {
   "cell_type": "code",
   "execution_count": 62,
   "metadata": {},
   "outputs": [
    {
     "data": {
      "text/markdown": [
       "<font color=\"green\">[17:56:18] Generating group data for spans of 3, 14, 31, 93, 186, 365 days.</font>"
      ],
      "text/plain": [
       "<IPython.core.display.Markdown object>"
      ]
     },
     "metadata": {},
     "output_type": "display_data"
    },
    {
     "ename": "TypeError",
     "evalue": "'NoneType' object is not callable",
     "output_type": "error",
     "traceback": [
      "\u001b[0;31m---------------------------------------------------------------------------\u001b[0m",
      "\u001b[0;31mTypeError\u001b[0m                                 Traceback (most recent call last)",
      "\u001b[0;32m<ipython-input-62-c559c16f53fd>\u001b[0m in \u001b[0;36m<module>\u001b[0;34m\u001b[0m\n\u001b[0;32m----> 1\u001b[0;31m \u001b[0mgroup_data_dict\u001b[0m \u001b[0;34m=\u001b[0m \u001b[0mget_group_data\u001b[0m\u001b[0;34m(\u001b[0m\u001b[0mdf\u001b[0m\u001b[0;34m)\u001b[0m\u001b[0;34m\u001b[0m\u001b[0;34m\u001b[0m\u001b[0m\n\u001b[0m",
      "\u001b[0;32m<ipython-input-61-c0c24591b5e0>\u001b[0m in \u001b[0;36mget_group_data\u001b[0;34m(df, days)\u001b[0m\n\u001b[1;32m    142\u001b[0m         \u001b[0mi\u001b[0m\u001b[0;34m+=\u001b[0m\u001b[0;36m1\u001b[0m\u001b[0;34m\u001b[0m\u001b[0;34m\u001b[0m\u001b[0m\n\u001b[1;32m    143\u001b[0m         \u001b[0;32mfor\u001b[0m \u001b[0mnum_days\u001b[0m \u001b[0;32min\u001b[0m \u001b[0mdays\u001b[0m\u001b[0;34m:\u001b[0m\u001b[0;34m\u001b[0m\u001b[0;34m\u001b[0m\u001b[0m\n\u001b[0;32m--> 144\u001b[0;31m             \u001b[0mlog\u001b[0m\u001b[0;34m(\u001b[0m\u001b[0;34mf'Generating group data for spans of {\", \".join([str(x) for x in days])} days.'\u001b[0m\u001b[0;34m)\u001b[0m\u001b[0;34m\u001b[0m\u001b[0;34m\u001b[0m\u001b[0m\n\u001b[0m\u001b[1;32m    145\u001b[0m             \u001b[0mlog\u001b[0m\u001b[0;34m(\u001b[0m\u001b[0;34mf'   [{i}/{venue_count}] processing venue {venue} (date span {num_days} days)...'\u001b[0m\u001b[0;34m)\u001b[0m\u001b[0;34m\u001b[0m\u001b[0;34m\u001b[0m\u001b[0m\n\u001b[1;32m    146\u001b[0m             \u001b[0mclear_output\u001b[0m\u001b[0;34m(\u001b[0m\u001b[0mwait\u001b[0m\u001b[0;34m=\u001b[0m\u001b[0;32mTrue\u001b[0m\u001b[0;34m)\u001b[0m\u001b[0;34m\u001b[0m\u001b[0;34m\u001b[0m\u001b[0m\n",
      "\u001b[0;32m<ipython-input-54-082064b4e095>\u001b[0m in \u001b[0;36mlog\u001b[0;34m(msg, color, verbose)\u001b[0m\n\u001b[1;32m     15\u001b[0m     \u001b[0mnow\u001b[0m \u001b[0;34m=\u001b[0m \u001b[0mdatetime\u001b[0m\u001b[0;34m.\u001b[0m\u001b[0mdatetime\u001b[0m\u001b[0;34m.\u001b[0m\u001b[0mnow\u001b[0m\u001b[0;34m(\u001b[0m\u001b[0;34m)\u001b[0m\u001b[0;34m.\u001b[0m\u001b[0mstrftime\u001b[0m\u001b[0;34m(\u001b[0m\u001b[0;34m'%H:%M%:%S'\u001b[0m\u001b[0;34m)\u001b[0m\u001b[0;34m\u001b[0m\u001b[0;34m\u001b[0m\u001b[0m\n\u001b[1;32m     16\u001b[0m     \u001b[0;32mif\u001b[0m \u001b[0mverbose\u001b[0m \u001b[0;32mand\u001b[0m \u001b[0min_notebook\u001b[0m\u001b[0;34m(\u001b[0m\u001b[0;34m)\u001b[0m\u001b[0;34m:\u001b[0m\u001b[0;34m\u001b[0m\u001b[0;34m\u001b[0m\u001b[0m\n\u001b[0;32m---> 17\u001b[0;31m         \u001b[0;32mreturn\u001b[0m \u001b[0mdisplay\u001b[0m\u001b[0;34m(\u001b[0m\u001b[0mMarkdown\u001b[0m\u001b[0;34m(\u001b[0m\u001b[0;34mf'<font color=\"{color}\">[{now}] {msg}</font>'\u001b[0m\u001b[0;34m)\u001b[0m\u001b[0;34m)\u001b[0m\u001b[0;34m(\u001b[0m\u001b[0;34m)\u001b[0m\u001b[0;34m\u001b[0m\u001b[0;34m\u001b[0m\u001b[0m\n\u001b[0m\u001b[1;32m     18\u001b[0m     \u001b[0;32melif\u001b[0m \u001b[0mverbose\u001b[0m\u001b[0;34m:\u001b[0m\u001b[0;34m\u001b[0m\u001b[0;34m\u001b[0m\u001b[0m\n\u001b[1;32m     19\u001b[0m         \u001b[0;32mreturn\u001b[0m \u001b[0mprint\u001b[0m\u001b[0;34m(\u001b[0m\u001b[0;34mf'[{now}]:\\n{msg}\\n\\n'\u001b[0m\u001b[0;34m)\u001b[0m\u001b[0;34m\u001b[0m\u001b[0;34m\u001b[0m\u001b[0m\n",
      "\u001b[0;31mTypeError\u001b[0m: 'NoneType' object is not callable"
     ]
    }
   ],
   "source": [
    "group_data_dict = get_group_data(df)"
   ]
  },
  {
   "cell_type": "markdown",
   "metadata": {},
   "source": [
    "### Grouped data meta dataset\n",
    "\n",
    "Starts collecting a `metadata` dictionary."
   ]
  },
  {
   "cell_type": "code",
   "execution_count": 45,
   "metadata": {},
   "outputs": [
    {
     "data": {
      "text/markdown": [
       "### Sample of 10 random points in the dataset\n",
       "\n",
       "Each span (`3 days`, `14 days`, `31 days`, `93 days`, `186 days`, and `365 days`) has a `num_groups` column, a `max_span` column, and a `max performers` column."
      ],
      "text/plain": [
       "<IPython.core.display.Markdown object>"
      ]
     },
     "metadata": {},
     "output_type": "display_data"
    },
    {
     "data": {
      "text/html": [
       "<div>\n",
       "<style scoped>\n",
       "    .dataframe tbody tr th:only-of-type {\n",
       "        vertical-align: middle;\n",
       "    }\n",
       "\n",
       "    .dataframe tbody tr th {\n",
       "        vertical-align: top;\n",
       "    }\n",
       "\n",
       "    .dataframe thead th {\n",
       "        text-align: right;\n",
       "    }\n",
       "</style>\n",
       "<table border=\"1\" class=\"dataframe\">\n",
       "  <thead>\n",
       "    <tr style=\"text-align: right;\">\n",
       "      <th></th>\n",
       "      <th>num_groups (#, delta: 3 days)</th>\n",
       "      <th>max_span (days, delta: 3 days)</th>\n",
       "      <th>max performers in a group (#, delta: 3 days)</th>\n",
       "      <th>group_member_counters for venue (#, delta: 3 days)</th>\n",
       "      <th>num_groups (#, delta: 14 days)</th>\n",
       "      <th>max_span (days, delta: 14 days)</th>\n",
       "      <th>max performers in a group (#, delta: 14 days)</th>\n",
       "      <th>group_member_counters for venue (#, delta: 14 days)</th>\n",
       "      <th>num_groups (#, delta: 31 days)</th>\n",
       "      <th>max_span (days, delta: 31 days)</th>\n",
       "      <th>...</th>\n",
       "      <th>max performers in a group (#, delta: 93 days)</th>\n",
       "      <th>group_member_counters for venue (#, delta: 93 days)</th>\n",
       "      <th>num_groups (#, delta: 186 days)</th>\n",
       "      <th>max_span (days, delta: 186 days)</th>\n",
       "      <th>max performers in a group (#, delta: 186 days)</th>\n",
       "      <th>group_member_counters for venue (#, delta: 186 days)</th>\n",
       "      <th>num_groups (#, delta: 365 days)</th>\n",
       "      <th>max_span (days, delta: 365 days)</th>\n",
       "      <th>max performers in a group (#, delta: 365 days)</th>\n",
       "      <th>group_member_counters for venue (#, delta: 365 days)</th>\n",
       "    </tr>\n",
       "  </thead>\n",
       "  <tbody>\n",
       "    <tr>\n",
       "      <th>Hildebrand 69th St. Rathskeller (Philadelphia, PA)</th>\n",
       "      <td>5</td>\n",
       "      <td>0</td>\n",
       "      <td>1</td>\n",
       "      <td>{1: 5}</td>\n",
       "      <td>2</td>\n",
       "      <td>28</td>\n",
       "      <td>1</td>\n",
       "      <td>{1: 2}</td>\n",
       "      <td>1</td>\n",
       "      <td>56</td>\n",
       "      <td>...</td>\n",
       "      <td>1</td>\n",
       "      <td>{1: 1}</td>\n",
       "      <td>1</td>\n",
       "      <td>56</td>\n",
       "      <td>1</td>\n",
       "      <td>{1: 1}</td>\n",
       "      <td>1</td>\n",
       "      <td>56</td>\n",
       "      <td>1</td>\n",
       "      <td>{1: 1}</td>\n",
       "    </tr>\n",
       "    <tr>\n",
       "      <th>Mother Kelly's (Miami, FL)</th>\n",
       "      <td>3</td>\n",
       "      <td>0</td>\n",
       "      <td>1</td>\n",
       "      <td>{1: 3}</td>\n",
       "      <td>1</td>\n",
       "      <td>14</td>\n",
       "      <td>1</td>\n",
       "      <td>{1: 1}</td>\n",
       "      <td>1</td>\n",
       "      <td>14</td>\n",
       "      <td>...</td>\n",
       "      <td>1</td>\n",
       "      <td>{1: 1}</td>\n",
       "      <td>1</td>\n",
       "      <td>14</td>\n",
       "      <td>1</td>\n",
       "      <td>{1: 1}</td>\n",
       "      <td>1</td>\n",
       "      <td>14</td>\n",
       "      <td>1</td>\n",
       "      <td>{1: 1}</td>\n",
       "    </tr>\n",
       "    <tr>\n",
       "      <th>Ritz Cafe (Chicago, IL)</th>\n",
       "      <td>2</td>\n",
       "      <td>0</td>\n",
       "      <td>1</td>\n",
       "      <td>{1: 2}</td>\n",
       "      <td>2</td>\n",
       "      <td>0</td>\n",
       "      <td>1</td>\n",
       "      <td>{1: 2}</td>\n",
       "      <td>2</td>\n",
       "      <td>0</td>\n",
       "      <td>...</td>\n",
       "      <td>2</td>\n",
       "      <td>{2: 1}</td>\n",
       "      <td>1</td>\n",
       "      <td>91</td>\n",
       "      <td>2</td>\n",
       "      <td>{2: 1}</td>\n",
       "      <td>1</td>\n",
       "      <td>91</td>\n",
       "      <td>2</td>\n",
       "      <td>{2: 1}</td>\n",
       "    </tr>\n",
       "    <tr>\n",
       "      <th>Pine Lodge (Pottersville, NY)</th>\n",
       "      <td>1</td>\n",
       "      <td>0</td>\n",
       "      <td>1</td>\n",
       "      <td>{1: 1}</td>\n",
       "      <td>1</td>\n",
       "      <td>0</td>\n",
       "      <td>1</td>\n",
       "      <td>{1: 1}</td>\n",
       "      <td>1</td>\n",
       "      <td>0</td>\n",
       "      <td>...</td>\n",
       "      <td>1</td>\n",
       "      <td>{1: 1}</td>\n",
       "      <td>1</td>\n",
       "      <td>0</td>\n",
       "      <td>1</td>\n",
       "      <td>{1: 1}</td>\n",
       "      <td>1</td>\n",
       "      <td>0</td>\n",
       "      <td>1</td>\n",
       "      <td>{1: 1}</td>\n",
       "    </tr>\n",
       "    <tr>\n",
       "      <th>Oasis (Seattle, WA)</th>\n",
       "      <td>1</td>\n",
       "      <td>0</td>\n",
       "      <td>2</td>\n",
       "      <td>{2: 1}</td>\n",
       "      <td>1</td>\n",
       "      <td>0</td>\n",
       "      <td>2</td>\n",
       "      <td>{2: 1}</td>\n",
       "      <td>1</td>\n",
       "      <td>0</td>\n",
       "      <td>...</td>\n",
       "      <td>2</td>\n",
       "      <td>{2: 1}</td>\n",
       "      <td>1</td>\n",
       "      <td>0</td>\n",
       "      <td>2</td>\n",
       "      <td>{2: 1}</td>\n",
       "      <td>1</td>\n",
       "      <td>0</td>\n",
       "      <td>2</td>\n",
       "      <td>{2: 1}</td>\n",
       "    </tr>\n",
       "    <tr>\n",
       "      <th>Club Candee (Syracuse, NY)</th>\n",
       "      <td>1</td>\n",
       "      <td>0</td>\n",
       "      <td>1</td>\n",
       "      <td>{1: 1}</td>\n",
       "      <td>1</td>\n",
       "      <td>0</td>\n",
       "      <td>1</td>\n",
       "      <td>{1: 1}</td>\n",
       "      <td>1</td>\n",
       "      <td>0</td>\n",
       "      <td>...</td>\n",
       "      <td>1</td>\n",
       "      <td>{1: 1}</td>\n",
       "      <td>1</td>\n",
       "      <td>0</td>\n",
       "      <td>1</td>\n",
       "      <td>{1: 1}</td>\n",
       "      <td>1</td>\n",
       "      <td>0</td>\n",
       "      <td>1</td>\n",
       "      <td>{1: 1}</td>\n",
       "    </tr>\n",
       "    <tr>\n",
       "      <th>Club Paradise (New York, NY)</th>\n",
       "      <td>1</td>\n",
       "      <td>0</td>\n",
       "      <td>1</td>\n",
       "      <td>{1: 1}</td>\n",
       "      <td>1</td>\n",
       "      <td>0</td>\n",
       "      <td>1</td>\n",
       "      <td>{1: 1}</td>\n",
       "      <td>1</td>\n",
       "      <td>0</td>\n",
       "      <td>...</td>\n",
       "      <td>1</td>\n",
       "      <td>{1: 1}</td>\n",
       "      <td>1</td>\n",
       "      <td>0</td>\n",
       "      <td>1</td>\n",
       "      <td>{1: 1}</td>\n",
       "      <td>1</td>\n",
       "      <td>0</td>\n",
       "      <td>1</td>\n",
       "      <td>{1: 1}</td>\n",
       "    </tr>\n",
       "    <tr>\n",
       "      <th>Club Ha-Ha (Miami, FL)</th>\n",
       "      <td>1</td>\n",
       "      <td>0</td>\n",
       "      <td>2</td>\n",
       "      <td>{2: 1}</td>\n",
       "      <td>1</td>\n",
       "      <td>0</td>\n",
       "      <td>2</td>\n",
       "      <td>{2: 1}</td>\n",
       "      <td>1</td>\n",
       "      <td>0</td>\n",
       "      <td>...</td>\n",
       "      <td>2</td>\n",
       "      <td>{2: 1}</td>\n",
       "      <td>1</td>\n",
       "      <td>0</td>\n",
       "      <td>2</td>\n",
       "      <td>{2: 1}</td>\n",
       "      <td>1</td>\n",
       "      <td>0</td>\n",
       "      <td>2</td>\n",
       "      <td>{2: 1}</td>\n",
       "    </tr>\n",
       "    <tr>\n",
       "      <th>Olympic Cafe (Berwyn, IL)</th>\n",
       "      <td>1</td>\n",
       "      <td>0</td>\n",
       "      <td>1</td>\n",
       "      <td>{1: 1}</td>\n",
       "      <td>1</td>\n",
       "      <td>0</td>\n",
       "      <td>1</td>\n",
       "      <td>{1: 1}</td>\n",
       "      <td>1</td>\n",
       "      <td>0</td>\n",
       "      <td>...</td>\n",
       "      <td>1</td>\n",
       "      <td>{1: 1}</td>\n",
       "      <td>1</td>\n",
       "      <td>0</td>\n",
       "      <td>1</td>\n",
       "      <td>{1: 1}</td>\n",
       "      <td>1</td>\n",
       "      <td>0</td>\n",
       "      <td>1</td>\n",
       "      <td>{1: 1}</td>\n",
       "    </tr>\n",
       "    <tr>\n",
       "      <th>1642 Milliman Street (Baltimore, MD)</th>\n",
       "      <td>1</td>\n",
       "      <td>0</td>\n",
       "      <td>2</td>\n",
       "      <td>{2: 1}</td>\n",
       "      <td>1</td>\n",
       "      <td>0</td>\n",
       "      <td>2</td>\n",
       "      <td>{2: 1}</td>\n",
       "      <td>1</td>\n",
       "      <td>0</td>\n",
       "      <td>...</td>\n",
       "      <td>2</td>\n",
       "      <td>{2: 1}</td>\n",
       "      <td>1</td>\n",
       "      <td>0</td>\n",
       "      <td>2</td>\n",
       "      <td>{2: 1}</td>\n",
       "      <td>1</td>\n",
       "      <td>0</td>\n",
       "      <td>2</td>\n",
       "      <td>{2: 1}</td>\n",
       "    </tr>\n",
       "  </tbody>\n",
       "</table>\n",
       "<p>10 rows × 24 columns</p>\n",
       "</div>"
      ],
      "text/plain": [
       "                                                    num_groups (#, delta: 3 days)  \\\n",
       "Hildebrand 69th St. Rathskeller (Philadelphia, PA)                              5   \n",
       "Mother Kelly's (Miami, FL)                                                      3   \n",
       "Ritz Cafe (Chicago, IL)                                                         2   \n",
       "Pine Lodge (Pottersville, NY)                                                   1   \n",
       "Oasis (Seattle, WA)                                                             1   \n",
       "Club Candee (Syracuse, NY)                                                      1   \n",
       "Club Paradise (New York, NY)                                                    1   \n",
       "Club Ha-Ha (Miami, FL)                                                          1   \n",
       "Olympic Cafe (Berwyn, IL)                                                       1   \n",
       "1642 Milliman Street (Baltimore, MD)                                            1   \n",
       "\n",
       "                                                    max_span (days, delta: 3 days)  \\\n",
       "Hildebrand 69th St. Rathskeller (Philadelphia, PA)                               0   \n",
       "Mother Kelly's (Miami, FL)                                                       0   \n",
       "Ritz Cafe (Chicago, IL)                                                          0   \n",
       "Pine Lodge (Pottersville, NY)                                                    0   \n",
       "Oasis (Seattle, WA)                                                              0   \n",
       "Club Candee (Syracuse, NY)                                                       0   \n",
       "Club Paradise (New York, NY)                                                     0   \n",
       "Club Ha-Ha (Miami, FL)                                                           0   \n",
       "Olympic Cafe (Berwyn, IL)                                                        0   \n",
       "1642 Milliman Street (Baltimore, MD)                                             0   \n",
       "\n",
       "                                                    max performers in a group (#, delta: 3 days)  \\\n",
       "Hildebrand 69th St. Rathskeller (Philadelphia, PA)                                             1   \n",
       "Mother Kelly's (Miami, FL)                                                                     1   \n",
       "Ritz Cafe (Chicago, IL)                                                                        1   \n",
       "Pine Lodge (Pottersville, NY)                                                                  1   \n",
       "Oasis (Seattle, WA)                                                                            2   \n",
       "Club Candee (Syracuse, NY)                                                                     1   \n",
       "Club Paradise (New York, NY)                                                                   1   \n",
       "Club Ha-Ha (Miami, FL)                                                                         2   \n",
       "Olympic Cafe (Berwyn, IL)                                                                      1   \n",
       "1642 Milliman Street (Baltimore, MD)                                                           2   \n",
       "\n",
       "                                                   group_member_counters for venue (#, delta: 3 days)  \\\n",
       "Hildebrand 69th St. Rathskeller (Philadelphia, PA)                                             {1: 5}   \n",
       "Mother Kelly's (Miami, FL)                                                                     {1: 3}   \n",
       "Ritz Cafe (Chicago, IL)                                                                        {1: 2}   \n",
       "Pine Lodge (Pottersville, NY)                                                                  {1: 1}   \n",
       "Oasis (Seattle, WA)                                                                            {2: 1}   \n",
       "Club Candee (Syracuse, NY)                                                                     {1: 1}   \n",
       "Club Paradise (New York, NY)                                                                   {1: 1}   \n",
       "Club Ha-Ha (Miami, FL)                                                                         {2: 1}   \n",
       "Olympic Cafe (Berwyn, IL)                                                                      {1: 1}   \n",
       "1642 Milliman Street (Baltimore, MD)                                                           {2: 1}   \n",
       "\n",
       "                                                    num_groups (#, delta: 14 days)  \\\n",
       "Hildebrand 69th St. Rathskeller (Philadelphia, PA)                               2   \n",
       "Mother Kelly's (Miami, FL)                                                       1   \n",
       "Ritz Cafe (Chicago, IL)                                                          2   \n",
       "Pine Lodge (Pottersville, NY)                                                    1   \n",
       "Oasis (Seattle, WA)                                                              1   \n",
       "Club Candee (Syracuse, NY)                                                       1   \n",
       "Club Paradise (New York, NY)                                                     1   \n",
       "Club Ha-Ha (Miami, FL)                                                           1   \n",
       "Olympic Cafe (Berwyn, IL)                                                        1   \n",
       "1642 Milliman Street (Baltimore, MD)                                             1   \n",
       "\n",
       "                                                    max_span (days, delta: 14 days)  \\\n",
       "Hildebrand 69th St. Rathskeller (Philadelphia, PA)                               28   \n",
       "Mother Kelly's (Miami, FL)                                                       14   \n",
       "Ritz Cafe (Chicago, IL)                                                           0   \n",
       "Pine Lodge (Pottersville, NY)                                                     0   \n",
       "Oasis (Seattle, WA)                                                               0   \n",
       "Club Candee (Syracuse, NY)                                                        0   \n",
       "Club Paradise (New York, NY)                                                      0   \n",
       "Club Ha-Ha (Miami, FL)                                                            0   \n",
       "Olympic Cafe (Berwyn, IL)                                                         0   \n",
       "1642 Milliman Street (Baltimore, MD)                                              0   \n",
       "\n",
       "                                                    max performers in a group (#, delta: 14 days)  \\\n",
       "Hildebrand 69th St. Rathskeller (Philadelphia, PA)                                              1   \n",
       "Mother Kelly's (Miami, FL)                                                                      1   \n",
       "Ritz Cafe (Chicago, IL)                                                                         1   \n",
       "Pine Lodge (Pottersville, NY)                                                                   1   \n",
       "Oasis (Seattle, WA)                                                                             2   \n",
       "Club Candee (Syracuse, NY)                                                                      1   \n",
       "Club Paradise (New York, NY)                                                                    1   \n",
       "Club Ha-Ha (Miami, FL)                                                                          2   \n",
       "Olympic Cafe (Berwyn, IL)                                                                       1   \n",
       "1642 Milliman Street (Baltimore, MD)                                                            2   \n",
       "\n",
       "                                                   group_member_counters for venue (#, delta: 14 days)  \\\n",
       "Hildebrand 69th St. Rathskeller (Philadelphia, PA)                                             {1: 2}    \n",
       "Mother Kelly's (Miami, FL)                                                                     {1: 1}    \n",
       "Ritz Cafe (Chicago, IL)                                                                        {1: 2}    \n",
       "Pine Lodge (Pottersville, NY)                                                                  {1: 1}    \n",
       "Oasis (Seattle, WA)                                                                            {2: 1}    \n",
       "Club Candee (Syracuse, NY)                                                                     {1: 1}    \n",
       "Club Paradise (New York, NY)                                                                   {1: 1}    \n",
       "Club Ha-Ha (Miami, FL)                                                                         {2: 1}    \n",
       "Olympic Cafe (Berwyn, IL)                                                                      {1: 1}    \n",
       "1642 Milliman Street (Baltimore, MD)                                                           {2: 1}    \n",
       "\n",
       "                                                    num_groups (#, delta: 31 days)  \\\n",
       "Hildebrand 69th St. Rathskeller (Philadelphia, PA)                               1   \n",
       "Mother Kelly's (Miami, FL)                                                       1   \n",
       "Ritz Cafe (Chicago, IL)                                                          2   \n",
       "Pine Lodge (Pottersville, NY)                                                    1   \n",
       "Oasis (Seattle, WA)                                                              1   \n",
       "Club Candee (Syracuse, NY)                                                       1   \n",
       "Club Paradise (New York, NY)                                                     1   \n",
       "Club Ha-Ha (Miami, FL)                                                           1   \n",
       "Olympic Cafe (Berwyn, IL)                                                        1   \n",
       "1642 Milliman Street (Baltimore, MD)                                             1   \n",
       "\n",
       "                                                    max_span (days, delta: 31 days)  \\\n",
       "Hildebrand 69th St. Rathskeller (Philadelphia, PA)                               56   \n",
       "Mother Kelly's (Miami, FL)                                                       14   \n",
       "Ritz Cafe (Chicago, IL)                                                           0   \n",
       "Pine Lodge (Pottersville, NY)                                                     0   \n",
       "Oasis (Seattle, WA)                                                               0   \n",
       "Club Candee (Syracuse, NY)                                                        0   \n",
       "Club Paradise (New York, NY)                                                      0   \n",
       "Club Ha-Ha (Miami, FL)                                                            0   \n",
       "Olympic Cafe (Berwyn, IL)                                                         0   \n",
       "1642 Milliman Street (Baltimore, MD)                                              0   \n",
       "\n",
       "                                                    ...  \\\n",
       "Hildebrand 69th St. Rathskeller (Philadelphia, PA)  ...   \n",
       "Mother Kelly's (Miami, FL)                          ...   \n",
       "Ritz Cafe (Chicago, IL)                             ...   \n",
       "Pine Lodge (Pottersville, NY)                       ...   \n",
       "Oasis (Seattle, WA)                                 ...   \n",
       "Club Candee (Syracuse, NY)                          ...   \n",
       "Club Paradise (New York, NY)                        ...   \n",
       "Club Ha-Ha (Miami, FL)                              ...   \n",
       "Olympic Cafe (Berwyn, IL)                           ...   \n",
       "1642 Milliman Street (Baltimore, MD)                ...   \n",
       "\n",
       "                                                    max performers in a group (#, delta: 93 days)  \\\n",
       "Hildebrand 69th St. Rathskeller (Philadelphia, PA)                                              1   \n",
       "Mother Kelly's (Miami, FL)                                                                      1   \n",
       "Ritz Cafe (Chicago, IL)                                                                         2   \n",
       "Pine Lodge (Pottersville, NY)                                                                   1   \n",
       "Oasis (Seattle, WA)                                                                             2   \n",
       "Club Candee (Syracuse, NY)                                                                      1   \n",
       "Club Paradise (New York, NY)                                                                    1   \n",
       "Club Ha-Ha (Miami, FL)                                                                          2   \n",
       "Olympic Cafe (Berwyn, IL)                                                                       1   \n",
       "1642 Milliman Street (Baltimore, MD)                                                            2   \n",
       "\n",
       "                                                   group_member_counters for venue (#, delta: 93 days)  \\\n",
       "Hildebrand 69th St. Rathskeller (Philadelphia, PA)                                             {1: 1}    \n",
       "Mother Kelly's (Miami, FL)                                                                     {1: 1}    \n",
       "Ritz Cafe (Chicago, IL)                                                                        {2: 1}    \n",
       "Pine Lodge (Pottersville, NY)                                                                  {1: 1}    \n",
       "Oasis (Seattle, WA)                                                                            {2: 1}    \n",
       "Club Candee (Syracuse, NY)                                                                     {1: 1}    \n",
       "Club Paradise (New York, NY)                                                                   {1: 1}    \n",
       "Club Ha-Ha (Miami, FL)                                                                         {2: 1}    \n",
       "Olympic Cafe (Berwyn, IL)                                                                      {1: 1}    \n",
       "1642 Milliman Street (Baltimore, MD)                                                           {2: 1}    \n",
       "\n",
       "                                                    num_groups (#, delta: 186 days)  \\\n",
       "Hildebrand 69th St. Rathskeller (Philadelphia, PA)                                1   \n",
       "Mother Kelly's (Miami, FL)                                                        1   \n",
       "Ritz Cafe (Chicago, IL)                                                           1   \n",
       "Pine Lodge (Pottersville, NY)                                                     1   \n",
       "Oasis (Seattle, WA)                                                               1   \n",
       "Club Candee (Syracuse, NY)                                                        1   \n",
       "Club Paradise (New York, NY)                                                      1   \n",
       "Club Ha-Ha (Miami, FL)                                                            1   \n",
       "Olympic Cafe (Berwyn, IL)                                                         1   \n",
       "1642 Milliman Street (Baltimore, MD)                                              1   \n",
       "\n",
       "                                                    max_span (days, delta: 186 days)  \\\n",
       "Hildebrand 69th St. Rathskeller (Philadelphia, PA)                                56   \n",
       "Mother Kelly's (Miami, FL)                                                        14   \n",
       "Ritz Cafe (Chicago, IL)                                                           91   \n",
       "Pine Lodge (Pottersville, NY)                                                      0   \n",
       "Oasis (Seattle, WA)                                                                0   \n",
       "Club Candee (Syracuse, NY)                                                         0   \n",
       "Club Paradise (New York, NY)                                                       0   \n",
       "Club Ha-Ha (Miami, FL)                                                             0   \n",
       "Olympic Cafe (Berwyn, IL)                                                          0   \n",
       "1642 Milliman Street (Baltimore, MD)                                               0   \n",
       "\n",
       "                                                    max performers in a group (#, delta: 186 days)  \\\n",
       "Hildebrand 69th St. Rathskeller (Philadelphia, PA)                                               1   \n",
       "Mother Kelly's (Miami, FL)                                                                       1   \n",
       "Ritz Cafe (Chicago, IL)                                                                          2   \n",
       "Pine Lodge (Pottersville, NY)                                                                    1   \n",
       "Oasis (Seattle, WA)                                                                              2   \n",
       "Club Candee (Syracuse, NY)                                                                       1   \n",
       "Club Paradise (New York, NY)                                                                     1   \n",
       "Club Ha-Ha (Miami, FL)                                                                           2   \n",
       "Olympic Cafe (Berwyn, IL)                                                                        1   \n",
       "1642 Milliman Street (Baltimore, MD)                                                             2   \n",
       "\n",
       "                                                   group_member_counters for venue (#, delta: 186 days)  \\\n",
       "Hildebrand 69th St. Rathskeller (Philadelphia, PA)                                             {1: 1}     \n",
       "Mother Kelly's (Miami, FL)                                                                     {1: 1}     \n",
       "Ritz Cafe (Chicago, IL)                                                                        {2: 1}     \n",
       "Pine Lodge (Pottersville, NY)                                                                  {1: 1}     \n",
       "Oasis (Seattle, WA)                                                                            {2: 1}     \n",
       "Club Candee (Syracuse, NY)                                                                     {1: 1}     \n",
       "Club Paradise (New York, NY)                                                                   {1: 1}     \n",
       "Club Ha-Ha (Miami, FL)                                                                         {2: 1}     \n",
       "Olympic Cafe (Berwyn, IL)                                                                      {1: 1}     \n",
       "1642 Milliman Street (Baltimore, MD)                                                           {2: 1}     \n",
       "\n",
       "                                                    num_groups (#, delta: 365 days)  \\\n",
       "Hildebrand 69th St. Rathskeller (Philadelphia, PA)                                1   \n",
       "Mother Kelly's (Miami, FL)                                                        1   \n",
       "Ritz Cafe (Chicago, IL)                                                           1   \n",
       "Pine Lodge (Pottersville, NY)                                                     1   \n",
       "Oasis (Seattle, WA)                                                               1   \n",
       "Club Candee (Syracuse, NY)                                                        1   \n",
       "Club Paradise (New York, NY)                                                      1   \n",
       "Club Ha-Ha (Miami, FL)                                                            1   \n",
       "Olympic Cafe (Berwyn, IL)                                                         1   \n",
       "1642 Milliman Street (Baltimore, MD)                                              1   \n",
       "\n",
       "                                                    max_span (days, delta: 365 days)  \\\n",
       "Hildebrand 69th St. Rathskeller (Philadelphia, PA)                                56   \n",
       "Mother Kelly's (Miami, FL)                                                        14   \n",
       "Ritz Cafe (Chicago, IL)                                                           91   \n",
       "Pine Lodge (Pottersville, NY)                                                      0   \n",
       "Oasis (Seattle, WA)                                                                0   \n",
       "Club Candee (Syracuse, NY)                                                         0   \n",
       "Club Paradise (New York, NY)                                                       0   \n",
       "Club Ha-Ha (Miami, FL)                                                             0   \n",
       "Olympic Cafe (Berwyn, IL)                                                          0   \n",
       "1642 Milliman Street (Baltimore, MD)                                               0   \n",
       "\n",
       "                                                    max performers in a group (#, delta: 365 days)  \\\n",
       "Hildebrand 69th St. Rathskeller (Philadelphia, PA)                                               1   \n",
       "Mother Kelly's (Miami, FL)                                                                       1   \n",
       "Ritz Cafe (Chicago, IL)                                                                          2   \n",
       "Pine Lodge (Pottersville, NY)                                                                    1   \n",
       "Oasis (Seattle, WA)                                                                              2   \n",
       "Club Candee (Syracuse, NY)                                                                       1   \n",
       "Club Paradise (New York, NY)                                                                     1   \n",
       "Club Ha-Ha (Miami, FL)                                                                           2   \n",
       "Olympic Cafe (Berwyn, IL)                                                                        1   \n",
       "1642 Milliman Street (Baltimore, MD)                                                             2   \n",
       "\n",
       "                                                   group_member_counters for venue (#, delta: 365 days)  \n",
       "Hildebrand 69th St. Rathskeller (Philadelphia, PA)                                             {1: 1}    \n",
       "Mother Kelly's (Miami, FL)                                                                     {1: 1}    \n",
       "Ritz Cafe (Chicago, IL)                                                                        {2: 1}    \n",
       "Pine Lodge (Pottersville, NY)                                                                  {1: 1}    \n",
       "Oasis (Seattle, WA)                                                                            {2: 1}    \n",
       "Club Candee (Syracuse, NY)                                                                     {1: 1}    \n",
       "Club Paradise (New York, NY)                                                                   {1: 1}    \n",
       "Club Ha-Ha (Miami, FL)                                                                         {2: 1}    \n",
       "Olympic Cafe (Berwyn, IL)                                                                      {1: 1}    \n",
       "1642 Milliman Street (Baltimore, MD)                                                           {2: 1}    \n",
       "\n",
       "[10 rows x 24 columns]"
      ]
     },
     "execution_count": 45,
     "metadata": {},
     "output_type": "execute_result"
    }
   ],
   "source": [
    "metadata = {}\n",
    "\n",
    "df_grouped_dates = pd.DataFrame()\n",
    "\n",
    "venue_span_data = {}\n",
    "# Loop through each venue with adhering data\n",
    "for venue, row in df.groupby('Venue'):\n",
    "    d = {}\n",
    "    for days in [3, 14, 31, 93, 186, 365]:\n",
    "        all_dates = list(set(row.Date))\n",
    "        #print(venue, all_dates)\n",
    "        grouped_dates = group_dates(all_dates, delta=datetime.timedelta(days=days))\n",
    "        max_span = 0\n",
    "        max_performers_in_date_group = 0\n",
    "        group_member_counters = Counter()\n",
    "        for date_group in grouped_dates:\n",
    "            venue_span_data[str(date_group)] = {}\n",
    "            performers_in_date_group = []\n",
    "            last_day_in_date_group = max([datetime.datetime.strptime(x, '%Y-%m-%d') for x in date_group])\n",
    "            first_day_in_date_group = min([datetime.datetime.strptime(x, '%Y-%m-%d') for x in date_group])\n",
    "            datespan = (last_day_in_date_group - first_day_in_date_group).days\n",
    "            if datespan > max_span:\n",
    "                max_span = datespan\n",
    "            for performer in [get_performers_who_were_there(df, where=venue, when=x) for x in date_group]:\n",
    "                performers_in_date_group.extend(performer)\n",
    "            performers_in_date_group = list(set(performers_in_date_group))\n",
    "            if len(performers_in_date_group) > max_performers_in_date_group:\n",
    "                max_performers_in_date_group = len(performers_in_date_group)\n",
    "            group_member_counters[len(performers_in_date_group)] += 1\n",
    "            # print(venue, first_day_in_date_group, last_day_in_date_group, performers_in_date_group)\n",
    "        d[f'num_groups (#, delta: {days} days)'] = len(grouped_dates)\n",
    "        d[f'max_span (days, delta: {days} days)'] = max_span\n",
    "        d[f'max performers in a group (#, delta: {days} days)'] = max_performers_in_date_group\n",
    "        d[f'group_member_counters for venue (#, delta: {days} days)'] = group_member_counters\n",
    "    s = pd.Series(d, name=venue)\n",
    "    df_grouped_dates = df_grouped_dates.append(s)\n",
    "    dtype = {key: int for key in [x for x in d.keys() if not 'group_member_counters for venue' in x]}\n",
    "    df_grouped_dates = df_grouped_dates.astype(dtype)\n",
    "\n",
    "display(Markdown('### Sample of 10 random points in the dataset\\n\\nEach span (`3 days`, `14 days`, `31 days`, `93 days`, `186 days`, and `365 days`) has a `num_groups` column, a `max_span` column, and a `max performers` column.'))\n",
    "df_grouped_dates[list(d.keys())].sample(10).sort_values('num_groups (#, delta: 3 days)', ascending=False)"
   ]
  },
  {
   "cell_type": "code",
   "execution_count": 46,
   "metadata": {},
   "outputs": [],
   "source": [
    "metadata['grouped_dates'] = df_grouped_dates[list(d.keys())].T.to_json()"
   ]
  },
  {
   "cell_type": "markdown",
   "metadata": {},
   "source": [
    "# Network grouped data\n",
    "\n",
    "Setting up networks with nodes and edges for each of the day spans."
   ]
  },
  {
   "cell_type": "code",
   "execution_count": 47,
   "metadata": {},
   "outputs": [],
   "source": [
    "networks = {}\n",
    "\n",
    "verbose = False\n",
    "\n",
    "venue_count = len(group_data_dict)\n",
    "i = 0\n",
    "for venue, data in group_data_dict.items():\n",
    "    i+=1\n",
    "    for grouped_by, data2 in data.items():\n",
    "        clear_output(wait=True)\n",
    "        log(f'Generating network for {grouped_by}.', verbose=verbose)\n",
    "        log(f'   [{i}/{venue_count}] processing venue {venue}...', verbose=verbose)\n",
    "        if not grouped_by in networks:\n",
    "            networks[grouped_by] = nx.Graph()\n",
    "            networks[grouped_by].generated = datetime.datetime.now()\n",
    "\n",
    "        for date_group_id, data3 in data2.items():\n",
    "            if len(data3['performers']) > 1:\n",
    "                performers = data3['performers']\n",
    "                dates = data3['dates']\n",
    "                revues = data3['revues']\n",
    "                cities = data3['cities']\n",
    "                for performer in performers:\n",
    "                    for target in [x for x in performers if not x == performer]:\n",
    "                        edge = (performer, target)\n",
    "                        if not edge in networks[grouped_by].edges:\n",
    "                            networks[grouped_by].add_edges_from([edge], coLocated={})\n",
    "                        if not venue in networks[grouped_by].edges[edge]['coLocated']:\n",
    "                            networks[grouped_by].edges[edge]['coLocated'][venue] = []\n",
    "                        if not dates in networks[grouped_by].edges[edge]['coLocated'][venue]:\n",
    "                            networks[grouped_by].edges[edge]['coLocated'][venue].append(dates)\n",
    "                        \n",
    "                        if not 'revues' in networks[grouped_by].edges[edge]:\n",
    "                            networks[grouped_by].edges[edge]['revues'] = []\n",
    "                        if not revues in networks[grouped_by].edges[edge]['revues']:\n",
    "                            networks[grouped_by].edges[edge]['revues'].extend(revues)\n",
    "                            networks[grouped_by].edges[edge]['revues'] = list(set(networks[grouped_by].edges[edge]['revues']))\n",
    "                            \n",
    "                        if not 'cities' in networks[grouped_by].edges[edge]:\n",
    "                            networks[grouped_by].edges[edge]['cities'] = []\n",
    "                        if not cities in networks[grouped_by].edges[edge]['cities']:\n",
    "                            networks[grouped_by].edges[edge]['cities'].extend(cities)\n",
    "                            networks[grouped_by].edges[edge]['cities'] = list(set(networks[grouped_by].edges[edge]['cities']))"
   ]
  },
  {
   "cell_type": "code",
   "execution_count": 48,
   "metadata": {},
   "outputs": [],
   "source": [
    "def drop_unnamed(n):\n",
    "    return not 'unnamed' in n.lower()\n",
    "\n",
    "_networks = {}\n",
    "\n",
    "for key in networks.keys():\n",
    "    _networks[key] = copy.deepcopy(networks[key])\n",
    "    _networks[f'{key}-no-unnamed-performers'] = nx.subgraph_view(_networks[key], filter_node=drop_unnamed)\n",
    "    _networks[f'{key}-no-unnamed-performers'].generated = datetime.datetime.now()\n",
    "    \n",
    "networks = _networks"
   ]
  },
  {
   "cell_type": "code",
   "execution_count": null,
   "metadata": {},
   "outputs": [],
   "source": []
  },
  {
   "cell_type": "markdown",
   "metadata": {},
   "source": [
    "# Edge meta/weight"
   ]
  },
  {
   "cell_type": "code",
   "execution_count": 49,
   "metadata": {},
   "outputs": [],
   "source": [
    "for key in networks.keys():\n",
    "    for edge in list(networks[key].edges):\n",
    "        networks[key].edges[edge]['weights'] = {}\n",
    "        for co_located, date_groups in networks[key].edges[edge]['coLocated'].items():\n",
    "            networks[key].edges[edge]['weights']['dateGroups'] = len(date_groups)\n",
    "        networks[key].edges[edge]['weights']['venues'] = len(networks[key].edges[edge]['coLocated'])"
   ]
  },
  {
   "cell_type": "markdown",
   "metadata": {},
   "source": [
    "# Node meta/comments"
   ]
  },
  {
   "cell_type": "markdown",
   "metadata": {},
   "source": [
    "## Set up functions for getting node meta information\n",
    "\n",
    "Node meta information = things like comments, images, etc"
   ]
  },
  {
   "cell_type": "code",
   "execution_count": 50,
   "metadata": {},
   "outputs": [],
   "source": [
    "def get_meta_data(df, category=None):\n",
    "    meta_data = {\n",
    "        'performers': {},\n",
    "        'venues': {},\n",
    "        'cities': {},\n",
    "        'revues': {}\n",
    "    }\n",
    "\n",
    "    MAP = {\n",
    "        'performers': {\n",
    "            'cleaned_row_name': 'Performer',\n",
    "            'MAPPING': {\n",
    "                'comments': 'Comment on node: performer',\n",
    "                'legal_names': 'Legal name',\n",
    "                'alleged_ages': 'Alleged age',\n",
    "                'assumed_birth_years': 'Assumed birth year',\n",
    "                'images': 'Has image',\n",
    "                'exotic_dancer': 'Exotic/erotic/oriental dancer/Gypsy',\n",
    "                'fan_dancer': 'Fan dancer/Sally Rand',\n",
    "                'blackface': 'Blackface',\n",
    "                'sepia': 'Sepia',\n",
    "            }\n",
    "        },\n",
    "        'cities': {\n",
    "            'cleaned_row_name': 'City',\n",
    "            'MAPPING': {\n",
    "                'comments': 'Comment on node: city'\n",
    "            }\n",
    "        },\n",
    "        'venues': {\n",
    "            'cleaned_row_name': 'Venue',\n",
    "            'MAPPING': {\n",
    "                'comments': 'Comment on node: venue'\n",
    "            }\n",
    "        },\n",
    "        'revues': {\n",
    "            'cleaned_row_name': 'Revue',\n",
    "            'MAPPING': {\n",
    "                'comments': 'Comment on edge: revue'\n",
    "            }\n",
    "        }\n",
    "    }\n",
    "    \n",
    "    ### No need to change anything below\n",
    "\n",
    "    for meta_data_category, d in MAP.items():\n",
    "        if category and not meta_data_category == category:\n",
    "            continue\n",
    "        \n",
    "        log(f'Fetching node meta information for {meta_data_category}...')\n",
    "        for ix, row in df.iterrows():\n",
    "            if not row[d['cleaned_row_name']] in meta_data[meta_data_category]:\n",
    "                meta_data[meta_data_category][row[d['cleaned_row_name']]] = {}\n",
    "\n",
    "            for key, column_name in d['MAPPING'].items():\n",
    "                if not key in meta_data[meta_data_category][row[d['cleaned_row_name']]]:\n",
    "                    meta_data[meta_data_category][row[d['cleaned_row_name']]][key] = []\n",
    "\n",
    "                if row[column_name]:\n",
    "                    source = row['Source']\n",
    "                    content = row[column_name]\n",
    "                    if isinstance(content, str) and content.lower() == 'true':\n",
    "                        content = True\n",
    "\n",
    "                    meta_data[meta_data_category][row[d['cleaned_row_name']]][key].append({\n",
    "                        'source': source,\n",
    "                        'content': content\n",
    "                    })\n",
    "    \n",
    "    return meta_data\n",
    "\n",
    "def get_meta(df=None, category=None):\n",
    "    if not isinstance(df, pd.DataFrame):\n",
    "        log('Building new clean data for node meta information...')\n",
    "        df = get_raw_data(verbose=False)\n",
    "        df = filter_data(df, max_date=None, min_date=None, verbose=False)\n",
    "        df = clean_data(df, drop_cols=['Venue'], verbose=False)\n",
    "    \n",
    "    all_meta = get_meta_data(df, category=category)\n",
    "    \n",
    "    if not category:\n",
    "        return all_meta\n",
    "    \n",
    "    return all_meta[category]"
   ]
  },
  {
   "cell_type": "markdown",
   "metadata": {},
   "source": [
    "## Get  node meta data from sheet\n",
    "\n",
    "`node_meta` fetches the information, then we loop through each network and add the meta data to each node."
   ]
  },
  {
   "cell_type": "code",
   "execution_count": 51,
   "metadata": {},
   "outputs": [
    {
     "data": {
      "text/markdown": [
       "<font color=\"green\">[18:33:25] Building new clean data for node meta information...</font>"
      ],
      "text/plain": [
       "<IPython.core.display.Markdown object>"
      ]
     },
     "metadata": {},
     "output_type": "display_data"
    },
    {
     "data": {
      "text/markdown": [
       "<font color=\"green\">[18:33:28] Fetching node meta information for performers...</font>"
      ],
      "text/plain": [
       "<IPython.core.display.Markdown object>"
      ]
     },
     "metadata": {},
     "output_type": "display_data"
    },
    {
     "data": {
      "text/markdown": [
       "<font color=\"green\">[18:33:30] Fetching node meta information for cities...</font>"
      ],
      "text/plain": [
       "<IPython.core.display.Markdown object>"
      ]
     },
     "metadata": {},
     "output_type": "display_data"
    },
    {
     "data": {
      "text/markdown": [
       "<font color=\"green\">[18:33:30] Fetching node meta information for venues...</font>"
      ],
      "text/plain": [
       "<IPython.core.display.Markdown object>"
      ]
     },
     "metadata": {},
     "output_type": "display_data"
    },
    {
     "data": {
      "text/markdown": [
       "<font color=\"green\">[18:33:31] Fetching node meta information for revues...</font>"
      ],
      "text/plain": [
       "<IPython.core.display.Markdown object>"
      ]
     },
     "metadata": {},
     "output_type": "display_data"
    }
   ],
   "source": [
    "all_meta = get_meta()\n",
    "metadata['content'] = all_meta # adding all the meta data for nodes and edges to metadata['content']"
   ]
  },
  {
   "cell_type": "markdown",
   "metadata": {},
   "source": [
    "## Add manual meta information to each network's nodes"
   ]
  },
  {
   "cell_type": "code",
   "execution_count": 52,
   "metadata": {},
   "outputs": [
    {
     "data": {
      "text/markdown": [
       "<font color=\"green\">[18:33:32] Finished setting meta information about performers on all 12 networks.</font>"
      ],
      "text/plain": [
       "<IPython.core.display.Markdown object>"
      ]
     },
     "metadata": {},
     "output_type": "display_data"
    }
   ],
   "source": [
    "for key in networks.keys():\n",
    "    nx.set_node_attributes(networks[key], all_meta['performers'])\n",
    "    \n",
    "log(f'Finished setting meta information about performers on all {len(networks)} networks.')"
   ]
  },
  {
   "cell_type": "markdown",
   "metadata": {},
   "source": [
    "## Get automatic network meta information per node"
   ]
  },
  {
   "cell_type": "markdown",
   "metadata": {},
   "source": [
    "### Set up functions"
   ]
  },
  {
   "cell_type": "code",
   "execution_count": 53,
   "metadata": {},
   "outputs": [],
   "source": [
    "def get_connected_nodes_per_node(G):\n",
    "    return {node: sorted(nx.bfs_tree(G, node, reverse=False).nodes) for node in G.nodes}\n",
    "\n",
    "def get_unique_networks(connected_nodes_per_node):\n",
    "    if isinstance(connected_nodes_per_node, dict):\n",
    "        pass # fine!\n",
    "    elif isinstance(connected_nodes_per_node, nx.classes.graph.Graph):\n",
    "        connected_nodes_per_node = get_connected_nodes_per_node(connected_nodes_per_node)\n",
    "    else:\n",
    "        raise RuntimeError('connected_nodes_per_node provided must be either a dictionary of nodes connected together or a networkx Graph object.')\n",
    "        \n",
    "    unique_networks = []\n",
    "    for network in list(connected_nodes_per_node.values()):\n",
    "        if not network in unique_networks:\n",
    "            unique_networks.append(network)\n",
    "    return unique_networks"
   ]
  },
  {
   "cell_type": "markdown",
   "metadata": {},
   "source": [
    "### Add data to each network's nodes"
   ]
  },
  {
   "cell_type": "code",
   "execution_count": 54,
   "metadata": {},
   "outputs": [
    {
     "data": {
      "text/markdown": [
       "<font color=\"green\">[18:33:35] Adding connected network data for network `grouped-by-3-days` (15 unique networks found)...</font>"
      ],
      "text/plain": [
       "<IPython.core.display.Markdown object>"
      ]
     },
     "metadata": {},
     "output_type": "display_data"
    },
    {
     "data": {
      "text/markdown": [
       "<font color=\"green\">[18:33:40] Adding connected network data for network `grouped-by-3-days-no-unnamed-performers` (11 unique networks found)...</font>"
      ],
      "text/plain": [
       "<IPython.core.display.Markdown object>"
      ]
     },
     "metadata": {},
     "output_type": "display_data"
    },
    {
     "data": {
      "text/markdown": [
       "<font color=\"green\">[18:33:44] Adding connected network data for network `grouped-by-14-days` (16 unique networks found)...</font>"
      ],
      "text/plain": [
       "<IPython.core.display.Markdown object>"
      ]
     },
     "metadata": {},
     "output_type": "display_data"
    },
    {
     "data": {
      "text/markdown": [
       "<font color=\"green\">[18:33:50] Adding connected network data for network `grouped-by-14-days-no-unnamed-performers` (12 unique networks found)...</font>"
      ],
      "text/plain": [
       "<IPython.core.display.Markdown object>"
      ]
     },
     "metadata": {},
     "output_type": "display_data"
    },
    {
     "data": {
      "text/markdown": [
       "<font color=\"green\">[18:33:54] Adding connected network data for network `grouped-by-31-days` (15 unique networks found)...</font>"
      ],
      "text/plain": [
       "<IPython.core.display.Markdown object>"
      ]
     },
     "metadata": {},
     "output_type": "display_data"
    },
    {
     "data": {
      "text/markdown": [
       "<font color=\"green\">[18:34:00] Adding connected network data for network `grouped-by-31-days-no-unnamed-performers` (11 unique networks found)...</font>"
      ],
      "text/plain": [
       "<IPython.core.display.Markdown object>"
      ]
     },
     "metadata": {},
     "output_type": "display_data"
    },
    {
     "data": {
      "text/markdown": [
       "<font color=\"green\">[18:34:03] Adding connected network data for network `grouped-by-93-days` (14 unique networks found)...</font>"
      ],
      "text/plain": [
       "<IPython.core.display.Markdown object>"
      ]
     },
     "metadata": {},
     "output_type": "display_data"
    },
    {
     "data": {
      "text/markdown": [
       "<font color=\"green\">[18:34:10] Adding connected network data for network `grouped-by-93-days-no-unnamed-performers` (10 unique networks found)...</font>"
      ],
      "text/plain": [
       "<IPython.core.display.Markdown object>"
      ]
     },
     "metadata": {},
     "output_type": "display_data"
    },
    {
     "data": {
      "text/markdown": [
       "<font color=\"green\">[18:34:14] Adding connected network data for network `grouped-by-186-days` (14 unique networks found)...</font>"
      ],
      "text/plain": [
       "<IPython.core.display.Markdown object>"
      ]
     },
     "metadata": {},
     "output_type": "display_data"
    },
    {
     "data": {
      "text/markdown": [
       "<font color=\"green\">[18:34:20] Adding connected network data for network `grouped-by-186-days-no-unnamed-performers` (10 unique networks found)...</font>"
      ],
      "text/plain": [
       "<IPython.core.display.Markdown object>"
      ]
     },
     "metadata": {},
     "output_type": "display_data"
    },
    {
     "data": {
      "text/markdown": [
       "<font color=\"green\">[18:34:25] Adding connected network data for network `grouped-by-365-days` (12 unique networks found)...</font>"
      ],
      "text/plain": [
       "<IPython.core.display.Markdown object>"
      ]
     },
     "metadata": {},
     "output_type": "display_data"
    },
    {
     "data": {
      "text/markdown": [
       "<font color=\"green\">[18:34:32] Adding connected network data for network `grouped-by-365-days-no-unnamed-performers` (9 unique networks found)...</font>"
      ],
      "text/plain": [
       "<IPython.core.display.Markdown object>"
      ]
     },
     "metadata": {},
     "output_type": "display_data"
    }
   ],
   "source": [
    "for key in networks.keys():\n",
    "    unique_networks = get_unique_networks(networks[key])\n",
    "    log(f'Adding connected network data for network `{key}` ({len(unique_networks)} unique networks found)...')\n",
    "\n",
    "    for network_id, unique_network in enumerate(unique_networks, start=1):\n",
    "        for performer in unique_network:\n",
    "            networks[key].nodes[performer]['connected'] = {\n",
    "                'network': {\n",
    "                    'nodes': [x for x in unique_network if not x == performer],\n",
    "                    'network_id': network_id\n",
    "                }\n",
    "            }"
   ]
  },
  {
   "cell_type": "markdown",
   "metadata": {},
   "source": [
    "## Get communities per node"
   ]
  },
  {
   "cell_type": "markdown",
   "metadata": {},
   "source": [
    "### Set up custom functions"
   ]
  },
  {
   "cell_type": "code",
   "execution_count": 55,
   "metadata": {},
   "outputs": [],
   "source": [
    "def merge_community_dicts(*args):\n",
    "    _ = {}\n",
    "    for dictionary in args:\n",
    "        for performer, data in dictionary.items():\n",
    "            if not performer in _:\n",
    "                _[performer] = {}\n",
    "            for key, value in data.items():\n",
    "                if not key in _[performer]:\n",
    "                    if isinstance(value, dict):\n",
    "                        _[performer][key] = {}\n",
    "                    else:\n",
    "                        raise NotImplemented('Nope')\n",
    "                for key2, value2 in value.items():\n",
    "                    if not key2 in _[performer][key]:\n",
    "                        _[performer][key][key2] = value2\n",
    "                    else:\n",
    "                        raise NotImplemented('This should not happen')\n",
    "\n",
    "    return _"
   ]
  },
  {
   "cell_type": "markdown",
   "metadata": {},
   "source": [
    "### Set up dictionaries with all the community information"
   ]
  },
  {
   "cell_type": "code",
   "execution_count": 56,
   "metadata": {},
   "outputs": [
    {
     "data": {
      "text/markdown": [
       "<font color=\"green\">[18:34:32] Setting community data on nodes in network grouped-by-3-days...</font>"
      ],
      "text/plain": [
       "<IPython.core.display.Markdown object>"
      ]
     },
     "metadata": {},
     "output_type": "display_data"
    },
    {
     "data": {
      "text/markdown": [
       "<font color=\"green\">[18:34:33] Setting community data on nodes in network grouped-by-3-days-no-unnamed-performers...</font>"
      ],
      "text/plain": [
       "<IPython.core.display.Markdown object>"
      ]
     },
     "metadata": {},
     "output_type": "display_data"
    },
    {
     "data": {
      "text/markdown": [
       "<font color=\"green\">[18:34:34] Setting community data on nodes in network grouped-by-14-days...</font>"
      ],
      "text/plain": [
       "<IPython.core.display.Markdown object>"
      ]
     },
     "metadata": {},
     "output_type": "display_data"
    },
    {
     "data": {
      "text/markdown": [
       "<font color=\"green\">[18:34:35] Setting community data on nodes in network grouped-by-14-days-no-unnamed-performers...</font>"
      ],
      "text/plain": [
       "<IPython.core.display.Markdown object>"
      ]
     },
     "metadata": {},
     "output_type": "display_data"
    },
    {
     "data": {
      "text/markdown": [
       "<font color=\"green\">[18:34:37] Setting community data on nodes in network grouped-by-31-days...</font>"
      ],
      "text/plain": [
       "<IPython.core.display.Markdown object>"
      ]
     },
     "metadata": {},
     "output_type": "display_data"
    },
    {
     "data": {
      "text/markdown": [
       "<font color=\"green\">[18:34:39] Setting community data on nodes in network grouped-by-31-days-no-unnamed-performers...</font>"
      ],
      "text/plain": [
       "<IPython.core.display.Markdown object>"
      ]
     },
     "metadata": {},
     "output_type": "display_data"
    },
    {
     "data": {
      "text/markdown": [
       "<font color=\"green\">[18:34:40] Setting community data on nodes in network grouped-by-93-days...</font>"
      ],
      "text/plain": [
       "<IPython.core.display.Markdown object>"
      ]
     },
     "metadata": {},
     "output_type": "display_data"
    },
    {
     "data": {
      "text/markdown": [
       "<font color=\"green\">[18:34:41] Setting community data on nodes in network grouped-by-93-days-no-unnamed-performers...</font>"
      ],
      "text/plain": [
       "<IPython.core.display.Markdown object>"
      ]
     },
     "metadata": {},
     "output_type": "display_data"
    },
    {
     "data": {
      "text/markdown": [
       "<font color=\"green\">[18:34:41] Setting community data on nodes in network grouped-by-186-days...</font>"
      ],
      "text/plain": [
       "<IPython.core.display.Markdown object>"
      ]
     },
     "metadata": {},
     "output_type": "display_data"
    },
    {
     "data": {
      "text/markdown": [
       "<font color=\"green\">[18:34:43] Setting community data on nodes in network grouped-by-186-days-no-unnamed-performers...</font>"
      ],
      "text/plain": [
       "<IPython.core.display.Markdown object>"
      ]
     },
     "metadata": {},
     "output_type": "display_data"
    },
    {
     "data": {
      "text/markdown": [
       "<font color=\"green\">[18:34:44] Setting community data on nodes in network grouped-by-365-days...</font>"
      ],
      "text/plain": [
       "<IPython.core.display.Markdown object>"
      ]
     },
     "metadata": {},
     "output_type": "display_data"
    },
    {
     "data": {
      "text/markdown": [
       "<font color=\"green\">[18:34:46] Setting community data on nodes in network grouped-by-365-days-no-unnamed-performers...</font>"
      ],
      "text/plain": [
       "<IPython.core.display.Markdown object>"
      ]
     },
     "metadata": {},
     "output_type": "display_data"
    }
   ],
   "source": [
    "for key in networks.keys():\n",
    "    log(f'Setting community data on nodes in network {key}...')\n",
    "    \n",
    "    # Run Louvain algorithm\n",
    "    louvain = community_louvain.best_partition(networks[key])\n",
    "    louvain = {performer: {'modularities': {'Louvain': community_number}} for performer, community_number in louvain.items()}\n",
    "    \n",
    "    # Run Clauset Newman Moore algorithm\n",
    "    c = nx.community.greedy_modularity_communities(networks[key])\n",
    "    clauset_newman_moore = {performer: {'modularities': {'Clauset-Newman-Moore': community_number}} for community_number, list_of_performers in enumerate(c, start=1) for performer in list_of_performers}\n",
    "    \n",
    "    # Run Girvan Newman algorithm\n",
    "    '''\n",
    "    # TODO: This won't work\n",
    "    gn = nx.community.girvan_newman(networks[key])\n",
    "    first_girvan_newman_iteration = next(gn)\n",
    "    girvan_newman_groups = {group: names for group, names in enumerate([list(x) for x in first_girvan_newman_iteration], start=1)}\n",
    "    '''\n",
    "    \n",
    "    community_dicts = merge_community_dicts(louvain, clauset_newman_moore)\n",
    "\n",
    "    nx.set_node_attributes(networks[key], community_dicts)"
   ]
  },
  {
   "cell_type": "markdown",
   "metadata": {},
   "source": [
    "## Set centrality data per node"
   ]
  },
  {
   "cell_type": "code",
   "execution_count": 57,
   "metadata": {},
   "outputs": [
    {
     "data": {
      "text/markdown": [
       "<font color=\"green\">[18:34:47] Setting centrality data on nodes in network grouped-by-3-days...</font>"
      ],
      "text/plain": [
       "<IPython.core.display.Markdown object>"
      ]
     },
     "metadata": {},
     "output_type": "display_data"
    },
    {
     "data": {
      "text/markdown": [
       "<font color=\"green\">[18:34:47]  --> `degree_centrality`</font>"
      ],
      "text/plain": [
       "<IPython.core.display.Markdown object>"
      ]
     },
     "metadata": {},
     "output_type": "display_data"
    },
    {
     "data": {
      "text/markdown": [
       "<font color=\"green\">[18:34:47]  --> `betweenness_centrality`</font>"
      ],
      "text/plain": [
       "<IPython.core.display.Markdown object>"
      ]
     },
     "metadata": {},
     "output_type": "display_data"
    },
    {
     "data": {
      "text/markdown": [
       "<font color=\"green\">[18:34:50]  --> `eigenvector_centrality`</font>"
      ],
      "text/plain": [
       "<IPython.core.display.Markdown object>"
      ]
     },
     "metadata": {},
     "output_type": "display_data"
    },
    {
     "data": {
      "text/markdown": [
       "<font color=\"green\">[18:34:50]  --> `katz_centrality`</font>"
      ],
      "text/plain": [
       "<IPython.core.display.Markdown object>"
      ]
     },
     "metadata": {},
     "output_type": "display_data"
    },
    {
     "data": {
      "text/markdown": [
       "<font color=\"green\">[18:34:50]  --> `closeness_centrality`</font>"
      ],
      "text/plain": [
       "<IPython.core.display.Markdown object>"
      ]
     },
     "metadata": {},
     "output_type": "display_data"
    },
    {
     "data": {
      "text/markdown": [
       "<font color=\"green\">[18:34:52] Setting centrality data on nodes in network grouped-by-3-days-no-unnamed-performers...</font>"
      ],
      "text/plain": [
       "<IPython.core.display.Markdown object>"
      ]
     },
     "metadata": {},
     "output_type": "display_data"
    },
    {
     "data": {
      "text/markdown": [
       "<font color=\"green\">[18:34:52]  --> `degree_centrality`</font>"
      ],
      "text/plain": [
       "<IPython.core.display.Markdown object>"
      ]
     },
     "metadata": {},
     "output_type": "display_data"
    },
    {
     "data": {
      "text/markdown": [
       "<font color=\"green\">[18:34:52]  --> `betweenness_centrality`</font>"
      ],
      "text/plain": [
       "<IPython.core.display.Markdown object>"
      ]
     },
     "metadata": {},
     "output_type": "display_data"
    },
    {
     "data": {
      "text/markdown": [
       "<font color=\"green\">[18:35:00]  --> `eigenvector_centrality`</font>"
      ],
      "text/plain": [
       "<IPython.core.display.Markdown object>"
      ]
     },
     "metadata": {},
     "output_type": "display_data"
    },
    {
     "data": {
      "text/markdown": [
       "<font color=\"green\">[18:35:05]  --> `katz_centrality`</font>"
      ],
      "text/plain": [
       "<IPython.core.display.Markdown object>"
      ]
     },
     "metadata": {},
     "output_type": "display_data"
    },
    {
     "data": {
      "text/markdown": [
       "<font color=\"green\">[18:35:05]  --> `closeness_centrality`</font>"
      ],
      "text/plain": [
       "<IPython.core.display.Markdown object>"
      ]
     },
     "metadata": {},
     "output_type": "display_data"
    },
    {
     "data": {
      "text/markdown": [
       "<font color=\"green\">[18:35:10] Setting centrality data on nodes in network grouped-by-14-days...</font>"
      ],
      "text/plain": [
       "<IPython.core.display.Markdown object>"
      ]
     },
     "metadata": {},
     "output_type": "display_data"
    },
    {
     "data": {
      "text/markdown": [
       "<font color=\"green\">[18:35:10]  --> `degree_centrality`</font>"
      ],
      "text/plain": [
       "<IPython.core.display.Markdown object>"
      ]
     },
     "metadata": {},
     "output_type": "display_data"
    },
    {
     "data": {
      "text/markdown": [
       "<font color=\"green\">[18:35:10]  --> `betweenness_centrality`</font>"
      ],
      "text/plain": [
       "<IPython.core.display.Markdown object>"
      ]
     },
     "metadata": {},
     "output_type": "display_data"
    },
    {
     "data": {
      "text/markdown": [
       "<font color=\"green\">[18:35:16]  --> `eigenvector_centrality`</font>"
      ],
      "text/plain": [
       "<IPython.core.display.Markdown object>"
      ]
     },
     "metadata": {},
     "output_type": "display_data"
    },
    {
     "data": {
      "text/markdown": [
       "<font color=\"green\">[18:35:17]  --> `katz_centrality`</font>"
      ],
      "text/plain": [
       "<IPython.core.display.Markdown object>"
      ]
     },
     "metadata": {},
     "output_type": "display_data"
    },
    {
     "data": {
      "text/markdown": [
       "<font color=\"green\">[18:35:17]  --> `closeness_centrality`</font>"
      ],
      "text/plain": [
       "<IPython.core.display.Markdown object>"
      ]
     },
     "metadata": {},
     "output_type": "display_data"
    },
    {
     "data": {
      "text/markdown": [
       "<font color=\"green\">[18:35:18] Setting centrality data on nodes in network grouped-by-14-days-no-unnamed-performers...</font>"
      ],
      "text/plain": [
       "<IPython.core.display.Markdown object>"
      ]
     },
     "metadata": {},
     "output_type": "display_data"
    },
    {
     "data": {
      "text/markdown": [
       "<font color=\"green\">[18:35:18]  --> `degree_centrality`</font>"
      ],
      "text/plain": [
       "<IPython.core.display.Markdown object>"
      ]
     },
     "metadata": {},
     "output_type": "display_data"
    },
    {
     "data": {
      "text/markdown": [
       "<font color=\"green\">[18:35:18]  --> `betweenness_centrality`</font>"
      ],
      "text/plain": [
       "<IPython.core.display.Markdown object>"
      ]
     },
     "metadata": {},
     "output_type": "display_data"
    },
    {
     "data": {
      "text/markdown": [
       "<font color=\"green\">[18:35:24]  --> `eigenvector_centrality`</font>"
      ],
      "text/plain": [
       "<IPython.core.display.Markdown object>"
      ]
     },
     "metadata": {},
     "output_type": "display_data"
    },
    {
     "data": {
      "text/markdown": [
       "<font color=\"green\">[18:35:26]  --> `katz_centrality`</font>"
      ],
      "text/plain": [
       "<IPython.core.display.Markdown object>"
      ]
     },
     "metadata": {},
     "output_type": "display_data"
    },
    {
     "data": {
      "text/markdown": [
       "<font color=\"green\">[18:35:26]  --> `closeness_centrality`</font>"
      ],
      "text/plain": [
       "<IPython.core.display.Markdown object>"
      ]
     },
     "metadata": {},
     "output_type": "display_data"
    },
    {
     "data": {
      "text/markdown": [
       "<font color=\"green\">[18:35:29] Setting centrality data on nodes in network grouped-by-31-days...</font>"
      ],
      "text/plain": [
       "<IPython.core.display.Markdown object>"
      ]
     },
     "metadata": {},
     "output_type": "display_data"
    },
    {
     "data": {
      "text/markdown": [
       "<font color=\"green\">[18:35:29]  --> `degree_centrality`</font>"
      ],
      "text/plain": [
       "<IPython.core.display.Markdown object>"
      ]
     },
     "metadata": {},
     "output_type": "display_data"
    },
    {
     "data": {
      "text/markdown": [
       "<font color=\"green\">[18:35:29]  --> `betweenness_centrality`</font>"
      ],
      "text/plain": [
       "<IPython.core.display.Markdown object>"
      ]
     },
     "metadata": {},
     "output_type": "display_data"
    },
    {
     "data": {
      "text/markdown": [
       "<font color=\"green\">[18:35:34]  --> `eigenvector_centrality`</font>"
      ],
      "text/plain": [
       "<IPython.core.display.Markdown object>"
      ]
     },
     "metadata": {},
     "output_type": "display_data"
    },
    {
     "data": {
      "text/markdown": [
       "<font color=\"green\">[18:35:36]  --> `katz_centrality`</font>"
      ],
      "text/plain": [
       "<IPython.core.display.Markdown object>"
      ]
     },
     "metadata": {},
     "output_type": "display_data"
    },
    {
     "data": {
      "text/markdown": [
       "<font color=\"green\">[18:35:36]  --> `closeness_centrality`</font>"
      ],
      "text/plain": [
       "<IPython.core.display.Markdown object>"
      ]
     },
     "metadata": {},
     "output_type": "display_data"
    },
    {
     "data": {
      "text/markdown": [
       "<font color=\"green\">[18:35:37] Setting centrality data on nodes in network grouped-by-31-days-no-unnamed-performers...</font>"
      ],
      "text/plain": [
       "<IPython.core.display.Markdown object>"
      ]
     },
     "metadata": {},
     "output_type": "display_data"
    },
    {
     "data": {
      "text/markdown": [
       "<font color=\"green\">[18:35:37]  --> `degree_centrality`</font>"
      ],
      "text/plain": [
       "<IPython.core.display.Markdown object>"
      ]
     },
     "metadata": {},
     "output_type": "display_data"
    },
    {
     "data": {
      "text/markdown": [
       "<font color=\"green\">[18:35:37]  --> `betweenness_centrality`</font>"
      ],
      "text/plain": [
       "<IPython.core.display.Markdown object>"
      ]
     },
     "metadata": {},
     "output_type": "display_data"
    },
    {
     "data": {
      "text/markdown": [
       "<font color=\"green\">[18:35:43]  --> `eigenvector_centrality`</font>"
      ],
      "text/plain": [
       "<IPython.core.display.Markdown object>"
      ]
     },
     "metadata": {},
     "output_type": "display_data"
    },
    {
     "data": {
      "text/markdown": [
       "<font color=\"green\">[18:35:44]  --> `katz_centrality`</font>"
      ],
      "text/plain": [
       "<IPython.core.display.Markdown object>"
      ]
     },
     "metadata": {},
     "output_type": "display_data"
    },
    {
     "data": {
      "text/markdown": [
       "<font color=\"green\">[18:35:44]  --> `closeness_centrality`</font>"
      ],
      "text/plain": [
       "<IPython.core.display.Markdown object>"
      ]
     },
     "metadata": {},
     "output_type": "display_data"
    },
    {
     "data": {
      "text/markdown": [
       "<font color=\"green\">[18:35:48] Setting centrality data on nodes in network grouped-by-93-days...</font>"
      ],
      "text/plain": [
       "<IPython.core.display.Markdown object>"
      ]
     },
     "metadata": {},
     "output_type": "display_data"
    },
    {
     "data": {
      "text/markdown": [
       "<font color=\"green\">[18:35:48]  --> `degree_centrality`</font>"
      ],
      "text/plain": [
       "<IPython.core.display.Markdown object>"
      ]
     },
     "metadata": {},
     "output_type": "display_data"
    },
    {
     "data": {
      "text/markdown": [
       "<font color=\"green\">[18:35:48]  --> `betweenness_centrality`</font>"
      ],
      "text/plain": [
       "<IPython.core.display.Markdown object>"
      ]
     },
     "metadata": {},
     "output_type": "display_data"
    },
    {
     "data": {
      "text/markdown": [
       "<font color=\"green\">[18:35:52]  --> `eigenvector_centrality`</font>"
      ],
      "text/plain": [
       "<IPython.core.display.Markdown object>"
      ]
     },
     "metadata": {},
     "output_type": "display_data"
    },
    {
     "data": {
      "text/markdown": [
       "<font color=\"green\">[18:35:54]  --> `katz_centrality`</font>"
      ],
      "text/plain": [
       "<IPython.core.display.Markdown object>"
      ]
     },
     "metadata": {},
     "output_type": "display_data"
    },
    {
     "data": {
      "text/markdown": [
       "<font color=\"green\">[18:35:54]  --> `closeness_centrality`</font>"
      ],
      "text/plain": [
       "<IPython.core.display.Markdown object>"
      ]
     },
     "metadata": {},
     "output_type": "display_data"
    },
    {
     "data": {
      "text/markdown": [
       "<font color=\"green\">[18:35:55] Setting centrality data on nodes in network grouped-by-93-days-no-unnamed-performers...</font>"
      ],
      "text/plain": [
       "<IPython.core.display.Markdown object>"
      ]
     },
     "metadata": {},
     "output_type": "display_data"
    },
    {
     "data": {
      "text/markdown": [
       "<font color=\"green\">[18:35:55]  --> `degree_centrality`</font>"
      ],
      "text/plain": [
       "<IPython.core.display.Markdown object>"
      ]
     },
     "metadata": {},
     "output_type": "display_data"
    },
    {
     "data": {
      "text/markdown": [
       "<font color=\"green\">[18:35:55]  --> `betweenness_centrality`</font>"
      ],
      "text/plain": [
       "<IPython.core.display.Markdown object>"
      ]
     },
     "metadata": {},
     "output_type": "display_data"
    },
    {
     "data": {
      "text/markdown": [
       "<font color=\"green\">[18:36:01]  --> `eigenvector_centrality`</font>"
      ],
      "text/plain": [
       "<IPython.core.display.Markdown object>"
      ]
     },
     "metadata": {},
     "output_type": "display_data"
    },
    {
     "data": {
      "text/markdown": [
       "<font color=\"green\">[18:36:01]  --> `katz_centrality`</font>"
      ],
      "text/plain": [
       "<IPython.core.display.Markdown object>"
      ]
     },
     "metadata": {},
     "output_type": "display_data"
    },
    {
     "data": {
      "text/markdown": [
       "<font color=\"green\">[18:36:01]  --> `closeness_centrality`</font>"
      ],
      "text/plain": [
       "<IPython.core.display.Markdown object>"
      ]
     },
     "metadata": {},
     "output_type": "display_data"
    },
    {
     "data": {
      "text/markdown": [
       "<font color=\"green\">[18:36:06] Setting centrality data on nodes in network grouped-by-186-days...</font>"
      ],
      "text/plain": [
       "<IPython.core.display.Markdown object>"
      ]
     },
     "metadata": {},
     "output_type": "display_data"
    },
    {
     "data": {
      "text/markdown": [
       "<font color=\"green\">[18:36:06]  --> `degree_centrality`</font>"
      ],
      "text/plain": [
       "<IPython.core.display.Markdown object>"
      ]
     },
     "metadata": {},
     "output_type": "display_data"
    },
    {
     "data": {
      "text/markdown": [
       "<font color=\"green\">[18:36:06]  --> `betweenness_centrality`</font>"
      ],
      "text/plain": [
       "<IPython.core.display.Markdown object>"
      ]
     },
     "metadata": {},
     "output_type": "display_data"
    },
    {
     "data": {
      "text/markdown": [
       "<font color=\"green\">[18:36:11]  --> `eigenvector_centrality`</font>"
      ],
      "text/plain": [
       "<IPython.core.display.Markdown object>"
      ]
     },
     "metadata": {},
     "output_type": "display_data"
    },
    {
     "data": {
      "text/markdown": [
       "<font color=\"green\">[18:36:13]  --> `katz_centrality`</font>"
      ],
      "text/plain": [
       "<IPython.core.display.Markdown object>"
      ]
     },
     "metadata": {},
     "output_type": "display_data"
    },
    {
     "data": {
      "text/markdown": [
       "<font color=\"green\">[18:36:13]  --> `closeness_centrality`</font>"
      ],
      "text/plain": [
       "<IPython.core.display.Markdown object>"
      ]
     },
     "metadata": {},
     "output_type": "display_data"
    },
    {
     "data": {
      "text/markdown": [
       "<font color=\"green\">[18:36:14] Setting centrality data on nodes in network grouped-by-186-days-no-unnamed-performers...</font>"
      ],
      "text/plain": [
       "<IPython.core.display.Markdown object>"
      ]
     },
     "metadata": {},
     "output_type": "display_data"
    },
    {
     "data": {
      "text/markdown": [
       "<font color=\"green\">[18:36:14]  --> `degree_centrality`</font>"
      ],
      "text/plain": [
       "<IPython.core.display.Markdown object>"
      ]
     },
     "metadata": {},
     "output_type": "display_data"
    },
    {
     "data": {
      "text/markdown": [
       "<font color=\"green\">[18:36:14]  --> `betweenness_centrality`</font>"
      ],
      "text/plain": [
       "<IPython.core.display.Markdown object>"
      ]
     },
     "metadata": {},
     "output_type": "display_data"
    },
    {
     "data": {
      "text/markdown": [
       "<font color=\"green\">[18:36:20]  --> `eigenvector_centrality`</font>"
      ],
      "text/plain": [
       "<IPython.core.display.Markdown object>"
      ]
     },
     "metadata": {},
     "output_type": "display_data"
    },
    {
     "data": {
      "text/markdown": [
       "<font color=\"green\">[18:36:21]  --> `katz_centrality`</font>"
      ],
      "text/plain": [
       "<IPython.core.display.Markdown object>"
      ]
     },
     "metadata": {},
     "output_type": "display_data"
    },
    {
     "data": {
      "text/markdown": [
       "<font color=\"green\">[18:36:21]  --> `closeness_centrality`</font>"
      ],
      "text/plain": [
       "<IPython.core.display.Markdown object>"
      ]
     },
     "metadata": {},
     "output_type": "display_data"
    },
    {
     "data": {
      "text/markdown": [
       "<font color=\"green\">[18:36:25] Setting centrality data on nodes in network grouped-by-365-days...</font>"
      ],
      "text/plain": [
       "<IPython.core.display.Markdown object>"
      ]
     },
     "metadata": {},
     "output_type": "display_data"
    },
    {
     "data": {
      "text/markdown": [
       "<font color=\"green\">[18:36:25]  --> `degree_centrality`</font>"
      ],
      "text/plain": [
       "<IPython.core.display.Markdown object>"
      ]
     },
     "metadata": {},
     "output_type": "display_data"
    },
    {
     "data": {
      "text/markdown": [
       "<font color=\"green\">[18:36:25]  --> `betweenness_centrality`</font>"
      ],
      "text/plain": [
       "<IPython.core.display.Markdown object>"
      ]
     },
     "metadata": {},
     "output_type": "display_data"
    },
    {
     "data": {
      "text/markdown": [
       "<font color=\"green\">[18:36:30]  --> `eigenvector_centrality`</font>"
      ],
      "text/plain": [
       "<IPython.core.display.Markdown object>"
      ]
     },
     "metadata": {},
     "output_type": "display_data"
    },
    {
     "data": {
      "text/markdown": [
       "<font color=\"green\">[18:36:32]  --> `katz_centrality`</font>"
      ],
      "text/plain": [
       "<IPython.core.display.Markdown object>"
      ]
     },
     "metadata": {},
     "output_type": "display_data"
    },
    {
     "data": {
      "text/markdown": [
       "<font color=\"green\">[18:36:32]  --> `closeness_centrality`</font>"
      ],
      "text/plain": [
       "<IPython.core.display.Markdown object>"
      ]
     },
     "metadata": {},
     "output_type": "display_data"
    },
    {
     "data": {
      "text/markdown": [
       "<font color=\"green\">[18:36:33] Setting centrality data on nodes in network grouped-by-365-days-no-unnamed-performers...</font>"
      ],
      "text/plain": [
       "<IPython.core.display.Markdown object>"
      ]
     },
     "metadata": {},
     "output_type": "display_data"
    },
    {
     "data": {
      "text/markdown": [
       "<font color=\"green\">[18:36:33]  --> `degree_centrality`</font>"
      ],
      "text/plain": [
       "<IPython.core.display.Markdown object>"
      ]
     },
     "metadata": {},
     "output_type": "display_data"
    },
    {
     "data": {
      "text/markdown": [
       "<font color=\"green\">[18:36:33]  --> `betweenness_centrality`</font>"
      ],
      "text/plain": [
       "<IPython.core.display.Markdown object>"
      ]
     },
     "metadata": {},
     "output_type": "display_data"
    },
    {
     "data": {
      "text/markdown": [
       "<font color=\"green\">[18:36:39]  --> `eigenvector_centrality`</font>"
      ],
      "text/plain": [
       "<IPython.core.display.Markdown object>"
      ]
     },
     "metadata": {},
     "output_type": "display_data"
    },
    {
     "data": {
      "text/markdown": [
       "<font color=\"green\">[18:36:40]  --> `katz_centrality`</font>"
      ],
      "text/plain": [
       "<IPython.core.display.Markdown object>"
      ]
     },
     "metadata": {},
     "output_type": "display_data"
    },
    {
     "data": {
      "text/markdown": [
       "<font color=\"green\">[18:36:40]  --> `closeness_centrality`</font>"
      ],
      "text/plain": [
       "<IPython.core.display.Markdown object>"
      ]
     },
     "metadata": {},
     "output_type": "display_data"
    }
   ],
   "source": [
    "for key in networks.keys():\n",
    "    log(f'Setting centrality data on nodes in network {key}...')\n",
    "    for performer in networks[key].nodes:\n",
    "        networks[key].nodes[performer]['centralities'] = {}\n",
    "\n",
    "    log(f' --> `degree_centrality`')\n",
    "    for performer, degree in nx.degree_centrality(networks[key]).items():\n",
    "        networks[key].nodes[performer]['centralities']['degree_centrality_100x'] = round(degree*100, 6)\n",
    "\n",
    "    log(f' --> `betweenness_centrality`')\n",
    "    for performer, degree in nx.betweenness_centrality(networks[key], k=len(networks[key].nodes)).items():\n",
    "        networks[key].nodes[performer]['centralities']['betweenness_centrality_100x'] = round(degree*100, 6)\n",
    "\n",
    "    log(f' --> `eigenvector_centrality`')\n",
    "    for performer, degree in nx.eigenvector_centrality(networks[key], max_iter=100, weight='weight').items():\n",
    "        networks[key].nodes[performer]['centralities']['eigenvector_centrality_100x'] = round(degree*100, 6)\n",
    "\n",
    "    # TODO: Katz centrality keeps failing within 1000 iterations :/\n",
    "    log(f' --> `katz_centrality`')\n",
    "    #try:\n",
    "    #    for performer, degree in nx.katz_centrality(networks[key]).items():\n",
    "    #        networks[key].nodes[performer]['centralities']['katz_centrality_100x'] = round(degree*100, 6)\n",
    "    #except nx.exception.PowerIterationFailedConvergence as e:\n",
    "    #    print(f'Katz Centrality failed: {e}')\n",
    "\n",
    "    log(f' --> `closeness_centrality`')\n",
    "    for performer, degree in nx.closeness_centrality(networks[key]).items():\n",
    "        networks[key].nodes[performer]['centralities']['closeness_centrality_100x'] = round(degree*100, 6)"
   ]
  },
  {
   "cell_type": "markdown",
   "metadata": {},
   "source": [
    "## Set degree per node"
   ]
  },
  {
   "cell_type": "markdown",
   "metadata": {},
   "source": [
    "### Set up function"
   ]
  },
  {
   "cell_type": "code",
   "execution_count": 58,
   "metadata": {},
   "outputs": [],
   "source": [
    "def get_degrees(G, node):\n",
    "    indegree = sum([1 for edge in G.edges if edge[0] == node])\n",
    "    outdegree = sum([1 for edge in G.edges if edge[1] == node])\n",
    "    degree = indegree + outdegree\n",
    "    \n",
    "    return {\n",
    "        'indegree': indegree,\n",
    "        'outdegree': outdegree,\n",
    "        'degree': degree\n",
    "    }"
   ]
  },
  {
   "cell_type": "markdown",
   "metadata": {},
   "source": [
    "### Add data to each network's nodes"
   ]
  },
  {
   "cell_type": "code",
   "execution_count": 59,
   "metadata": {},
   "outputs": [
    {
     "data": {
      "text/markdown": [
       "<font color=\"green\">[18:36:45] Setting degree data on 769 nodes in network grouped-by-3-days...</font>"
      ],
      "text/plain": [
       "<IPython.core.display.Markdown object>"
      ]
     },
     "metadata": {},
     "output_type": "display_data"
    },
    {
     "data": {
      "text/markdown": [
       "<font color=\"green\">[18:36:48] Setting degree data on 485 nodes in network grouped-by-3-days-no-unnamed-performers...</font>"
      ],
      "text/plain": [
       "<IPython.core.display.Markdown object>"
      ]
     },
     "metadata": {},
     "output_type": "display_data"
    },
    {
     "data": {
      "text/markdown": [
       "<font color=\"green\">[18:37:03] Setting degree data on 774 nodes in network grouped-by-14-days...</font>"
      ],
      "text/plain": [
       "<IPython.core.display.Markdown object>"
      ]
     },
     "metadata": {},
     "output_type": "display_data"
    },
    {
     "data": {
      "text/markdown": [
       "<font color=\"green\">[18:37:06] Setting degree data on 489 nodes in network grouped-by-14-days-no-unnamed-performers...</font>"
      ],
      "text/plain": [
       "<IPython.core.display.Markdown object>"
      ]
     },
     "metadata": {},
     "output_type": "display_data"
    },
    {
     "data": {
      "text/markdown": [
       "<font color=\"green\">[18:37:23] Setting degree data on 778 nodes in network grouped-by-31-days...</font>"
      ],
      "text/plain": [
       "<IPython.core.display.Markdown object>"
      ]
     },
     "metadata": {},
     "output_type": "display_data"
    },
    {
     "data": {
      "text/markdown": [
       "<font color=\"green\">[18:37:26] Setting degree data on 493 nodes in network grouped-by-31-days-no-unnamed-performers...</font>"
      ],
      "text/plain": [
       "<IPython.core.display.Markdown object>"
      ]
     },
     "metadata": {},
     "output_type": "display_data"
    },
    {
     "data": {
      "text/markdown": [
       "<font color=\"green\">[18:37:46] Setting degree data on 783 nodes in network grouped-by-93-days...</font>"
      ],
      "text/plain": [
       "<IPython.core.display.Markdown object>"
      ]
     },
     "metadata": {},
     "output_type": "display_data"
    },
    {
     "data": {
      "text/markdown": [
       "<font color=\"green\">[18:37:54] Setting degree data on 498 nodes in network grouped-by-93-days-no-unnamed-performers...</font>"
      ],
      "text/plain": [
       "<IPython.core.display.Markdown object>"
      ]
     },
     "metadata": {},
     "output_type": "display_data"
    },
    {
     "data": {
      "text/markdown": [
       "<font color=\"green\">[18:38:17] Setting degree data on 785 nodes in network grouped-by-186-days...</font>"
      ],
      "text/plain": [
       "<IPython.core.display.Markdown object>"
      ]
     },
     "metadata": {},
     "output_type": "display_data"
    },
    {
     "data": {
      "text/markdown": [
       "<font color=\"green\">[18:38:21] Setting degree data on 500 nodes in network grouped-by-186-days-no-unnamed-performers...</font>"
      ],
      "text/plain": [
       "<IPython.core.display.Markdown object>"
      ]
     },
     "metadata": {},
     "output_type": "display_data"
    },
    {
     "data": {
      "text/markdown": [
       "<font color=\"green\">[18:38:45] Setting degree data on 786 nodes in network grouped-by-365-days...</font>"
      ],
      "text/plain": [
       "<IPython.core.display.Markdown object>"
      ]
     },
     "metadata": {},
     "output_type": "display_data"
    },
    {
     "data": {
      "text/markdown": [
       "<font color=\"green\">[18:38:50] Setting degree data on 501 nodes in network grouped-by-365-days-no-unnamed-performers...</font>"
      ],
      "text/plain": [
       "<IPython.core.display.Markdown object>"
      ]
     },
     "metadata": {},
     "output_type": "display_data"
    }
   ],
   "source": [
    "for key in networks.keys():\n",
    "    log(f'Setting degree data on {len(networks[key].nodes)} nodes in network {key}...')\n",
    "    degrees = {node: {'degrees': get_degrees(networks[key], node)} for node in networks[key].nodes}\n",
    "    nx.set_node_attributes(networks[key], degrees)"
   ]
  },
  {
   "cell_type": "markdown",
   "metadata": {},
   "source": [
    "## Add additional node and edge metadata"
   ]
  },
  {
   "cell_type": "code",
   "execution_count": 60,
   "metadata": {},
   "outputs": [],
   "source": [
    "for key, network in networks.items():    \n",
    "    for node in networks[key].nodes:\n",
    "        networks[key].nodes[node]['node_id'] = slugify(node)\n",
    "        networks[key].nodes[node]['category'] = 'performer'\n",
    "        networks[key].nodes[node]['display'] = node\n",
    "    \n",
    "    for edge in networks[key].edges:\n",
    "        networks[key].edges[edge]['edge_id'] = slugify(f'{edge[0]}-{edge[1]}')\n",
    "        networks[key].edges[edge]['comments'] = [] # TODO\n",
    "        networks[key].edges[edge]['general_comments'] = [] # TODO\n",
    "        \n",
    "        # setup 'found' property of edges\n",
    "        networks[key].edges[edge]['found'] = []\n",
    "        for _, dates in networks[key].edges[edge]['coLocated'].items():\n",
    "            for datelist in dates:\n",
    "                for date in datelist:\n",
    "                    if not date in networks[key].edges[edge]['found']:\n",
    "                        networks[key].edges[edge]['found'].append(date)\n",
    "                        \n",
    "        # setup 'comments' for all of the involved venues, cities, revues\n",
    "        networks[key].edges[edge]['comments'] = {\n",
    "            'venues': {},\n",
    "            'cities': {},\n",
    "            'revues': {}\n",
    "        }\n",
    "        \n",
    "    networks[grouped_by].finished = datetime.datetime.now()"
   ]
  },
  {
   "cell_type": "markdown",
   "metadata": {},
   "source": [
    "# Export to JSON data"
   ]
  },
  {
   "cell_type": "code",
   "execution_count": 61,
   "metadata": {},
   "outputs": [
    {
     "data": {
      "text/markdown": [
       "<font color=\"green\">[18:39:24] Saved ./network-app/data/co-occurrence-grouped-by-3-days.json (took 6.18 minutes to generate)</font>"
      ],
      "text/plain": [
       "<IPython.core.display.Markdown object>"
      ]
     },
     "metadata": {},
     "output_type": "display_data"
    },
    {
     "data": {
      "text/markdown": [
       "<font color=\"green\">[18:39:25] Saved ./network-app/data/co-occurrence-grouped-by-3-days-no-unnamed-performers.json (took 6.0 minutes to generate)</font>"
      ],
      "text/plain": [
       "<IPython.core.display.Markdown object>"
      ]
     },
     "metadata": {},
     "output_type": "display_data"
    },
    {
     "data": {
      "text/markdown": [
       "<font color=\"green\">[18:39:26] Saved ./network-app/data/co-occurrence-grouped-by-14-days.json (took 6.22 minutes to generate)</font>"
      ],
      "text/plain": [
       "<IPython.core.display.Markdown object>"
      ]
     },
     "metadata": {},
     "output_type": "display_data"
    },
    {
     "data": {
      "text/markdown": [
       "<font color=\"green\">[18:39:26] Saved ./network-app/data/co-occurrence-grouped-by-14-days-no-unnamed-performers.json (took 6.03 minutes to generate)</font>"
      ],
      "text/plain": [
       "<IPython.core.display.Markdown object>"
      ]
     },
     "metadata": {},
     "output_type": "display_data"
    },
    {
     "data": {
      "text/markdown": [
       "<font color=\"green\">[18:39:28] Saved ./network-app/data/co-occurrence-grouped-by-31-days.json (took 6.25 minutes to generate)</font>"
      ],
      "text/plain": [
       "<IPython.core.display.Markdown object>"
      ]
     },
     "metadata": {},
     "output_type": "display_data"
    },
    {
     "data": {
      "text/markdown": [
       "<font color=\"green\">[18:39:29] Saved ./network-app/data/co-occurrence-grouped-by-31-days-no-unnamed-performers.json (took 6.07 minutes to generate)</font>"
      ],
      "text/plain": [
       "<IPython.core.display.Markdown object>"
      ]
     },
     "metadata": {},
     "output_type": "display_data"
    },
    {
     "data": {
      "text/markdown": [
       "<font color=\"green\">[18:39:30] Saved ./network-app/data/co-occurrence-grouped-by-93-days.json (took 6.28 minutes to generate)</font>"
      ],
      "text/plain": [
       "<IPython.core.display.Markdown object>"
      ]
     },
     "metadata": {},
     "output_type": "display_data"
    },
    {
     "data": {
      "text/markdown": [
       "<font color=\"green\">[18:39:31] Saved ./network-app/data/co-occurrence-grouped-by-93-days-no-unnamed-performers.json (took 6.1 minutes to generate)</font>"
      ],
      "text/plain": [
       "<IPython.core.display.Markdown object>"
      ]
     },
     "metadata": {},
     "output_type": "display_data"
    },
    {
     "data": {
      "text/markdown": [
       "<font color=\"green\">[18:39:33] Saved ./network-app/data/co-occurrence-grouped-by-186-days.json (took 6.32 minutes to generate)</font>"
      ],
      "text/plain": [
       "<IPython.core.display.Markdown object>"
      ]
     },
     "metadata": {},
     "output_type": "display_data"
    },
    {
     "data": {
      "text/markdown": [
       "<font color=\"green\">[18:39:34] Saved ./network-app/data/co-occurrence-grouped-by-186-days-no-unnamed-performers.json (took 6.13 minutes to generate)</font>"
      ],
      "text/plain": [
       "<IPython.core.display.Markdown object>"
      ]
     },
     "metadata": {},
     "output_type": "display_data"
    },
    {
     "data": {
      "text/markdown": [
       "<font color=\"green\">[18:39:35] Saved ./network-app/data/co-occurrence-grouped-by-365-days.json (took 6.37 minutes to generate)</font>"
      ],
      "text/plain": [
       "<IPython.core.display.Markdown object>"
      ]
     },
     "metadata": {},
     "output_type": "display_data"
    },
    {
     "data": {
      "text/markdown": [
       "<font color=\"green\">[18:39:36] Saved ./network-app/data/co-occurrence-grouped-by-365-days-no-unnamed-performers.json (took 6.18 minutes to generate)</font>"
      ],
      "text/plain": [
       "<IPython.core.display.Markdown object>"
      ]
     },
     "metadata": {},
     "output_type": "display_data"
    },
    {
     "data": {
      "text/markdown": [
       "<font color=\"green\">[18:39:37] Saved metadata file.</font>"
      ],
      "text/plain": [
       "<IPython.core.display.Markdown object>"
      ]
     },
     "metadata": {},
     "output_type": "display_data"
    }
   ],
   "source": [
    "for key in networks:\n",
    "    file_name = f'co-occurrence-{key}.json'\n",
    "    \n",
    "    data = nx.node_link_data(networks[key])\n",
    "    data['createdDate'] = datetime.datetime.now().strftime('%Y-%m-%d %H:%M:%S')\n",
    "    diff = datetime.datetime.now() - networks[key].generated\n",
    "    data['timeToCreate'] = {\n",
    "        'minutes': diff.seconds//60,\n",
    "        'seconds': diff.seconds%60,\n",
    "        'totalInSeconds': diff.seconds\n",
    "    }\n",
    "    data['days'] = re.findall(r'\\d+', key)[0]\n",
    "\n",
    "    with open('./network-app/data/'+file_name, 'w+') as fp:\n",
    "        json.dump(obj=data, fp=fp)\n",
    "        log(f'Saved {fp.name} (took {round((data[\"timeToCreate\"][\"totalInSeconds\"]/60), 2)} minutes to generate)')\n",
    "        \n",
    "with open('./network-app/data/co-occurrence-_metadata.json', 'w+') as fp:\n",
    "    json.dump(obj=metadata, fp=fp)\n",
    "    log(f'Saved metadata file.')"
   ]
  },
  {
   "cell_type": "markdown",
   "metadata": {},
   "source": [
    "# Export to other formats (optional)"
   ]
  },
  {
   "cell_type": "markdown",
   "metadata": {},
   "source": [
    "## Gephi\n",
    "\n",
    "The following part of the script removes all the metadata from the graph (which causes trouble with Gephi's file format) and generates \"naked\" network files for each of the co-occurrence graphs."
   ]
  },
  {
   "cell_type": "code",
   "execution_count": 62,
   "metadata": {},
   "outputs": [
    {
     "data": {
      "text/markdown": [
       "<font color=\"green\">[18:39:43] Saved gephi/co-occurrence-grouped-by-3-days.gexf</font>"
      ],
      "text/plain": [
       "<IPython.core.display.Markdown object>"
      ]
     },
     "metadata": {},
     "output_type": "display_data"
    },
    {
     "data": {
      "text/markdown": [
       "<font color=\"green\">[18:39:43] Saved gephi/co-occurrence-grouped-by-3-days-no-unnamed-performers.gexf</font>"
      ],
      "text/plain": [
       "<IPython.core.display.Markdown object>"
      ]
     },
     "metadata": {},
     "output_type": "display_data"
    },
    {
     "data": {
      "text/markdown": [
       "<font color=\"green\">[18:39:44] Saved gephi/co-occurrence-grouped-by-14-days.gexf</font>"
      ],
      "text/plain": [
       "<IPython.core.display.Markdown object>"
      ]
     },
     "metadata": {},
     "output_type": "display_data"
    },
    {
     "data": {
      "text/markdown": [
       "<font color=\"green\">[18:39:44] Saved gephi/co-occurrence-grouped-by-14-days-no-unnamed-performers.gexf</font>"
      ],
      "text/plain": [
       "<IPython.core.display.Markdown object>"
      ]
     },
     "metadata": {},
     "output_type": "display_data"
    },
    {
     "data": {
      "text/markdown": [
       "<font color=\"green\">[18:39:44] Saved gephi/co-occurrence-grouped-by-31-days.gexf</font>"
      ],
      "text/plain": [
       "<IPython.core.display.Markdown object>"
      ]
     },
     "metadata": {},
     "output_type": "display_data"
    },
    {
     "data": {
      "text/markdown": [
       "<font color=\"green\">[18:39:44] Saved gephi/co-occurrence-grouped-by-31-days-no-unnamed-performers.gexf</font>"
      ],
      "text/plain": [
       "<IPython.core.display.Markdown object>"
      ]
     },
     "metadata": {},
     "output_type": "display_data"
    },
    {
     "data": {
      "text/markdown": [
       "<font color=\"green\">[18:39:45] Saved gephi/co-occurrence-grouped-by-93-days.gexf</font>"
      ],
      "text/plain": [
       "<IPython.core.display.Markdown object>"
      ]
     },
     "metadata": {},
     "output_type": "display_data"
    },
    {
     "data": {
      "text/markdown": [
       "<font color=\"green\">[18:39:45] Saved gephi/co-occurrence-grouped-by-93-days-no-unnamed-performers.gexf</font>"
      ],
      "text/plain": [
       "<IPython.core.display.Markdown object>"
      ]
     },
     "metadata": {},
     "output_type": "display_data"
    },
    {
     "data": {
      "text/markdown": [
       "<font color=\"green\">[18:39:45] Saved gephi/co-occurrence-grouped-by-186-days.gexf</font>"
      ],
      "text/plain": [
       "<IPython.core.display.Markdown object>"
      ]
     },
     "metadata": {},
     "output_type": "display_data"
    },
    {
     "data": {
      "text/markdown": [
       "<font color=\"green\">[18:39:46] Saved gephi/co-occurrence-grouped-by-186-days-no-unnamed-performers.gexf</font>"
      ],
      "text/plain": [
       "<IPython.core.display.Markdown object>"
      ]
     },
     "metadata": {},
     "output_type": "display_data"
    },
    {
     "data": {
      "text/markdown": [
       "<font color=\"green\">[18:39:46] Saved gephi/co-occurrence-grouped-by-365-days.gexf</font>"
      ],
      "text/plain": [
       "<IPython.core.display.Markdown object>"
      ]
     },
     "metadata": {},
     "output_type": "display_data"
    },
    {
     "data": {
      "text/markdown": [
       "<font color=\"green\">[18:39:46] Saved gephi/co-occurrence-grouped-by-365-days-no-unnamed-performers.gexf</font>"
      ],
      "text/plain": [
       "<IPython.core.display.Markdown object>"
      ]
     },
     "metadata": {},
     "output_type": "display_data"
    }
   ],
   "source": [
    "gexf_networks = copy.deepcopy(networks)\n",
    "\n",
    "for key in gexf_networks:\n",
    "    for node in gexf_networks[key].nodes:\n",
    "        for k in ['comments', 'legal_names', 'alleged_ages', 'assumed_birth_years', 'images', 'exotic_dancer', 'fan_dancer', 'blackface', 'sepia']:\n",
    "            if k in gexf_networks[key].nodes[node]:\n",
    "                del gexf_networks[key].nodes[node][k]\n",
    "    for edge in gexf_networks[key].edges:\n",
    "        for k in ['coLocated', 'revues', 'cities', 'weights', 'edge_id', 'comments', 'general_comments', 'found']:\n",
    "            if k in gexf_networks[key].edges[edge]:\n",
    "                del gexf_networks[key].edges[edge][k]\n",
    "                \n",
    "for key in gexf_networks:\n",
    "    file_name = f'gephi/co-occurrence-{key}.gexf'\n",
    "    \n",
    "    nx.write_gexf(gexf_networks[key], file_name)\n",
    "    log(f'Saved {file_name}')"
   ]
  },
  {
   "cell_type": "code",
   "execution_count": null,
   "metadata": {},
   "outputs": [],
   "source": []
  },
  {
   "cell_type": "code",
   "execution_count": null,
   "metadata": {},
   "outputs": [],
   "source": []
  },
  {
   "cell_type": "markdown",
   "metadata": {},
   "source": [
    "# Another step\n",
    "\n",
    "Here, we are going to build a quick bipartite graph based on the artists' relationship to the city."
   ]
  },
  {
   "cell_type": "code",
   "execution_count": 63,
   "metadata": {},
   "outputs": [
    {
     "data": {
      "text/markdown": [
       "<font color=\"green\">[18:39:52] Adding connected network data for network `bipartite_network_city` (12 unique networks found)...</font>"
      ],
      "text/plain": [
       "<IPython.core.display.Markdown object>"
      ]
     },
     "metadata": {},
     "output_type": "display_data"
    }
   ],
   "source": [
    "# Set up network\n",
    "bipartite_network_city = nx.Graph()\n",
    "\n",
    "# Group by city\n",
    "for city, rows in df.groupby('City'):\n",
    "    if not city:\n",
    "        continue\n",
    "    for performer, date in zip([x for x in rows['Performer']], [x for x in rows['Date']]):\n",
    "        if (city, performer) in bipartite_network_city.edges:\n",
    "            bipartite_network_city.edges[(city, performer)]['weight'] += 1\n",
    "            bipartite_network_city.edges[(city, performer)]['dates'].append(date)\n",
    "        else:\n",
    "            bipartite_network_city.add_edge(city, performer, dates=[date], weight=1)\n",
    "            bipartite_network_city.nodes[city]['category'] = 'city'\n",
    "            bipartite_network_city.nodes[performer]['category'] = 'performer'\n",
    "\n",
    "            \n",
    "unique_networks = get_unique_networks(bipartite_network_city)\n",
    "log(f'Adding connected network data for network `bipartite_network_city` ({len(unique_networks)} unique networks found)...')\n",
    "\n",
    "for network_id, unique_network in enumerate(unique_networks, start=1):\n",
    "    for performer in unique_network:\n",
    "        bipartite_network_city.nodes[performer]['connected'] = {\n",
    "            'network': {\n",
    "                'nodes': [x for x in unique_network if not x == performer],\n",
    "                'network_id': network_id\n",
    "            }\n",
    "        }\n",
    "\n",
    "for edge in bipartite_network_city.edges:\n",
    "    bipartite_network_city.edges[edge]['dates'] = sorted(list(set(bipartite_network_city.edges[edge]['dates'])))\n",
    "    bipartite_network_city.edges[edge]['edge_id'] = slugify(f'{edge[0]}-{edge[1]}')\n",
    "    bipartite_network_city.edges[edge]['comments'] = []\n",
    "    bipartite_network_city.edges[edge]['general_comments'] = []\n",
    "    bipartite_network_city.edges[edge]['weights'] = {'numLocations': 0}\n",
    "    bipartite_network_city.edges[edge]['found'] = bipartite_network_city.edges[edge]['dates']\n",
    "    for e in edge:\n",
    "        if bipartite_network_city.nodes[e]['category'] == 'city':\n",
    "            bipartite_network_city.edges[edge]['coLocated'] = {e: [bipartite_network_city.edges[edge]['dates']]}\n",
    "    \n",
    "for node in bipartite_network_city.nodes:\n",
    "    bipartite_network_city.nodes[node]['node_id'] = slugify(node)\n",
    "    bipartite_network_city.nodes[node]['display'] = node\n",
    "    bipartite_network_city.nodes[node]['comments'] = []\n",
    "\n",
    "    \n",
    "degrees = {node: {'degrees': get_degrees(bipartite_network_city, node)} for node in bipartite_network_city.nodes}\n",
    "nx.set_node_attributes(bipartite_network_city, degrees)\n",
    "\n",
    "\n",
    "louvain = community_louvain.best_partition(bipartite_network_city)\n",
    "louvain = {performer: {'modularities': {'Louvain': community_number}} for performer, community_number in louvain.items()}\n",
    "\n",
    "c = nx.community.greedy_modularity_communities(bipartite_network_city)\n",
    "clauset_newman_moore = {performer: {'modularities': {'Clauset-Newman-Moore': community_number}} for community_number, list_of_performers in enumerate(c, start=1) for performer in list_of_performers}\n",
    "\n",
    "community_dicts = merge_community_dicts(louvain, clauset_newman_moore)\n",
    "\n",
    "nx.set_node_attributes(bipartite_network_city, community_dicts)\n",
    "\n",
    "\n",
    "bipartite_network_city = nx.subgraph_view(bipartite_network_city, filter_node=drop_unnamed)"
   ]
  },
  {
   "cell_type": "code",
   "execution_count": 64,
   "metadata": {},
   "outputs": [],
   "source": [
    "file_name = 'bipartite-city-data.json'\n",
    "\n",
    "data = nx.node_link_data(bipartite_network_city)\n",
    "data['createdDate'] = datetime.datetime.now().strftime('%Y-%m-%d %H:%M:%S')\n",
    "\n",
    "with open('./network-app/data/'+file_name, 'w+') as fp:\n",
    "    json.dump(obj=data, fp=fp)"
   ]
  },
  {
   "cell_type": "code",
   "execution_count": null,
   "metadata": {},
   "outputs": [],
   "source": []
  },
  {
   "cell_type": "code",
   "execution_count": null,
   "metadata": {},
   "outputs": [],
   "source": []
  },
  {
   "cell_type": "code",
   "execution_count": 65,
   "metadata": {},
   "outputs": [],
   "source": [
    "# Set up network\n",
    "unipartite_network_city = nx.Graph()\n",
    "\n",
    "grouped_df = df.groupby(['City', 'Performer'])\n",
    "grouped_dict = {}\n",
    "for key, rows in grouped_df:\n",
    "    \n",
    "    city, performer = key\n",
    "\n",
    "    if city == '':\n",
    "        continue\n",
    "        \n",
    "    grouped_dates = group_dates(list(set([x for x in rows['Date']])))\n",
    "\n",
    "    if not city in grouped_dict:\n",
    "        grouped_dict[city] = {}\n",
    "    \n",
    "    grouped_dict[city][performer] = grouped_dates\n",
    "    \n",
    "    #print(city, performer, grouped_dates)\n",
    "    \n",
    "    #for performer, date in zip([x for x in rows['Performer']], [x for x in rows['Date']]):\n",
    "    #    pass #print(performer, group_dates([x for x in rows['Date']]))\n",
    "    '''\n",
    "        for performer_target in [x for x in rows['Performer'] if not x == performer]:\n",
    "            edge = (performer, performer_target)\n",
    "            if (performer, performer_target) in unipartite_network_city.edges:\n",
    "                edge = (performer, performer_target)\n",
    "            elif (performer, performer_target) in unipartite_network_city.edges:\n",
    "                edge = (performer, performer_target)\n",
    "            else:\n",
    "                unipartite_network_city.add_edge(performer, performer_target, dates=[], cities=[], weight=1)\n",
    "                edge = (performer, performer_target)\n",
    "            unipartite_network_city.edges[edge]['dates'].append(date)\n",
    "            unipartite_network_city.edges[edge]['cities'].append(city)\n",
    "            unipartite_network_city.edges[edge]['weight'] += 1\n",
    "    '''\n",
    "    \n",
    "for city in grouped_dict:\n",
    "    for performer in grouped_dict[city]:\n",
    "        for performer_target, dates in grouped_dict[city].items():\n",
    "            if performer == performer_target:\n",
    "                continue\n",
    "            if not (performer, performer_target) in unipartite_network_city.edges:\n",
    "                unipartite_network_city.add_edge(performer, performer_target, cities=[], dates=[], coLocated={})\n",
    "\n",
    "            unipartite_network_city.edges[(performer, performer_target)]['coLocated'][city] = dates"
   ]
  },
  {
   "cell_type": "code",
   "execution_count": 66,
   "metadata": {},
   "outputs": [],
   "source": [
    "for edge in unipartite_network_city.edges:\n",
    "    unipartite_network_city.edges[edge]['cities'] = list(unipartite_network_city.edges[edge]['coLocated'].keys())\n",
    "    unipartite_network_city.edges[edge]['dates'] = []\n",
    "    for dates in unipartite_network_city.edges[edge]['coLocated'].values():\n",
    "        for group in dates:\n",
    "            unipartite_network_city.edges[edge]['dates'].extend(group)"
   ]
  },
  {
   "cell_type": "code",
   "execution_count": 67,
   "metadata": {},
   "outputs": [
    {
     "data": {
      "text/markdown": [
       "<font color=\"green\">[18:39:57] Adding connected network data for network `unipartite_network_city` (12 unique networks found)...</font>"
      ],
      "text/plain": [
       "<IPython.core.display.Markdown object>"
      ]
     },
     "metadata": {},
     "output_type": "display_data"
    },
    {
     "data": {
      "text/markdown": [
       "<font color=\"green\">[18:40:09] Adding edge data...</font>"
      ],
      "text/plain": [
       "<IPython.core.display.Markdown object>"
      ]
     },
     "metadata": {},
     "output_type": "display_data"
    },
    {
     "data": {
      "text/markdown": [
       "<font color=\"green\">[18:40:10] Adding node data...</font>"
      ],
      "text/plain": [
       "<IPython.core.display.Markdown object>"
      ]
     },
     "metadata": {},
     "output_type": "display_data"
    },
    {
     "data": {
      "text/markdown": [
       "<font color=\"green\">[18:40:10] Adding degrees to nodes...</font>"
      ],
      "text/plain": [
       "<IPython.core.display.Markdown object>"
      ]
     },
     "metadata": {},
     "output_type": "display_data"
    },
    {
     "data": {
      "text/markdown": [
       "<font color=\"green\">[18:40:24] Adding Louvain measure...</font>"
      ],
      "text/plain": [
       "<IPython.core.display.Markdown object>"
      ]
     },
     "metadata": {},
     "output_type": "display_data"
    },
    {
     "data": {
      "text/markdown": [
       "<font color=\"green\">[18:40:25] Adding CNM measure...</font>"
      ],
      "text/plain": [
       "<IPython.core.display.Markdown object>"
      ]
     },
     "metadata": {},
     "output_type": "display_data"
    },
    {
     "data": {
      "text/markdown": [
       "<font color=\"green\">[18:40:27] Filtering all the unnamed performers...</font>"
      ],
      "text/plain": [
       "<IPython.core.display.Markdown object>"
      ]
     },
     "metadata": {},
     "output_type": "display_data"
    }
   ],
   "source": [
    "log(f'Adding connected network data for network `unipartite_network_city` ({len(unique_networks)} unique networks found)...')\n",
    "unique_networks = get_unique_networks(unipartite_network_city)\n",
    "\n",
    "for network_id, unique_network in enumerate(unique_networks, start=1):\n",
    "    for performer in unique_network:\n",
    "        unipartite_network_city.nodes[performer]['connected'] = {\n",
    "            'network': {\n",
    "                'nodes': [x for x in unique_network if not x == performer],\n",
    "                'network_id': network_id\n",
    "            }\n",
    "        }\n",
    "\n",
    "log(f'Adding edge data...')\n",
    "for edge in unipartite_network_city.edges:\n",
    "    unipartite_network_city.edges[edge]['dates'] = sorted(list(set(unipartite_network_city.edges[edge]['dates'])))\n",
    "    unipartite_network_city.edges[edge]['edge_id'] = slugify(f'{edge[0]}-{edge[1]}')\n",
    "    unipartite_network_city.edges[edge]['comments'] = []\n",
    "    unipartite_network_city.edges[edge]['general_comments'] = []\n",
    "    unipartite_network_city.edges[edge]['weights'] = {'numLocations': 0}\n",
    "    unipartite_network_city.edges[edge]['found'] = unipartite_network_city.edges[edge]['dates']\n",
    "    unipartite_network_city.edges[edge]['coLocated'] = {}\n",
    "    for city in unipartite_network_city.edges[edge]['cities']:\n",
    "        unipartite_network_city.edges[edge]['coLocated'][city] = [[unipartite_network_city.edges[edge]['dates']]]\n",
    "    \n",
    "log(f'Adding node data...')\n",
    "for node in unipartite_network_city.nodes:\n",
    "    unipartite_network_city.nodes[node]['node_id'] = slugify(node)\n",
    "    unipartite_network_city.nodes[node]['display'] = node\n",
    "    unipartite_network_city.nodes[node]['comments'] = []\n",
    "    unipartite_network_city.nodes[node]['category'] = 'performer'\n",
    "\n",
    "    \n",
    "log(f'Adding degrees to nodes...')\n",
    "degrees = {node: {'degrees': get_degrees(unipartite_network_city, node)} for node in unipartite_network_city.nodes}\n",
    "nx.set_node_attributes(unipartite_network_city, degrees)\n",
    "\n",
    "\n",
    "log(f'Adding Louvain measure...')\n",
    "louvain = community_louvain.best_partition(unipartite_network_city)\n",
    "louvain = {performer: {'modularities': {'Louvain': community_number}} for performer, community_number in louvain.items()}\n",
    "\n",
    "log(f'Adding CNM measure...')\n",
    "c = nx.community.greedy_modularity_communities(unipartite_network_city)\n",
    "clauset_newman_moore = {performer: {'modularities': {'Clauset-Newman-Moore': community_number}} for community_number, list_of_performers in enumerate(c, start=1) for performer in list_of_performers}\n",
    "\n",
    "community_dicts = merge_community_dicts(louvain, clauset_newman_moore)\n",
    "\n",
    "nx.set_node_attributes(unipartite_network_city, community_dicts)\n",
    "\n",
    "\n",
    "log(f'Filtering all the unnamed performers...')\n",
    "unipartite_network_city = nx.subgraph_view(unipartite_network_city, filter_node=drop_unnamed)"
   ]
  },
  {
   "cell_type": "code",
   "execution_count": 68,
   "metadata": {},
   "outputs": [],
   "source": [
    "file_name = 'unipartite-city-data.json'\n",
    "\n",
    "data = nx.node_link_data(unipartite_network_city)\n",
    "data['createdDate'] = datetime.datetime.now().strftime('%Y-%m-%d %H:%M:%S')\n",
    "\n",
    "with open('./network-app/data/'+file_name, 'w+') as fp:\n",
    "    json.dump(obj=data, fp=fp)"
   ]
  },
  {
   "cell_type": "code",
   "execution_count": null,
   "metadata": {},
   "outputs": [],
   "source": []
  },
  {
   "cell_type": "code",
   "execution_count": null,
   "metadata": {},
   "outputs": [],
   "source": []
  }
 ],
 "metadata": {
  "hide_input": false,
  "kernelspec": {
   "display_name": "Python 3",
   "language": "python",
   "name": "python3"
  },
  "language_info": {
   "codemirror_mode": {
    "name": "ipython",
    "version": 3
   },
   "file_extension": ".py",
   "mimetype": "text/x-python",
   "name": "python",
   "nbconvert_exporter": "python",
   "pygments_lexer": "ipython3",
   "version": "3.8.5"
  },
  "toc": {
   "base_numbering": 1,
   "nav_menu": {},
   "number_sections": true,
   "sideBar": true,
   "skip_h1_title": false,
   "title_cell": "Table of Contents",
   "title_sidebar": "Contents",
   "toc_cell": false,
   "toc_position": {
    "height": "calc(100% - 180px)",
    "left": "10px",
    "top": "150px",
    "width": "415.208px"
   },
   "toc_section_display": true,
   "toc_window_display": true
  }
 },
 "nbformat": 4,
 "nbformat_minor": 4
}
